{
 "cells": [
  {
   "cell_type": "markdown",
   "id": "ade91c73",
   "metadata": {
    "papermill": {
     "duration": 0.03315,
     "end_time": "2022-11-26T18:52:45.757059",
     "exception": false,
     "start_time": "2022-11-26T18:52:45.723909",
     "status": "completed"
    },
    "tags": []
   },
   "source": [
    "# Análise de Risco de Inadimplência de Clientes\n",
    "\n",
    "Segue-se um relatório que poderia ser destinado para a divisão de empréstimos de um banco.\n",
    "A ideia aqui é tratar os dados para responder algumas perguntas.\n",
    "* Será que o estado civil de um cliente e o número de filhos têm impacto sobre a inadimplência nos empréstimos realizados?\n",
    "* Existem motivações para adquirir empréstimos mais arriscadas que outras?\n",
    "* O nível de renda afeta os pagamentos de empréstimos em dia?\n",
    "* Como a finalidade do crédito afeta a taxa de inadimplência?\n",
    "\n",
    "O banco já tem alguns dados sobre a capacidade de crédito dos clientes."
   ]
  },
  {
   "cell_type": "markdown",
   "id": "3272a377",
   "metadata": {
    "papermill": {
     "duration": 0.031144,
     "end_time": "2022-11-26T18:52:45.820610",
     "exception": false,
     "start_time": "2022-11-26T18:52:45.789466",
     "status": "completed"
    },
    "tags": []
   },
   "source": [
    "# Índice <a id='back'></a>\n",
    "\n",
    "1. [Exploração de Dados](#1)\n",
    "    * [Conclusões](#1C)\n",
    "2. [Transformação de Dados](#2)\n",
    "3. [Trabalhando com valores ausentes](#3)\n",
    "    * [Restaurar valores ausentes em `total_income`](#31)\n",
    "    * [Restaurar valores ausentes em `days_employed`](#32)\n",
    "4. [Categorização de Dados](#4)\n",
    "5. [Verificar as Hipóteses](#5)\n",
    "6. [Conclusão Geral](#6)\n",
    "7. [REFERÊNCIAS](#end)"
   ]
  },
  {
   "cell_type": "code",
   "execution_count": 1,
   "id": "c72033fa",
   "metadata": {
    "execution": {
     "iopub.execute_input": "2022-11-26T18:52:45.885186Z",
     "iopub.status.busy": "2022-11-26T18:52:45.884703Z",
     "iopub.status.idle": "2022-11-26T18:52:45.976612Z",
     "shell.execute_reply": "2022-11-26T18:52:45.975684Z"
    },
    "papermill": {
     "duration": 0.127448,
     "end_time": "2022-11-26T18:52:45.979175",
     "exception": false,
     "start_time": "2022-11-26T18:52:45.851727",
     "status": "completed"
    },
    "tags": []
   },
   "outputs": [],
   "source": [
    "# Carregando todas as bibliotecas e abrir o local do arquivo\n",
    "import pandas as pd\n",
    "import datetime as dt\n",
    "import numpy as np\n",
    "# Carregue os dados\n",
    "import os;\n",
    "os.listdir('/kaggle/input/')\n",
    "df = pd.read_csv('/kaggle/input/credit-scoring/credit_scoring_eng.csv')"
   ]
  },
  {
   "cell_type": "markdown",
   "id": "8789076b",
   "metadata": {
    "papermill": {
     "duration": 0.031637,
     "end_time": "2022-11-26T18:52:46.043564",
     "exception": false,
     "start_time": "2022-11-26T18:52:46.011927",
     "status": "completed"
    },
    "tags": []
   },
   "source": [
    "## 1. Exploração de Dados <a id='1'></a>\n",
    "\n",
    "**Descrição dos dados**\n",
    "- `children` - o número de crianças na família\n",
    "- `days_employed` - experiência de trabalho em dias\n",
    "- `dob_years` - idade do cliente em anos\n",
    "- `education` - educação do cliente\n",
    "- `education_id` - identificador de educação\n",
    "- `family_status` - estado civil do cliente\n",
    "- `family_status_id` - identificador de estado civil\n",
    "- `gender` - gênero do cliente\n",
    "- `income_type` - tipo de emprego\n",
    "- `debt` - havia alguma dívida no pagamento do empréstimo\n",
    "- `total_income` - renda mensal\n",
    "- `purpose` - o objetivo de obter um empréstimo\n",
    "\n",
    "Agora vamos explorar nossos dados para verificar possíveis problemas com eles.\n",
    "\n",
    "[Voltar ao Índice](#back)"
   ]
  },
  {
   "cell_type": "code",
   "execution_count": 2,
   "id": "5c8048d2",
   "metadata": {
    "execution": {
     "iopub.execute_input": "2022-11-26T18:52:46.108763Z",
     "iopub.status.busy": "2022-11-26T18:52:46.108044Z",
     "iopub.status.idle": "2022-11-26T18:52:46.113061Z",
     "shell.execute_reply": "2022-11-26T18:52:46.112295Z"
    },
    "papermill": {
     "duration": 0.040497,
     "end_time": "2022-11-26T18:52:46.115778",
     "exception": false,
     "start_time": "2022-11-26T18:52:46.075281",
     "status": "completed"
    },
    "tags": []
   },
   "outputs": [
    {
     "name": "stdout",
     "output_type": "stream",
     "text": [
      "O DataFrame contém 21525 linhas e 12 colunas.\n"
     ]
    }
   ],
   "source": [
    "# Verificar quantas linhas e colunas nosso conjunto de dados tem\n",
    "print(f'O DataFrame contém {df.shape[0]} linhas e {df.shape[1]} colunas.')"
   ]
  },
  {
   "cell_type": "code",
   "execution_count": 3,
   "id": "1c5965a0",
   "metadata": {
    "execution": {
     "iopub.execute_input": "2022-11-26T18:52:46.183146Z",
     "iopub.status.busy": "2022-11-26T18:52:46.182405Z",
     "iopub.status.idle": "2022-11-26T18:52:46.213457Z",
     "shell.execute_reply": "2022-11-26T18:52:46.212243Z"
    },
    "papermill": {
     "duration": 0.067805,
     "end_time": "2022-11-26T18:52:46.215987",
     "exception": false,
     "start_time": "2022-11-26T18:52:46.148182",
     "status": "completed"
    },
    "tags": []
   },
   "outputs": [
    {
     "data": {
      "text/html": [
       "<div>\n",
       "<style scoped>\n",
       "    .dataframe tbody tr th:only-of-type {\n",
       "        vertical-align: middle;\n",
       "    }\n",
       "\n",
       "    .dataframe tbody tr th {\n",
       "        vertical-align: top;\n",
       "    }\n",
       "\n",
       "    .dataframe thead th {\n",
       "        text-align: right;\n",
       "    }\n",
       "</style>\n",
       "<table border=\"1\" class=\"dataframe\">\n",
       "  <thead>\n",
       "    <tr style=\"text-align: right;\">\n",
       "      <th></th>\n",
       "      <th>children</th>\n",
       "      <th>days_employed</th>\n",
       "      <th>dob_years</th>\n",
       "      <th>education</th>\n",
       "      <th>education_id</th>\n",
       "      <th>family_status</th>\n",
       "      <th>family_status_id</th>\n",
       "      <th>gender</th>\n",
       "      <th>income_type</th>\n",
       "      <th>debt</th>\n",
       "      <th>total_income</th>\n",
       "      <th>purpose</th>\n",
       "    </tr>\n",
       "  </thead>\n",
       "  <tbody>\n",
       "    <tr>\n",
       "      <th>0</th>\n",
       "      <td>1</td>\n",
       "      <td>-8437.673028</td>\n",
       "      <td>42</td>\n",
       "      <td>bachelor's degree</td>\n",
       "      <td>0</td>\n",
       "      <td>married</td>\n",
       "      <td>0</td>\n",
       "      <td>F</td>\n",
       "      <td>employee</td>\n",
       "      <td>0</td>\n",
       "      <td>40620.102</td>\n",
       "      <td>purchase of the house</td>\n",
       "    </tr>\n",
       "    <tr>\n",
       "      <th>1</th>\n",
       "      <td>1</td>\n",
       "      <td>-4024.803754</td>\n",
       "      <td>36</td>\n",
       "      <td>secondary education</td>\n",
       "      <td>1</td>\n",
       "      <td>married</td>\n",
       "      <td>0</td>\n",
       "      <td>F</td>\n",
       "      <td>employee</td>\n",
       "      <td>0</td>\n",
       "      <td>17932.802</td>\n",
       "      <td>car purchase</td>\n",
       "    </tr>\n",
       "    <tr>\n",
       "      <th>2</th>\n",
       "      <td>0</td>\n",
       "      <td>-5623.422610</td>\n",
       "      <td>33</td>\n",
       "      <td>Secondary Education</td>\n",
       "      <td>1</td>\n",
       "      <td>married</td>\n",
       "      <td>0</td>\n",
       "      <td>M</td>\n",
       "      <td>employee</td>\n",
       "      <td>0</td>\n",
       "      <td>23341.752</td>\n",
       "      <td>purchase of the house</td>\n",
       "    </tr>\n",
       "    <tr>\n",
       "      <th>3</th>\n",
       "      <td>3</td>\n",
       "      <td>-4124.747207</td>\n",
       "      <td>32</td>\n",
       "      <td>secondary education</td>\n",
       "      <td>1</td>\n",
       "      <td>married</td>\n",
       "      <td>0</td>\n",
       "      <td>M</td>\n",
       "      <td>employee</td>\n",
       "      <td>0</td>\n",
       "      <td>42820.568</td>\n",
       "      <td>supplementary education</td>\n",
       "    </tr>\n",
       "    <tr>\n",
       "      <th>4</th>\n",
       "      <td>0</td>\n",
       "      <td>340266.072047</td>\n",
       "      <td>53</td>\n",
       "      <td>secondary education</td>\n",
       "      <td>1</td>\n",
       "      <td>civil partnership</td>\n",
       "      <td>1</td>\n",
       "      <td>F</td>\n",
       "      <td>retiree</td>\n",
       "      <td>0</td>\n",
       "      <td>25378.572</td>\n",
       "      <td>to have a wedding</td>\n",
       "    </tr>\n",
       "    <tr>\n",
       "      <th>5</th>\n",
       "      <td>0</td>\n",
       "      <td>-926.185831</td>\n",
       "      <td>27</td>\n",
       "      <td>bachelor's degree</td>\n",
       "      <td>0</td>\n",
       "      <td>civil partnership</td>\n",
       "      <td>1</td>\n",
       "      <td>M</td>\n",
       "      <td>business</td>\n",
       "      <td>0</td>\n",
       "      <td>40922.170</td>\n",
       "      <td>purchase of the house</td>\n",
       "    </tr>\n",
       "    <tr>\n",
       "      <th>6</th>\n",
       "      <td>0</td>\n",
       "      <td>-2879.202052</td>\n",
       "      <td>43</td>\n",
       "      <td>bachelor's degree</td>\n",
       "      <td>0</td>\n",
       "      <td>married</td>\n",
       "      <td>0</td>\n",
       "      <td>F</td>\n",
       "      <td>business</td>\n",
       "      <td>0</td>\n",
       "      <td>38484.156</td>\n",
       "      <td>housing transactions</td>\n",
       "    </tr>\n",
       "    <tr>\n",
       "      <th>7</th>\n",
       "      <td>0</td>\n",
       "      <td>-152.779569</td>\n",
       "      <td>50</td>\n",
       "      <td>SECONDARY EDUCATION</td>\n",
       "      <td>1</td>\n",
       "      <td>married</td>\n",
       "      <td>0</td>\n",
       "      <td>M</td>\n",
       "      <td>employee</td>\n",
       "      <td>0</td>\n",
       "      <td>21731.829</td>\n",
       "      <td>education</td>\n",
       "    </tr>\n",
       "    <tr>\n",
       "      <th>8</th>\n",
       "      <td>2</td>\n",
       "      <td>-6929.865299</td>\n",
       "      <td>35</td>\n",
       "      <td>BACHELOR'S DEGREE</td>\n",
       "      <td>0</td>\n",
       "      <td>civil partnership</td>\n",
       "      <td>1</td>\n",
       "      <td>F</td>\n",
       "      <td>employee</td>\n",
       "      <td>0</td>\n",
       "      <td>15337.093</td>\n",
       "      <td>having a wedding</td>\n",
       "    </tr>\n",
       "    <tr>\n",
       "      <th>9</th>\n",
       "      <td>0</td>\n",
       "      <td>-2188.756445</td>\n",
       "      <td>41</td>\n",
       "      <td>secondary education</td>\n",
       "      <td>1</td>\n",
       "      <td>married</td>\n",
       "      <td>0</td>\n",
       "      <td>M</td>\n",
       "      <td>employee</td>\n",
       "      <td>0</td>\n",
       "      <td>23108.150</td>\n",
       "      <td>purchase of the house for my family</td>\n",
       "    </tr>\n",
       "  </tbody>\n",
       "</table>\n",
       "</div>"
      ],
      "text/plain": [
       "   children  days_employed  dob_years            education  education_id  \\\n",
       "0         1   -8437.673028         42    bachelor's degree             0   \n",
       "1         1   -4024.803754         36  secondary education             1   \n",
       "2         0   -5623.422610         33  Secondary Education             1   \n",
       "3         3   -4124.747207         32  secondary education             1   \n",
       "4         0  340266.072047         53  secondary education             1   \n",
       "5         0    -926.185831         27    bachelor's degree             0   \n",
       "6         0   -2879.202052         43    bachelor's degree             0   \n",
       "7         0    -152.779569         50  SECONDARY EDUCATION             1   \n",
       "8         2   -6929.865299         35    BACHELOR'S DEGREE             0   \n",
       "9         0   -2188.756445         41  secondary education             1   \n",
       "\n",
       "       family_status  family_status_id gender income_type  debt  total_income  \\\n",
       "0            married                 0      F    employee     0     40620.102   \n",
       "1            married                 0      F    employee     0     17932.802   \n",
       "2            married                 0      M    employee     0     23341.752   \n",
       "3            married                 0      M    employee     0     42820.568   \n",
       "4  civil partnership                 1      F     retiree     0     25378.572   \n",
       "5  civil partnership                 1      M    business     0     40922.170   \n",
       "6            married                 0      F    business     0     38484.156   \n",
       "7            married                 0      M    employee     0     21731.829   \n",
       "8  civil partnership                 1      F    employee     0     15337.093   \n",
       "9            married                 0      M    employee     0     23108.150   \n",
       "\n",
       "                               purpose  \n",
       "0                purchase of the house  \n",
       "1                         car purchase  \n",
       "2                purchase of the house  \n",
       "3              supplementary education  \n",
       "4                    to have a wedding  \n",
       "5                purchase of the house  \n",
       "6                 housing transactions  \n",
       "7                            education  \n",
       "8                     having a wedding  \n",
       "9  purchase of the house for my family  "
      ]
     },
     "metadata": {},
     "output_type": "display_data"
    }
   ],
   "source": [
    "# vamos exibir as primeiras N linhas\n",
    "display(df.head(10))"
   ]
  },
  {
   "cell_type": "code",
   "execution_count": 4,
   "id": "9669cb95",
   "metadata": {
    "execution": {
     "iopub.execute_input": "2022-11-26T18:52:46.281828Z",
     "iopub.status.busy": "2022-11-26T18:52:46.281034Z",
     "iopub.status.idle": "2022-11-26T18:52:46.327201Z",
     "shell.execute_reply": "2022-11-26T18:52:46.326075Z"
    },
    "papermill": {
     "duration": 0.081894,
     "end_time": "2022-11-26T18:52:46.329741",
     "exception": false,
     "start_time": "2022-11-26T18:52:46.247847",
     "status": "completed"
    },
    "tags": []
   },
   "outputs": [
    {
     "data": {
      "text/html": [
       "<div>\n",
       "<style scoped>\n",
       "    .dataframe tbody tr th:only-of-type {\n",
       "        vertical-align: middle;\n",
       "    }\n",
       "\n",
       "    .dataframe tbody tr th {\n",
       "        vertical-align: top;\n",
       "    }\n",
       "\n",
       "    .dataframe thead th {\n",
       "        text-align: right;\n",
       "    }\n",
       "</style>\n",
       "<table border=\"1\" class=\"dataframe\">\n",
       "  <thead>\n",
       "    <tr style=\"text-align: right;\">\n",
       "      <th></th>\n",
       "      <th>children</th>\n",
       "      <th>days_employed</th>\n",
       "      <th>dob_years</th>\n",
       "      <th>education_id</th>\n",
       "      <th>family_status_id</th>\n",
       "      <th>debt</th>\n",
       "      <th>total_income</th>\n",
       "    </tr>\n",
       "  </thead>\n",
       "  <tbody>\n",
       "    <tr>\n",
       "      <th>count</th>\n",
       "      <td>21525.000000</td>\n",
       "      <td>19351.000000</td>\n",
       "      <td>21525.000000</td>\n",
       "      <td>21525.000000</td>\n",
       "      <td>21525.000000</td>\n",
       "      <td>21525.000000</td>\n",
       "      <td>19351.000000</td>\n",
       "    </tr>\n",
       "    <tr>\n",
       "      <th>mean</th>\n",
       "      <td>0.538908</td>\n",
       "      <td>63046.497661</td>\n",
       "      <td>43.293380</td>\n",
       "      <td>0.817236</td>\n",
       "      <td>0.972544</td>\n",
       "      <td>0.080883</td>\n",
       "      <td>26787.568355</td>\n",
       "    </tr>\n",
       "    <tr>\n",
       "      <th>std</th>\n",
       "      <td>1.381587</td>\n",
       "      <td>140827.311974</td>\n",
       "      <td>12.574584</td>\n",
       "      <td>0.548138</td>\n",
       "      <td>1.420324</td>\n",
       "      <td>0.272661</td>\n",
       "      <td>16475.450632</td>\n",
       "    </tr>\n",
       "    <tr>\n",
       "      <th>min</th>\n",
       "      <td>-1.000000</td>\n",
       "      <td>-18388.949901</td>\n",
       "      <td>0.000000</td>\n",
       "      <td>0.000000</td>\n",
       "      <td>0.000000</td>\n",
       "      <td>0.000000</td>\n",
       "      <td>3306.762000</td>\n",
       "    </tr>\n",
       "    <tr>\n",
       "      <th>25%</th>\n",
       "      <td>0.000000</td>\n",
       "      <td>-2747.423625</td>\n",
       "      <td>33.000000</td>\n",
       "      <td>1.000000</td>\n",
       "      <td>0.000000</td>\n",
       "      <td>0.000000</td>\n",
       "      <td>16488.504500</td>\n",
       "    </tr>\n",
       "    <tr>\n",
       "      <th>50%</th>\n",
       "      <td>0.000000</td>\n",
       "      <td>-1203.369529</td>\n",
       "      <td>42.000000</td>\n",
       "      <td>1.000000</td>\n",
       "      <td>0.000000</td>\n",
       "      <td>0.000000</td>\n",
       "      <td>23202.870000</td>\n",
       "    </tr>\n",
       "    <tr>\n",
       "      <th>75%</th>\n",
       "      <td>1.000000</td>\n",
       "      <td>-291.095954</td>\n",
       "      <td>53.000000</td>\n",
       "      <td>1.000000</td>\n",
       "      <td>1.000000</td>\n",
       "      <td>0.000000</td>\n",
       "      <td>32549.611000</td>\n",
       "    </tr>\n",
       "    <tr>\n",
       "      <th>max</th>\n",
       "      <td>20.000000</td>\n",
       "      <td>401755.400475</td>\n",
       "      <td>75.000000</td>\n",
       "      <td>4.000000</td>\n",
       "      <td>4.000000</td>\n",
       "      <td>1.000000</td>\n",
       "      <td>362496.645000</td>\n",
       "    </tr>\n",
       "  </tbody>\n",
       "</table>\n",
       "</div>"
      ],
      "text/plain": [
       "           children  days_employed     dob_years  education_id  \\\n",
       "count  21525.000000   19351.000000  21525.000000  21525.000000   \n",
       "mean       0.538908   63046.497661     43.293380      0.817236   \n",
       "std        1.381587  140827.311974     12.574584      0.548138   \n",
       "min       -1.000000  -18388.949901      0.000000      0.000000   \n",
       "25%        0.000000   -2747.423625     33.000000      1.000000   \n",
       "50%        0.000000   -1203.369529     42.000000      1.000000   \n",
       "75%        1.000000    -291.095954     53.000000      1.000000   \n",
       "max       20.000000  401755.400475     75.000000      4.000000   \n",
       "\n",
       "       family_status_id          debt   total_income  \n",
       "count      21525.000000  21525.000000   19351.000000  \n",
       "mean           0.972544      0.080883   26787.568355  \n",
       "std            1.420324      0.272661   16475.450632  \n",
       "min            0.000000      0.000000    3306.762000  \n",
       "25%            0.000000      0.000000   16488.504500  \n",
       "50%            0.000000      0.000000   23202.870000  \n",
       "75%            1.000000      0.000000   32549.611000  \n",
       "max            4.000000      1.000000  362496.645000  "
      ]
     },
     "metadata": {},
     "output_type": "display_data"
    }
   ],
   "source": [
    "# Verificar as principais variáveis descritivas\n",
    "display(df.describe())"
   ]
  },
  {
   "cell_type": "code",
   "execution_count": 5,
   "id": "65946156",
   "metadata": {
    "execution": {
     "iopub.execute_input": "2022-11-26T18:52:46.398012Z",
     "iopub.status.busy": "2022-11-26T18:52:46.397624Z",
     "iopub.status.idle": "2022-11-26T18:52:46.704576Z",
     "shell.execute_reply": "2022-11-26T18:52:46.703749Z"
    },
    "papermill": {
     "duration": 0.342744,
     "end_time": "2022-11-26T18:52:46.706909",
     "exception": false,
     "start_time": "2022-11-26T18:52:46.364165",
     "status": "completed"
    },
    "tags": []
   },
   "outputs": [
    {
     "data": {
      "image/png": "[encoded data removed]",
      "text/plain": [
       "<Figure size 432x288 with 1 Axes>"
      ]
     },
     "metadata": {
      "needs_background": "light"
     },
     "output_type": "display_data"
    }
   ],
   "source": [
    "# Explorar os valores discrepantes\n",
    "boxplot = df.boxplot(column=['children', 'days_employed', 'dob_years', 'debt', 'total_income'])"
   ]
  },
  {
   "cell_type": "markdown",
   "id": "80593768",
   "metadata": {
    "papermill": {
     "duration": 0.032168,
     "end_time": "2022-11-26T18:52:46.771782",
     "exception": false,
     "start_time": "2022-11-26T18:52:46.739614",
     "status": "completed"
    },
    "tags": []
   },
   "source": [
    "- `days_employed` e `total_income` são as variáveis que mais precisam atenção no tratamento, seus dados são bem dispersos e possuem ambas desvio padrão muito acentuado.\n",
    "\n",
    "- Em `children` deve-se avaliar se há valores discrepantes.  Essa variável atinge seu valor máximo em 20 e valor mínimo em -1. Essa variável só deve aceitar valores inteiros e positivos.\n",
    "\n",
    "- Em `days_employed` há números negativos e valores extremos. A variável é definida como experiência de trabalhos em dias, logo compreende-se que não se deve haver dias negativos e nem mesmo dias fracionados. Essa variável deve ser inteira e positiva. Porém, no mínimo, 75% dos dados são números negativos.\n",
    "\n",
    "- Em `dob_years` deve-se avaliar se há valores discrepantes. Essa variável só deve aceitar valores inteiros e positivos. Porém assume valor mínimo em 0, assim, deve-se avaliar juntamente com outras variáveis se são dados de contas de clientes com menos de 1 ano de vida — muitos bancos abrem contas de crianças com responsáveis sendo os próprios pais. \n",
    "\n",
    "- Em `education` há variáveis qualitativas duplicatas implícitas. A correção pode ser verificada com a variável `education_id`.\n",
    "\n",
    "- Em `family_status` deve-se avaliar se não há dados duplicados de forma implícita. A correção pode ser verificada com a variável `family_status_id`.\n",
    "\n",
    "- Em `gender` deve-se avaliar se não há dados duplicados de forma implícita.\n",
    "\n",
    "- Em `income_type` deve-se avaliar se não há dados duplicados de forma implícita.\n",
    "\n",
    "- Em `debt` só aceita-se valores 1 ou 0. Para 1 se já deixou de pagar um empréstimo e 0 para quem sempre pagou empréstimo ou nunca adquiriu um.\n",
    "\n",
    "- Em `total_income` há apenas valores positivos. Uma vez que a renda não pode ser negativa.\n",
    "\n",
    "- Em `purpose` deve-se avaliar se há alguma variável qualitativa duplicada de forma implícita.\n",
    "\n",
    "[Voltar ao Índice](#back)"
   ]
  },
  {
   "cell_type": "code",
   "execution_count": 6,
   "id": "5196b081",
   "metadata": {
    "execution": {
     "iopub.execute_input": "2022-11-26T18:52:46.838611Z",
     "iopub.status.busy": "2022-11-26T18:52:46.837747Z",
     "iopub.status.idle": "2022-11-26T18:52:46.856717Z",
     "shell.execute_reply": "2022-11-26T18:52:46.855867Z"
    },
    "papermill": {
     "duration": 0.054727,
     "end_time": "2022-11-26T18:52:46.859244",
     "exception": false,
     "start_time": "2022-11-26T18:52:46.804517",
     "status": "completed"
    },
    "tags": []
   },
   "outputs": [
    {
     "name": "stdout",
     "output_type": "stream",
     "text": [
      "<class 'pandas.core.frame.DataFrame'>\n",
      "RangeIndex: 21525 entries, 0 to 21524\n",
      "Data columns (total 12 columns):\n",
      " #   Column            Non-Null Count  Dtype  \n",
      "---  ------            --------------  -----  \n",
      " 0   children          21525 non-null  int64  \n",
      " 1   days_employed     19351 non-null  float64\n",
      " 2   dob_years         21525 non-null  int64  \n",
      " 3   education         21525 non-null  object \n",
      " 4   education_id      21525 non-null  int64  \n",
      " 5   family_status     21525 non-null  object \n",
      " 6   family_status_id  21525 non-null  int64  \n",
      " 7   gender            21525 non-null  object \n",
      " 8   income_type       21525 non-null  object \n",
      " 9   debt              21525 non-null  int64  \n",
      " 10  total_income      19351 non-null  float64\n",
      " 11  purpose           21525 non-null  object \n",
      "dtypes: float64(2), int64(5), object(5)\n",
      "memory usage: 2.0+ MB\n"
     ]
    }
   ],
   "source": [
    "# Obter informações sobre dados\n",
    "df.info()"
   ]
  },
  {
   "cell_type": "markdown",
   "id": "c4afa00b",
   "metadata": {
    "papermill": {
     "duration": 0.031783,
     "end_time": "2022-11-26T18:52:46.923783",
     "exception": false,
     "start_time": "2022-11-26T18:52:46.892000",
     "status": "completed"
    },
    "tags": []
   },
   "source": [
    "- Há valores ausentes nas variáveis `days_employed` e `total_income`. \n",
    "\n",
    "- Em `days_employed`, seus valores ausentes podem estar relacionados a ausência de experiência de trabalho ou falta de resposta. Comparar com a variável `income_type` pode sugerir qual a opção correta.\n",
    "\n",
    "- Em `total_income` esses valores podem estar ausentes por falta de renda ou recusa em apresentar essas informações por parte dos clientes. É interessante comparar com a variável `income_type` para distinguir entre as duas opções."
   ]
  },
  {
   "cell_type": "code",
   "execution_count": 7,
   "id": "0cbcf044",
   "metadata": {
    "execution": {
     "iopub.execute_input": "2022-11-26T18:52:46.990499Z",
     "iopub.status.busy": "2022-11-26T18:52:46.989722Z",
     "iopub.status.idle": "2022-11-26T18:52:47.015124Z",
     "shell.execute_reply": "2022-11-26T18:52:47.013867Z"
    },
    "papermill": {
     "duration": 0.061442,
     "end_time": "2022-11-26T18:52:47.017534",
     "exception": false,
     "start_time": "2022-11-26T18:52:46.956092",
     "status": "completed"
    },
    "tags": []
   },
   "outputs": [
    {
     "data": {
      "text/html": [
       "<div>\n",
       "<style scoped>\n",
       "    .dataframe tbody tr th:only-of-type {\n",
       "        vertical-align: middle;\n",
       "    }\n",
       "\n",
       "    .dataframe tbody tr th {\n",
       "        vertical-align: top;\n",
       "    }\n",
       "\n",
       "    .dataframe thead th {\n",
       "        text-align: right;\n",
       "    }\n",
       "</style>\n",
       "<table border=\"1\" class=\"dataframe\">\n",
       "  <thead>\n",
       "    <tr style=\"text-align: right;\">\n",
       "      <th></th>\n",
       "      <th>children</th>\n",
       "      <th>days_employed</th>\n",
       "      <th>dob_years</th>\n",
       "      <th>education</th>\n",
       "      <th>education_id</th>\n",
       "      <th>family_status</th>\n",
       "      <th>family_status_id</th>\n",
       "      <th>gender</th>\n",
       "      <th>income_type</th>\n",
       "      <th>debt</th>\n",
       "      <th>total_income</th>\n",
       "      <th>purpose</th>\n",
       "    </tr>\n",
       "  </thead>\n",
       "  <tbody>\n",
       "    <tr>\n",
       "      <th>12</th>\n",
       "      <td>0</td>\n",
       "      <td>NaN</td>\n",
       "      <td>65</td>\n",
       "      <td>secondary education</td>\n",
       "      <td>1</td>\n",
       "      <td>civil partnership</td>\n",
       "      <td>1</td>\n",
       "      <td>M</td>\n",
       "      <td>retiree</td>\n",
       "      <td>0</td>\n",
       "      <td>NaN</td>\n",
       "      <td>to have a wedding</td>\n",
       "    </tr>\n",
       "    <tr>\n",
       "      <th>26</th>\n",
       "      <td>0</td>\n",
       "      <td>NaN</td>\n",
       "      <td>41</td>\n",
       "      <td>secondary education</td>\n",
       "      <td>1</td>\n",
       "      <td>married</td>\n",
       "      <td>0</td>\n",
       "      <td>M</td>\n",
       "      <td>civil servant</td>\n",
       "      <td>0</td>\n",
       "      <td>NaN</td>\n",
       "      <td>education</td>\n",
       "    </tr>\n",
       "    <tr>\n",
       "      <th>29</th>\n",
       "      <td>0</td>\n",
       "      <td>NaN</td>\n",
       "      <td>63</td>\n",
       "      <td>secondary education</td>\n",
       "      <td>1</td>\n",
       "      <td>unmarried</td>\n",
       "      <td>4</td>\n",
       "      <td>F</td>\n",
       "      <td>retiree</td>\n",
       "      <td>0</td>\n",
       "      <td>NaN</td>\n",
       "      <td>building a real estate</td>\n",
       "    </tr>\n",
       "    <tr>\n",
       "      <th>41</th>\n",
       "      <td>0</td>\n",
       "      <td>NaN</td>\n",
       "      <td>50</td>\n",
       "      <td>secondary education</td>\n",
       "      <td>1</td>\n",
       "      <td>married</td>\n",
       "      <td>0</td>\n",
       "      <td>F</td>\n",
       "      <td>civil servant</td>\n",
       "      <td>0</td>\n",
       "      <td>NaN</td>\n",
       "      <td>second-hand car purchase</td>\n",
       "    </tr>\n",
       "    <tr>\n",
       "      <th>55</th>\n",
       "      <td>0</td>\n",
       "      <td>NaN</td>\n",
       "      <td>54</td>\n",
       "      <td>secondary education</td>\n",
       "      <td>1</td>\n",
       "      <td>civil partnership</td>\n",
       "      <td>1</td>\n",
       "      <td>F</td>\n",
       "      <td>retiree</td>\n",
       "      <td>1</td>\n",
       "      <td>NaN</td>\n",
       "      <td>to have a wedding</td>\n",
       "    </tr>\n",
       "    <tr>\n",
       "      <th>...</th>\n",
       "      <td>...</td>\n",
       "      <td>...</td>\n",
       "      <td>...</td>\n",
       "      <td>...</td>\n",
       "      <td>...</td>\n",
       "      <td>...</td>\n",
       "      <td>...</td>\n",
       "      <td>...</td>\n",
       "      <td>...</td>\n",
       "      <td>...</td>\n",
       "      <td>...</td>\n",
       "      <td>...</td>\n",
       "    </tr>\n",
       "    <tr>\n",
       "      <th>21489</th>\n",
       "      <td>2</td>\n",
       "      <td>NaN</td>\n",
       "      <td>47</td>\n",
       "      <td>Secondary Education</td>\n",
       "      <td>1</td>\n",
       "      <td>married</td>\n",
       "      <td>0</td>\n",
       "      <td>M</td>\n",
       "      <td>business</td>\n",
       "      <td>0</td>\n",
       "      <td>NaN</td>\n",
       "      <td>purchase of a car</td>\n",
       "    </tr>\n",
       "    <tr>\n",
       "      <th>21495</th>\n",
       "      <td>1</td>\n",
       "      <td>NaN</td>\n",
       "      <td>50</td>\n",
       "      <td>secondary education</td>\n",
       "      <td>1</td>\n",
       "      <td>civil partnership</td>\n",
       "      <td>1</td>\n",
       "      <td>F</td>\n",
       "      <td>employee</td>\n",
       "      <td>0</td>\n",
       "      <td>NaN</td>\n",
       "      <td>wedding ceremony</td>\n",
       "    </tr>\n",
       "    <tr>\n",
       "      <th>21497</th>\n",
       "      <td>0</td>\n",
       "      <td>NaN</td>\n",
       "      <td>48</td>\n",
       "      <td>BACHELOR'S DEGREE</td>\n",
       "      <td>0</td>\n",
       "      <td>married</td>\n",
       "      <td>0</td>\n",
       "      <td>F</td>\n",
       "      <td>business</td>\n",
       "      <td>0</td>\n",
       "      <td>NaN</td>\n",
       "      <td>building a property</td>\n",
       "    </tr>\n",
       "    <tr>\n",
       "      <th>21502</th>\n",
       "      <td>1</td>\n",
       "      <td>NaN</td>\n",
       "      <td>42</td>\n",
       "      <td>secondary education</td>\n",
       "      <td>1</td>\n",
       "      <td>married</td>\n",
       "      <td>0</td>\n",
       "      <td>F</td>\n",
       "      <td>employee</td>\n",
       "      <td>0</td>\n",
       "      <td>NaN</td>\n",
       "      <td>building a real estate</td>\n",
       "    </tr>\n",
       "    <tr>\n",
       "      <th>21510</th>\n",
       "      <td>2</td>\n",
       "      <td>NaN</td>\n",
       "      <td>28</td>\n",
       "      <td>secondary education</td>\n",
       "      <td>1</td>\n",
       "      <td>married</td>\n",
       "      <td>0</td>\n",
       "      <td>F</td>\n",
       "      <td>employee</td>\n",
       "      <td>0</td>\n",
       "      <td>NaN</td>\n",
       "      <td>car purchase</td>\n",
       "    </tr>\n",
       "  </tbody>\n",
       "</table>\n",
       "<p>2174 rows × 12 columns</p>\n",
       "</div>"
      ],
      "text/plain": [
       "       children  days_employed  dob_years            education  education_id  \\\n",
       "12            0            NaN         65  secondary education             1   \n",
       "26            0            NaN         41  secondary education             1   \n",
       "29            0            NaN         63  secondary education             1   \n",
       "41            0            NaN         50  secondary education             1   \n",
       "55            0            NaN         54  secondary education             1   \n",
       "...         ...            ...        ...                  ...           ...   \n",
       "21489         2            NaN         47  Secondary Education             1   \n",
       "21495         1            NaN         50  secondary education             1   \n",
       "21497         0            NaN         48    BACHELOR'S DEGREE             0   \n",
       "21502         1            NaN         42  secondary education             1   \n",
       "21510         2            NaN         28  secondary education             1   \n",
       "\n",
       "           family_status  family_status_id gender    income_type  debt  \\\n",
       "12     civil partnership                 1      M        retiree     0   \n",
       "26               married                 0      M  civil servant     0   \n",
       "29             unmarried                 4      F        retiree     0   \n",
       "41               married                 0      F  civil servant     0   \n",
       "55     civil partnership                 1      F        retiree     1   \n",
       "...                  ...               ...    ...            ...   ...   \n",
       "21489            married                 0      M       business     0   \n",
       "21495  civil partnership                 1      F       employee     0   \n",
       "21497            married                 0      F       business     0   \n",
       "21502            married                 0      F       employee     0   \n",
       "21510            married                 0      F       employee     0   \n",
       "\n",
       "       total_income                   purpose  \n",
       "12              NaN         to have a wedding  \n",
       "26              NaN                 education  \n",
       "29              NaN    building a real estate  \n",
       "41              NaN  second-hand car purchase  \n",
       "55              NaN         to have a wedding  \n",
       "...             ...                       ...  \n",
       "21489           NaN         purchase of a car  \n",
       "21495           NaN          wedding ceremony  \n",
       "21497           NaN       building a property  \n",
       "21502           NaN    building a real estate  \n",
       "21510           NaN              car purchase  \n",
       "\n",
       "[2174 rows x 12 columns]"
      ]
     },
     "metadata": {},
     "output_type": "display_data"
    }
   ],
   "source": [
    "# Vejamos a tabela filtrada com valores ausentes na primeira coluna com dados ausentes\n",
    "display(df[df['days_employed'].isna()])"
   ]
  },
  {
   "cell_type": "markdown",
   "id": "ba7183e7",
   "metadata": {
    "papermill": {
     "duration": 0.032214,
     "end_time": "2022-11-26T18:52:47.082660",
     "exception": false,
     "start_time": "2022-11-26T18:52:47.050446",
     "status": "completed"
    },
    "tags": []
   },
   "source": [
    "Os valores ausentes em `days_employed` e em `total_income` parecem sugerir uma simetria e correlação. Faz sentido quando paramos para pensar que a falta de experiência de trabalho está relacionada a falta de renda. A ausência desses dados pode ser por esse fator. Os testes para comprovar essa suposição serão feitos adiante."
   ]
  },
  {
   "cell_type": "code",
   "execution_count": 8,
   "id": "634740a4",
   "metadata": {
    "execution": {
     "iopub.execute_input": "2022-11-26T18:52:47.150689Z",
     "iopub.status.busy": "2022-11-26T18:52:47.150319Z",
     "iopub.status.idle": "2022-11-26T18:52:47.159070Z",
     "shell.execute_reply": "2022-11-26T18:52:47.157780Z"
    },
    "papermill": {
     "duration": 0.045412,
     "end_time": "2022-11-26T18:52:47.161080",
     "exception": false,
     "start_time": "2022-11-26T18:52:47.115668",
     "status": "completed"
    },
    "tags": []
   },
   "outputs": [
    {
     "name": "stdout",
     "output_type": "stream",
     "text": [
      "Num DataFrame criado com os valores nulos em days_employed, a quantidade de linhas com valor nulo em total_income é: 2174. A mesma quantidade de valores NaN no DataFrame original na variável total_income (2174)\n"
     ]
    }
   ],
   "source": [
    "#Verificar se os valores NaN em days_employed correspondem as mesmas linhas em total_income\n",
    "nan_df = df[df['days_employed'].isna()]\n",
    "nan_income = nan_df['total_income'].isna().count()\n",
    "df_nan_income = df['total_income'].isna().sum()\n",
    "print(f'Num DataFrame criado com os valores nulos em days_employed, a quantidade de linhas com valor nulo em total_income é: {nan_income}. A mesma quantidade de valores NaN no DataFrame original na variável total_income ({df_nan_income})')"
   ]
  },
  {
   "cell_type": "code",
   "execution_count": 9,
   "id": "95470ee8",
   "metadata": {
    "execution": {
     "iopub.execute_input": "2022-11-26T18:52:47.228816Z",
     "iopub.status.busy": "2022-11-26T18:52:47.228141Z",
     "iopub.status.idle": "2022-11-26T18:52:47.235140Z",
     "shell.execute_reply": "2022-11-26T18:52:47.233630Z"
    },
    "papermill": {
     "duration": 0.043069,
     "end_time": "2022-11-26T18:52:47.237325",
     "exception": false,
     "start_time": "2022-11-26T18:52:47.194256",
     "status": "completed"
    },
    "tags": []
   },
   "outputs": [
    {
     "name": "stdout",
     "output_type": "stream",
     "text": [
      "employee         1105\n",
      "business          508\n",
      "retiree           413\n",
      "civil servant     147\n",
      "entrepreneur        1\n",
      "Name: income_type, dtype: int64\n"
     ]
    }
   ],
   "source": [
    "# Verificar o tipo de emprego que os clientes com valores nulos em renda e em dias de trabalho possuem\n",
    "print(nan_df['income_type'].value_counts())"
   ]
  },
  {
   "cell_type": "code",
   "execution_count": 10,
   "id": "eeea9f44",
   "metadata": {
    "execution": {
     "iopub.execute_input": "2022-11-26T18:52:47.305105Z",
     "iopub.status.busy": "2022-11-26T18:52:47.303970Z",
     "iopub.status.idle": "2022-11-26T18:52:47.328148Z",
     "shell.execute_reply": "2022-11-26T18:52:47.327362Z"
    },
    "papermill": {
     "duration": 0.059996,
     "end_time": "2022-11-26T18:52:47.330220",
     "exception": false,
     "start_time": "2022-11-26T18:52:47.270224",
     "status": "completed"
    },
    "tags": []
   },
   "outputs": [
    {
     "data": {
      "text/html": [
       "<div>\n",
       "<style scoped>\n",
       "    .dataframe tbody tr th:only-of-type {\n",
       "        vertical-align: middle;\n",
       "    }\n",
       "\n",
       "    .dataframe tbody tr th {\n",
       "        vertical-align: top;\n",
       "    }\n",
       "\n",
       "    .dataframe thead th {\n",
       "        text-align: right;\n",
       "    }\n",
       "</style>\n",
       "<table border=\"1\" class=\"dataframe\">\n",
       "  <thead>\n",
       "    <tr style=\"text-align: right;\">\n",
       "      <th></th>\n",
       "      <th>0</th>\n",
       "      <th>1</th>\n",
       "      <th>2</th>\n",
       "      <th>3</th>\n",
       "      <th>4</th>\n",
       "      <th>5</th>\n",
       "      <th>6</th>\n",
       "      <th>7</th>\n",
       "      <th>8</th>\n",
       "      <th>9</th>\n",
       "      <th>10</th>\n",
       "      <th>11</th>\n",
       "    </tr>\n",
       "  </thead>\n",
       "  <tbody>\n",
       "    <tr>\n",
       "      <th>Variables</th>\n",
       "      <td>days_employed</td>\n",
       "      <td>total_income</td>\n",
       "      <td>children</td>\n",
       "      <td>dob_years</td>\n",
       "      <td>education</td>\n",
       "      <td>education_id</td>\n",
       "      <td>family_status</td>\n",
       "      <td>family_status_id</td>\n",
       "      <td>gender</td>\n",
       "      <td>income_type</td>\n",
       "      <td>debt</td>\n",
       "      <td>purpose</td>\n",
       "    </tr>\n",
       "    <tr>\n",
       "      <th>Missing</th>\n",
       "      <td>0.100999</td>\n",
       "      <td>0.100999</td>\n",
       "      <td>0.0</td>\n",
       "      <td>0.0</td>\n",
       "      <td>0.0</td>\n",
       "      <td>0.0</td>\n",
       "      <td>0.0</td>\n",
       "      <td>0.0</td>\n",
       "      <td>0.0</td>\n",
       "      <td>0.0</td>\n",
       "      <td>0.0</td>\n",
       "      <td>0.0</td>\n",
       "    </tr>\n",
       "  </tbody>\n",
       "</table>\n",
       "</div>"
      ],
      "text/plain": [
       "                      0             1         2          3          4   \\\n",
       "Variables  days_employed  total_income  children  dob_years  education   \n",
       "Missing         0.100999      0.100999       0.0        0.0        0.0   \n",
       "\n",
       "                     5              6                 7       8            9   \\\n",
       "Variables  education_id  family_status  family_status_id  gender  income_type   \n",
       "Missing             0.0            0.0               0.0     0.0          0.0   \n",
       "\n",
       "             10       11  \n",
       "Variables  debt  purpose  \n",
       "Missing     0.0      0.0  "
      ]
     },
     "execution_count": 10,
     "metadata": {},
     "output_type": "execute_result"
    }
   ],
   "source": [
    "# Aplicar várias condições para filtrar dados e observar o número de linhas na tabela filtrada.\n",
    "(df.isna()\n",
    " .mean()\n",
    " .sort_values(ascending=False)\n",
    " .reset_index()\n",
    " .rename(columns = {'index' : 'Variables', 0: 'Missing'})\n",
    ").T"
   ]
  },
  {
   "cell_type": "markdown",
   "id": "fc21185f",
   "metadata": {
    "papermill": {
     "duration": 0.033278,
     "end_time": "2022-11-26T18:52:47.396704",
     "exception": false,
     "start_time": "2022-11-26T18:52:47.363426",
     "status": "completed"
    },
    "tags": []
   },
   "source": [
    "**Conclusão intermediária**\n",
    "\n",
    "Conclui-se que a tabela filtrada corresponde a mesma quantidade de linhas de valores ausentes para as duas variáveis com valores ausentes, `days_employed` e `total_income`.\n",
    "\n",
    "Valores ausentes nas duas variáveis correspondem a 10.09% do total de dados das suas respectivas variáveis, um valor bastante expressivo. Nesse sentido, a melhor forma de tratá-los é preencher esses valores ausentes. Assim, é importante considerar características específicas do cliente, como o tipo de emprego, sexo e educação.\n",
    "\n",
    "Os próximos passos envolvem realizar testes e agrupamentos para verificar se os valores ausentes surgiram de forma aleatória.\n",
    "\n",
    "[Voltar ao Índice](#back)"
   ]
  },
  {
   "cell_type": "markdown",
   "id": "deb3f1de",
   "metadata": {
    "papermill": {
     "duration": 0.033753,
     "end_time": "2022-11-26T18:52:47.463569",
     "exception": false,
     "start_time": "2022-11-26T18:52:47.429816",
     "status": "completed"
    },
    "tags": []
   },
   "source": [
    "**Possíveis motivos para valores ausentes nos dados**\n",
    "\n",
    "A suposição de que a falta de experiência de dias de trabalho contribui para a falta de renda parece ser verdadeira. Porém há muitos clientes sem experiência de trabalho e sem renda informada que estão empregados, são empresários ou funcionários públicos. Os dados sugerem que as informações desses clientes foram coletados muito cedo, de forma que ainda não computaram experiência e nem renda nos seus tipos de emprego — o que acho improvável. O mais provável é que houve falta de informação intencional, já que renda é um dado sensível."
   ]
  },
  {
   "cell_type": "code",
   "execution_count": 11,
   "id": "3b2dfbe5",
   "metadata": {
    "execution": {
     "iopub.execute_input": "2022-11-26T18:52:47.532397Z",
     "iopub.status.busy": "2022-11-26T18:52:47.531791Z",
     "iopub.status.idle": "2022-11-26T18:52:47.542988Z",
     "shell.execute_reply": "2022-11-26T18:52:47.541516Z"
    },
    "papermill": {
     "duration": 0.048694,
     "end_time": "2022-11-26T18:52:47.545490",
     "exception": false,
     "start_time": "2022-11-26T18:52:47.496796",
     "status": "completed"
    },
    "tags": []
   },
   "outputs": [
    {
     "name": "stdout",
     "output_type": "stream",
     "text": [
      "-1     0.000804\n",
      " 0    -0.004585\n",
      " 1     0.005341\n",
      " 2     0.001634\n",
      " 3    -0.001228\n",
      " 4    -0.001315\n",
      " 5    -0.000042\n",
      " 20   -0.000609\n",
      "Name: children, dtype: float64\n"
     ]
    }
   ],
   "source": [
    "# Distribuição do conjunto de dados em children\n",
    "df_children = df['children'].value_counts(dropna=False, normalize=True)\n",
    "nan_df_children = nan_df['children'].value_counts(dropna=False, normalize=True)\n",
    "print(df_children - nan_df_children)"
   ]
  },
  {
   "cell_type": "code",
   "execution_count": 12,
   "id": "30440307",
   "metadata": {
    "execution": {
     "iopub.execute_input": "2022-11-26T18:52:47.628076Z",
     "iopub.status.busy": "2022-11-26T18:52:47.627672Z",
     "iopub.status.idle": "2022-11-26T18:52:47.638071Z",
     "shell.execute_reply": "2022-11-26T18:52:47.637031Z"
    },
    "papermill": {
     "duration": 0.055273,
     "end_time": "2022-11-26T18:52:47.641378",
     "exception": false,
     "start_time": "2022-11-26T18:52:47.586105",
     "status": "completed"
    },
    "tags": []
   },
   "outputs": [
    {
     "name": "stdout",
     "output_type": "stream",
     "text": [
      "0     0.000092\n",
      "19    0.000190\n",
      "20    0.000069\n",
      "21   -0.003123\n",
      "22    0.000682\n",
      "23   -0.004759\n",
      "24    0.002605\n",
      "25    0.006006\n",
      "26    0.002855\n",
      "27    0.006344\n",
      "28   -0.002851\n",
      "29    0.002320\n",
      "30   -0.001592\n",
      "31   -0.003883\n",
      "32    0.006674\n",
      "33    0.003533\n",
      "34   -0.003725\n",
      "35   -0.000774\n",
      "36   -0.003195\n",
      "37    0.000569\n",
      "38    0.002943\n",
      "39    0.003161\n",
      "40   -0.002066\n",
      "41    0.001061\n",
      "42   -0.002164\n",
      "43    0.000834\n",
      "44    0.005173\n",
      "45    0.000090\n",
      "46   -0.000012\n",
      "47   -0.004839\n",
      "48    0.003835\n",
      "49    0.000601\n",
      "50    0.000420\n",
      "51   -0.002186\n",
      "52   -0.001894\n",
      "53    0.001085\n",
      "54   -0.003046\n",
      "55   -0.001498\n",
      "56   -0.002214\n",
      "57   -0.004388\n",
      "58   -0.004342\n",
      "59    0.004988\n",
      "60   -0.000425\n",
      "61   -0.000987\n",
      "62   -0.001126\n",
      "63   -0.000842\n",
      "64   -0.004708\n",
      "65   -0.000187\n",
      "66   -0.000698\n",
      "67    0.000399\n",
      "68    0.000459\n",
      "69    0.001649\n",
      "70    0.001640\n",
      "71    0.000395\n",
      "72    0.000613\n",
      "73   -0.000088\n",
      "74         NaN\n",
      "75         NaN\n",
      "Name: dob_years, dtype: float64\n"
     ]
    }
   ],
   "source": [
    "# Distribuição do conjunto de dados em dob_years\n",
    "df_dob_years = df['dob_years'].value_counts(dropna=False, normalize=True)\n",
    "nan_df_dob_years = nan_df['dob_years'].value_counts(dropna=False, normalize=True)\n",
    "print(df_dob_years - nan_df_dob_years)"
   ]
  },
  {
   "cell_type": "code",
   "execution_count": 13,
   "id": "d343eb4b",
   "metadata": {
    "execution": {
     "iopub.execute_input": "2022-11-26T18:52:47.710052Z",
     "iopub.status.busy": "2022-11-26T18:52:47.709677Z",
     "iopub.status.idle": "2022-11-26T18:52:47.719290Z",
     "shell.execute_reply": "2022-11-26T18:52:47.717973Z"
    },
    "papermill": {
     "duration": 0.047399,
     "end_time": "2022-11-26T18:52:47.722426",
     "exception": false,
     "start_time": "2022-11-26T18:52:47.675027",
     "status": "completed"
    },
    "tags": []
   },
   "outputs": [
    {
     "name": "stdout",
     "output_type": "stream",
     "text": [
      "0   -0.005863\n",
      "1   -0.000683\n",
      "2    0.002826\n",
      "3    0.003441\n",
      "4         NaN\n",
      "Name: education_id, dtype: float64\n"
     ]
    }
   ],
   "source": [
    "# Distribuição do conjunto de dados em education_id\n",
    "df_education_id = df['education_id'].value_counts(dropna=False, normalize=True)\n",
    "nan_df_education_id = nan_df['education_id'].value_counts(dropna=False, normalize=True)\n",
    "print(df_education_id - nan_df_education_id)"
   ]
  },
  {
   "cell_type": "code",
   "execution_count": 14,
   "id": "dbc95f4a",
   "metadata": {
    "execution": {
     "iopub.execute_input": "2022-11-26T18:52:47.792371Z",
     "iopub.status.busy": "2022-11-26T18:52:47.791967Z",
     "iopub.status.idle": "2022-11-26T18:52:47.801337Z",
     "shell.execute_reply": "2022-11-26T18:52:47.800202Z"
    },
    "papermill": {
     "duration": 0.047911,
     "end_time": "2022-11-26T18:52:47.804956",
     "exception": false,
     "start_time": "2022-11-26T18:52:47.757045",
     "status": "completed"
    },
    "tags": []
   },
   "outputs": [
    {
     "name": "stdout",
     "output_type": "stream",
     "text": [
      "0    0.006148\n",
      "1   -0.009258\n",
      "4   -0.001789\n",
      "3    0.003999\n",
      "2    0.000901\n",
      "Name: family_status_id, dtype: float64\n"
     ]
    }
   ],
   "source": [
    "# Distribuição do conjunto de dados em family_status_id\n",
    "df_family_status_id = df['family_status_id'].value_counts(dropna=False, normalize=True)\n",
    "nan_df_family_status_id = nan_df['family_status_id'].value_counts(dropna=False, normalize=True)\n",
    "print(df_family_status_id - nan_df_family_status_id)"
   ]
  },
  {
   "cell_type": "code",
   "execution_count": 15,
   "id": "018df092",
   "metadata": {
    "execution": {
     "iopub.execute_input": "2022-11-26T18:52:47.876084Z",
     "iopub.status.busy": "2022-11-26T18:52:47.875712Z",
     "iopub.status.idle": "2022-11-26T18:52:47.891245Z",
     "shell.execute_reply": "2022-11-26T18:52:47.890173Z"
    },
    "papermill": {
     "duration": 0.053457,
     "end_time": "2022-11-26T18:52:47.893976",
     "exception": false,
     "start_time": "2022-11-26T18:52:47.840519",
     "status": "completed"
    },
    "tags": []
   },
   "outputs": [
    {
     "name": "stdout",
     "output_type": "stream",
     "text": [
      "F     -0.021242\n",
      "M      0.021196\n",
      "XNA         NaN\n",
      "Name: gender, dtype: float64\n",
      "\n",
      "F    0.682613\n",
      "M    0.317387\n",
      "Name: gender, dtype: float64\n"
     ]
    }
   ],
   "source": [
    "# Distribuição do conjunto de dados em gender\n",
    "df_gender = df['gender'].value_counts(dropna=False, normalize=True)\n",
    "nan_df_gender = nan_df['gender'].value_counts(dropna=False, normalize=True)\n",
    "print(df_gender - nan_df_gender)\n",
    "print()\n",
    "print(nan_df_gender)"
   ]
  },
  {
   "cell_type": "code",
   "execution_count": 16,
   "id": "aada3382",
   "metadata": {
    "execution": {
     "iopub.execute_input": "2022-11-26T18:52:47.974092Z",
     "iopub.status.busy": "2022-11-26T18:52:47.973687Z",
     "iopub.status.idle": "2022-11-26T18:52:47.984242Z",
     "shell.execute_reply": "2022-11-26T18:52:47.983104Z"
    },
    "papermill": {
     "duration": 0.05581,
     "end_time": "2022-11-26T18:52:47.987293",
     "exception": false,
     "start_time": "2022-11-26T18:52:47.931483",
     "status": "completed"
    },
    "tags": []
   },
   "outputs": [
    {
     "name": "stdout",
     "output_type": "stream",
     "text": [
      "0    0.921803\n",
      "1    0.078197\n",
      "Name: debt, dtype: float64\n",
      "\n",
      "0   -0.002686\n",
      "1    0.002686\n",
      "Name: debt, dtype: float64\n"
     ]
    }
   ],
   "source": [
    "# Distribuição do conjunto de dados em debt\n",
    "df_debt = df['debt'].value_counts(dropna=False, normalize=True)\n",
    "nan_df_debt = nan_df['debt'].value_counts(dropna=False, normalize=True)\n",
    "print(nan_df_debt)\n",
    "print()\n",
    "print(df_debt - nan_df_debt)"
   ]
  },
  {
   "cell_type": "markdown",
   "id": "3adf2324",
   "metadata": {
    "papermill": {
     "duration": 0.036034,
     "end_time": "2022-11-26T18:52:48.058976",
     "exception": false,
     "start_time": "2022-11-26T18:52:48.022942",
     "status": "completed"
    },
    "tags": []
   },
   "source": [
    "A variação das colunas `children`, `dob_years`,`education_id`,`family_status_id`, `debt` do DataFrame original com as mesmas colunas do DataFrame de valores ausentes não chega a 1% em cada um dos seus respectivos elementos. Não há sinais de um padrão na relação que afete os valores ausentes. Na coluna `gender`, apesar de haver um percentual maior de valores ausentes quando analisamos os dados das mulheres, a proporção se mantém quando analisamos a variação dos valores no DataFrame orginal e o DataFrame de valores ausentes."
   ]
  },
  {
   "cell_type": "markdown",
   "id": "f119e31e",
   "metadata": {
    "papermill": {
     "duration": 0.033471,
     "end_time": "2022-11-26T18:52:48.126522",
     "exception": false,
     "start_time": "2022-11-26T18:52:48.093051",
     "status": "completed"
    },
    "tags": []
   },
   "source": [
    "**Conclusão intermediária**\n",
    "\n",
    "A distribuição no conjunto de dados original é semelhante à distribuição da tabela filtrada. Pois essa variação não chega a 1%.\n",
    "\n",
    "Estamos cientes também que todos os valores ausentes na variável `total_income` correspondem a valores ausentes na variável `days_employed`, porém é possível imaginar que certos tipos de empregos (`income_type`) possam contribuir ou favorecer o surgimento de valores ausentes, como para os tipos estudantes e desempregados.\n",
    "\n",
    "É importante verificar se os clientes que possuem idade igual a zero contribuem para a existência de valores ausentes em experiência em dias de emprego e renda.\n",
    "\n",
    "[Voltar ao Índice](#back)"
   ]
  },
  {
   "cell_type": "code",
   "execution_count": 17,
   "id": "5207dfab",
   "metadata": {
    "execution": {
     "iopub.execute_input": "2022-11-26T18:52:48.196353Z",
     "iopub.status.busy": "2022-11-26T18:52:48.195919Z",
     "iopub.status.idle": "2022-11-26T18:52:48.207915Z",
     "shell.execute_reply": "2022-11-26T18:52:48.206740Z"
    },
    "papermill": {
     "duration": 0.049312,
     "end_time": "2022-11-26T18:52:48.210351",
     "exception": false,
     "start_time": "2022-11-26T18:52:48.161039",
     "status": "completed"
    },
    "tags": []
   },
   "outputs": [
    {
     "name": "stdout",
     "output_type": "stream",
     "text": [
      "employee                       11119\n",
      "business                        5085\n",
      "retiree                         3856\n",
      "civil servant                   1459\n",
      "unemployed                         2\n",
      "entrepreneur                       2\n",
      "student                            1\n",
      "paternity / maternity leave        1\n",
      "Name: income_type, dtype: int64\n",
      "\n",
      "children            10\n",
      "days_employed        0\n",
      "dob_years           10\n",
      "education           10\n",
      "education_id        10\n",
      "family_status       10\n",
      "family_status_id    10\n",
      "gender              10\n",
      "income_type         10\n",
      "debt                10\n",
      "total_income         0\n",
      "purpose             10\n",
      "dtype: int64\n"
     ]
    }
   ],
   "source": [
    "# Para valores ausentes provenientes de certos tipos de emprego\n",
    "print(df['income_type'].value_counts())\n",
    "print()\n",
    "# Para valores ausentes provenientes de clientes com idade igual a zero\n",
    "print(nan_df[nan_df['dob_years']==0].count())"
   ]
  },
  {
   "cell_type": "markdown",
   "id": "5b698f6a",
   "metadata": {
    "papermill": {
     "duration": 0.033384,
     "end_time": "2022-11-26T18:52:48.277475",
     "exception": false,
     "start_time": "2022-11-26T18:52:48.244091",
     "status": "completed"
    },
    "tags": []
   },
   "source": [
    "**Conclusão intermediária**\n",
    "\n",
    "Desse modo, podemos afirmar que os valores ausentes parece serem acidentais quando não levamos em conta a relação entre as variáveis `days_employed` e `total_income`. Nem a presença de clientes com idade igual a zero e nem mesmo a pouca expressividade de valores em tipo de emprego estudante e desempregado na variável `income_type`, foram suficientes para nortear ou sugerir um padrão no surgimento de valores ausentes na base de dados."
   ]
  },
  {
   "cell_type": "markdown",
   "id": "6aaeb411",
   "metadata": {
    "papermill": {
     "duration": 0.033706,
     "end_time": "2022-11-26T18:52:48.344580",
     "exception": false,
     "start_time": "2022-11-26T18:52:48.310874",
     "status": "completed"
    },
    "tags": []
   },
   "source": [
    "**Conclusões** <a id='1C'></a>\n",
    "\n",
    "As análises realizadas sugerem que não há padrões nos dados que gerem valores ausentes para além da relação estabelecida entre as variáveis `days_employed` e `total_income`. Cada variável do DataFrame foi testada conforme sua distribuição original e a sua distribuição do DataFrame filtrado em valores ausentes, mas não houve variações nos dados superiores a 1%.\n",
    "\n",
    "Desse modo, as próximas etapas envolvem preencher os valores ausentes em `days_employed` e em `total_income`. Para `days_employed` deve-se tratar os números negativos e valores extremos, a mediana deve-se ajustar melhor que a média. Como a variável é definida como experiência de trabalhos em dias, logo compreende-se que não se deve haver dias negativos e nem mesmo dias fracionados. Essa variável deve ser inteira e positiva.\n",
    "\n",
    "já em `total_income`, preencher os valores ausentes levando em consideração as variações entre sexo e anos de estudo. Pois estudos sugerem que existem diferenças salariais entre gênero e que a renda aumenta conforme a quantidade de anos de estudo que o indivíduo possui.\n",
    "\n",
    "Além do preenchimento dos valores ausentes, vai ser imprescindível para uma boa análise, o tratamento de duplicatas, diferença de registros e de valores incorretos.\n",
    "\n",
    "[Voltar ao Índice](#back)"
   ]
  },
  {
   "cell_type": "markdown",
   "id": "b027a7c0",
   "metadata": {
    "papermill": {
     "duration": 0.037086,
     "end_time": "2022-11-26T18:52:48.422186",
     "exception": false,
     "start_time": "2022-11-26T18:52:48.385100",
     "status": "completed"
    },
    "tags": []
   },
   "source": [
    "## 2. Transformação de Dados <a id='2'></a>\n",
    "\n",
    "O objetivo é analisar as colunas, variáveis, para identificar possíveis problemas como duplicatas."
   ]
  },
  {
   "cell_type": "code",
   "execution_count": 18,
   "id": "8cf51c55",
   "metadata": {
    "execution": {
     "iopub.execute_input": "2022-11-26T18:52:48.501196Z",
     "iopub.status.busy": "2022-11-26T18:52:48.500715Z",
     "iopub.status.idle": "2022-11-26T18:52:48.520912Z",
     "shell.execute_reply": "2022-11-26T18:52:48.519491Z"
    },
    "papermill": {
     "duration": 0.060082,
     "end_time": "2022-11-26T18:52:48.523151",
     "exception": false,
     "start_time": "2022-11-26T18:52:48.463069",
     "status": "completed"
    },
    "tags": []
   },
   "outputs": [
    {
     "name": "stdout",
     "output_type": "stream",
     "text": [
      "[\"BACHELOR'S DEGREE\" \"Bachelor's Degree\" 'GRADUATE DEGREE'\n",
      " 'Graduate Degree' 'PRIMARY EDUCATION' 'Primary Education'\n",
      " 'SECONDARY EDUCATION' 'SOME COLLEGE' 'Secondary Education' 'Some College'\n",
      " \"bachelor's degree\" 'graduate degree' 'primary education'\n",
      " 'secondary education' 'some college']\n"
     ]
    }
   ],
   "source": [
    "# Verificar todos os valores na coluna de educação para ver quais grafias precisarão ser corrigidas\n",
    "print(df['education'].sort_values().unique())"
   ]
  },
  {
   "cell_type": "code",
   "execution_count": 19,
   "id": "5d80855f",
   "metadata": {
    "execution": {
     "iopub.execute_input": "2022-11-26T18:52:48.594207Z",
     "iopub.status.busy": "2022-11-26T18:52:48.593708Z",
     "iopub.status.idle": "2022-11-26T18:52:48.607622Z",
     "shell.execute_reply": "2022-11-26T18:52:48.606383Z"
    },
    "papermill": {
     "duration": 0.052095,
     "end_time": "2022-11-26T18:52:48.610339",
     "exception": false,
     "start_time": "2022-11-26T18:52:48.558244",
     "status": "completed"
    },
    "tags": []
   },
   "outputs": [],
   "source": [
    "# Corrigindo os registros\n",
    "df['education'] = df['education'].str.lower()"
   ]
  },
  {
   "cell_type": "code",
   "execution_count": 20,
   "id": "970d49b9",
   "metadata": {
    "execution": {
     "iopub.execute_input": "2022-11-26T18:52:48.680070Z",
     "iopub.status.busy": "2022-11-26T18:52:48.678870Z",
     "iopub.status.idle": "2022-11-26T18:52:48.702318Z",
     "shell.execute_reply": "2022-11-26T18:52:48.701010Z"
    },
    "papermill": {
     "duration": 0.061304,
     "end_time": "2022-11-26T18:52:48.705380",
     "exception": false,
     "start_time": "2022-11-26T18:52:48.644076",
     "status": "completed"
    },
    "tags": []
   },
   "outputs": [
    {
     "name": "stdout",
     "output_type": "stream",
     "text": [
      "[\"bachelor's degree\" 'graduate degree' 'primary education'\n",
      " 'secondary education' 'some college']\n"
     ]
    }
   ],
   "source": [
    "# Verificar todos os valores na coluna para ter certeza de que houve a correção\n",
    "print(df['education'].sort_values().unique())"
   ]
  },
  {
   "cell_type": "code",
   "execution_count": 21,
   "id": "be204c43",
   "metadata": {
    "execution": {
     "iopub.execute_input": "2022-11-26T18:52:48.776580Z",
     "iopub.status.busy": "2022-11-26T18:52:48.775820Z",
     "iopub.status.idle": "2022-11-26T18:52:48.784435Z",
     "shell.execute_reply": "2022-11-26T18:52:48.782895Z"
    },
    "papermill": {
     "duration": 0.046805,
     "end_time": "2022-11-26T18:52:48.787744",
     "exception": false,
     "start_time": "2022-11-26T18:52:48.740939",
     "status": "completed"
    },
    "tags": []
   },
   "outputs": [
    {
     "name": "stdout",
     "output_type": "stream",
     "text": [
      " 0     0.657329\n",
      " 1     0.223833\n",
      " 2     0.095470\n",
      " 3     0.015331\n",
      " 20    0.003531\n",
      "-1     0.002184\n",
      " 4     0.001905\n",
      " 5     0.000418\n",
      "Name: children, dtype: float64\n",
      "21525\n"
     ]
    }
   ],
   "source": [
    "# Verificando a distribuição de valores na coluna `children`\n",
    "print(df['children'].value_counts(dropna=False, normalize=True))\n",
    "print(df['children'].shape[0])"
   ]
  },
  {
   "cell_type": "markdown",
   "id": "70a26fba",
   "metadata": {
    "papermill": {
     "duration": 0.033804,
     "end_time": "2022-11-26T18:52:48.855655",
     "exception": false,
     "start_time": "2022-11-26T18:52:48.821851",
     "status": "completed"
    },
    "tags": []
   },
   "source": [
    "A porcentagem de dados problemáticos da variável `children` é a soma do percentual quando há 20 (0.35%) e -1 (0.21%) filhos, aproximadamente 0.57%. Apesar dos erros serem bem baixos na variável, é de fácil entendimento que o erro está relacionado com o sinal negativo em -1, pois não há filhos negativos, e um adicional de um zero em 20, dese modo, faço os seguintes ajustes:"
   ]
  },
  {
   "cell_type": "code",
   "execution_count": 22,
   "id": "6fc948fb",
   "metadata": {
    "execution": {
     "iopub.execute_input": "2022-11-26T18:52:48.925911Z",
     "iopub.status.busy": "2022-11-26T18:52:48.924968Z",
     "iopub.status.idle": "2022-11-26T18:52:49.067595Z",
     "shell.execute_reply": "2022-11-26T18:52:49.066392Z"
    },
    "papermill": {
     "duration": 0.180258,
     "end_time": "2022-11-26T18:52:49.070103",
     "exception": false,
     "start_time": "2022-11-26T18:52:48.889845",
     "status": "completed"
    },
    "tags": []
   },
   "outputs": [
    {
     "data": {
      "text/plain": [
       "count    21525.000000\n",
       "mean         0.479721\n",
       "std          0.755528\n",
       "min          0.000000\n",
       "25%          0.000000\n",
       "50%          0.000000\n",
       "75%          1.000000\n",
       "max          5.000000\n",
       "Name: children, dtype: float64"
      ]
     },
     "metadata": {},
     "output_type": "display_data"
    },
    {
     "data": {
      "image/png": "[encoded data removed]",
      "text/plain": [
       "<Figure size 432x288 with 1 Axes>"
      ]
     },
     "metadata": {
      "needs_background": "light"
     },
     "output_type": "display_data"
    }
   ],
   "source": [
    "df['children'] = df['children'].replace(20,2) # Considero que o outlier 20 seja um erro de digitação\n",
    "df['children'] = df['children'].replace(-1,1) # Considero que o número negativo de filhos seja um erro de digitação\n",
    "boxplot = df.boxplot(column='children') # Visualizar dados discrepantes\n",
    "display(df['children'].describe())"
   ]
  },
  {
   "cell_type": "code",
   "execution_count": 23,
   "id": "2ca5c162",
   "metadata": {
    "execution": {
     "iopub.execute_input": "2022-11-26T18:52:49.141293Z",
     "iopub.status.busy": "2022-11-26T18:52:49.140525Z",
     "iopub.status.idle": "2022-11-26T18:52:49.149210Z",
     "shell.execute_reply": "2022-11-26T18:52:49.147808Z"
    },
    "papermill": {
     "duration": 0.047966,
     "end_time": "2022-11-26T18:52:49.152503",
     "exception": false,
     "start_time": "2022-11-26T18:52:49.104537",
     "status": "completed"
    },
    "tags": []
   },
   "outputs": [
    {
     "name": "stdout",
     "output_type": "stream",
     "text": [
      "0    14149\n",
      "1     4865\n",
      "2     2131\n",
      "3      330\n",
      "4       41\n",
      "5        9\n",
      "Name: children, dtype: int64\n"
     ]
    }
   ],
   "source": [
    "# Verificar a coluna `children` novamente para ter certeza de que está tudo corrigido\n",
    "df['children'] = df['children'].astype('int')\n",
    "print(df['children'].value_counts())"
   ]
  },
  {
   "cell_type": "markdown",
   "id": "68dfdd3e",
   "metadata": {
    "papermill": {
     "duration": 0.033855,
     "end_time": "2022-11-26T18:52:49.222267",
     "exception": false,
     "start_time": "2022-11-26T18:52:49.188412",
     "status": "completed"
    },
    "tags": []
   },
   "source": [
    "Na variável idade em anos do cliente, `dob_years`, temos valores 0 (zero) em algumas poucas linhas, mas é importante tratá-los, pois essa variável servirá para corrigir valores em `days_employed`. Desse modo, a melhor forma de corrigir é utilizando a média inteira para substituir os valores nulos.\n",
    "\n",
    "Num primeiro momento foi pensado que poderia tratar-se de crianças que ainda não tinham 1 ano de vida, porém outras variáveis dessas linhas sugerem se tratar de erro de inserção de valores, uma vez que muitas linhas de idade 0 (zero) estão como empregados, aposentados e níveis educacionais mais avançados.\n",
    "\n",
    "[Voltar ao Índice](#back)"
   ]
  },
  {
   "cell_type": "code",
   "execution_count": 24,
   "id": "43cb7081",
   "metadata": {
    "execution": {
     "iopub.execute_input": "2022-11-26T18:52:49.292499Z",
     "iopub.status.busy": "2022-11-26T18:52:49.291773Z",
     "iopub.status.idle": "2022-11-26T18:52:49.300062Z",
     "shell.execute_reply": "2022-11-26T18:52:49.298826Z"
    },
    "papermill": {
     "duration": 0.04641,
     "end_time": "2022-11-26T18:52:49.302560",
     "exception": false,
     "start_time": "2022-11-26T18:52:49.256150",
     "status": "completed"
    },
    "tags": []
   },
   "outputs": [],
   "source": [
    "# Corrigir as idades 0 em dob_years\n",
    "df['dob_years'] = np.where(df['dob_years']==0, np.nan, df['dob_years'])\n",
    "# Definir a média em dob_years, valores inteiros\n",
    "mean_dob_years = int((df['dob_years']).mean())\n",
    "# Substituir valores ausentes pela média inteira de dob_years\n",
    "df['dob_years'].fillna(int(df['dob_years'].mean()), inplace = True)"
   ]
  },
  {
   "cell_type": "code",
   "execution_count": 25,
   "id": "1173fa18",
   "metadata": {
    "execution": {
     "iopub.execute_input": "2022-11-26T18:52:49.372773Z",
     "iopub.status.busy": "2022-11-26T18:52:49.372372Z",
     "iopub.status.idle": "2022-11-26T18:52:49.378888Z",
     "shell.execute_reply": "2022-11-26T18:52:49.377609Z"
    },
    "papermill": {
     "duration": 0.044202,
     "end_time": "2022-11-26T18:52:49.381328",
     "exception": false,
     "start_time": "2022-11-26T18:52:49.337126",
     "status": "completed"
    },
    "tags": []
   },
   "outputs": [
    {
     "name": "stdout",
     "output_type": "stream",
     "text": [
      "0.0\n"
     ]
    }
   ],
   "source": [
    "# Checar se ainda há valores ausentes\n",
    "print(df['dob_years'].isna().mean())"
   ]
  },
  {
   "cell_type": "code",
   "execution_count": 26,
   "id": "8257b08e",
   "metadata": {
    "execution": {
     "iopub.execute_input": "2022-11-26T18:52:49.451738Z",
     "iopub.status.busy": "2022-11-26T18:52:49.451325Z",
     "iopub.status.idle": "2022-11-26T18:52:49.465010Z",
     "shell.execute_reply": "2022-11-26T18:52:49.462876Z"
    },
    "papermill": {
     "duration": 0.05228,
     "end_time": "2022-11-26T18:52:49.468195",
     "exception": false,
     "start_time": "2022-11-26T18:52:49.415915",
     "status": "completed"
    },
    "tags": []
   },
   "outputs": [
    {
     "name": "stdout",
     "output_type": "stream",
     "text": [
      "0\n",
      "\n",
      "count    21525.000000\n",
      "mean        43.495145\n",
      "std         12.218213\n",
      "min         19.000000\n",
      "25%         34.000000\n",
      "50%         43.000000\n",
      "75%         53.000000\n",
      "max         75.000000\n",
      "Name: dob_years, dtype: float64\n"
     ]
    }
   ],
   "source": [
    "# Verificar o resultado\n",
    "print(len(df[df['dob_years']==0]))\n",
    "print()\n",
    "print(df['dob_years'].describe())"
   ]
  },
  {
   "cell_type": "markdown",
   "id": "7d2a1985",
   "metadata": {
    "papermill": {
     "duration": 0.034291,
     "end_time": "2022-11-26T18:52:49.537886",
     "exception": false,
     "start_time": "2022-11-26T18:52:49.503595",
     "status": "completed"
    },
    "tags": []
   },
   "source": [
    "Em `days_employed` temos valores ausentes, números extremos — dias de trabalho que superam os dias de vida dos clientes —, bem como números negativos (não há dias trabalhados negativos)."
   ]
  },
  {
   "cell_type": "code",
   "execution_count": 27,
   "id": "72fba804",
   "metadata": {
    "execution": {
     "iopub.execute_input": "2022-11-26T18:52:49.628703Z",
     "iopub.status.busy": "2022-11-26T18:52:49.628172Z",
     "iopub.status.idle": "2022-11-26T18:52:49.662653Z",
     "shell.execute_reply": "2022-11-26T18:52:49.661594Z"
    },
    "papermill": {
     "duration": 0.085337,
     "end_time": "2022-11-26T18:52:49.664903",
     "exception": false,
     "start_time": "2022-11-26T18:52:49.579566",
     "status": "completed"
    },
    "tags": []
   },
   "outputs": [
    {
     "data": {
      "text/html": [
       "<div>\n",
       "<style scoped>\n",
       "    .dataframe tbody tr th:only-of-type {\n",
       "        vertical-align: middle;\n",
       "    }\n",
       "\n",
       "    .dataframe tbody tr th {\n",
       "        vertical-align: top;\n",
       "    }\n",
       "\n",
       "    .dataframe thead th {\n",
       "        text-align: right;\n",
       "    }\n",
       "</style>\n",
       "<table border=\"1\" class=\"dataframe\">\n",
       "  <thead>\n",
       "    <tr style=\"text-align: right;\">\n",
       "      <th></th>\n",
       "      <th>children</th>\n",
       "      <th>days_employed</th>\n",
       "      <th>dob_years</th>\n",
       "      <th>education</th>\n",
       "      <th>education_id</th>\n",
       "      <th>family_status</th>\n",
       "      <th>family_status_id</th>\n",
       "      <th>gender</th>\n",
       "      <th>income_type</th>\n",
       "      <th>debt</th>\n",
       "      <th>total_income</th>\n",
       "      <th>purpose</th>\n",
       "    </tr>\n",
       "  </thead>\n",
       "  <tbody>\n",
       "    <tr>\n",
       "      <th>0</th>\n",
       "      <td>1</td>\n",
       "      <td>-8437.673028</td>\n",
       "      <td>42.0</td>\n",
       "      <td>bachelor's degree</td>\n",
       "      <td>0</td>\n",
       "      <td>married</td>\n",
       "      <td>0</td>\n",
       "      <td>F</td>\n",
       "      <td>employee</td>\n",
       "      <td>0</td>\n",
       "      <td>40620.102</td>\n",
       "      <td>purchase of the house</td>\n",
       "    </tr>\n",
       "    <tr>\n",
       "      <th>1</th>\n",
       "      <td>1</td>\n",
       "      <td>-4024.803754</td>\n",
       "      <td>36.0</td>\n",
       "      <td>secondary education</td>\n",
       "      <td>1</td>\n",
       "      <td>married</td>\n",
       "      <td>0</td>\n",
       "      <td>F</td>\n",
       "      <td>employee</td>\n",
       "      <td>0</td>\n",
       "      <td>17932.802</td>\n",
       "      <td>car purchase</td>\n",
       "    </tr>\n",
       "    <tr>\n",
       "      <th>2</th>\n",
       "      <td>0</td>\n",
       "      <td>-5623.422610</td>\n",
       "      <td>33.0</td>\n",
       "      <td>secondary education</td>\n",
       "      <td>1</td>\n",
       "      <td>married</td>\n",
       "      <td>0</td>\n",
       "      <td>M</td>\n",
       "      <td>employee</td>\n",
       "      <td>0</td>\n",
       "      <td>23341.752</td>\n",
       "      <td>purchase of the house</td>\n",
       "    </tr>\n",
       "    <tr>\n",
       "      <th>3</th>\n",
       "      <td>3</td>\n",
       "      <td>-4124.747207</td>\n",
       "      <td>32.0</td>\n",
       "      <td>secondary education</td>\n",
       "      <td>1</td>\n",
       "      <td>married</td>\n",
       "      <td>0</td>\n",
       "      <td>M</td>\n",
       "      <td>employee</td>\n",
       "      <td>0</td>\n",
       "      <td>42820.568</td>\n",
       "      <td>supplementary education</td>\n",
       "    </tr>\n",
       "    <tr>\n",
       "      <th>5</th>\n",
       "      <td>0</td>\n",
       "      <td>-926.185831</td>\n",
       "      <td>27.0</td>\n",
       "      <td>bachelor's degree</td>\n",
       "      <td>0</td>\n",
       "      <td>civil partnership</td>\n",
       "      <td>1</td>\n",
       "      <td>M</td>\n",
       "      <td>business</td>\n",
       "      <td>0</td>\n",
       "      <td>40922.170</td>\n",
       "      <td>purchase of the house</td>\n",
       "    </tr>\n",
       "    <tr>\n",
       "      <th>...</th>\n",
       "      <td>...</td>\n",
       "      <td>...</td>\n",
       "      <td>...</td>\n",
       "      <td>...</td>\n",
       "      <td>...</td>\n",
       "      <td>...</td>\n",
       "      <td>...</td>\n",
       "      <td>...</td>\n",
       "      <td>...</td>\n",
       "      <td>...</td>\n",
       "      <td>...</td>\n",
       "      <td>...</td>\n",
       "    </tr>\n",
       "    <tr>\n",
       "      <th>21519</th>\n",
       "      <td>1</td>\n",
       "      <td>-2351.431934</td>\n",
       "      <td>37.0</td>\n",
       "      <td>graduate degree</td>\n",
       "      <td>4</td>\n",
       "      <td>divorced</td>\n",
       "      <td>3</td>\n",
       "      <td>M</td>\n",
       "      <td>employee</td>\n",
       "      <td>0</td>\n",
       "      <td>18551.846</td>\n",
       "      <td>buy commercial real estate</td>\n",
       "    </tr>\n",
       "    <tr>\n",
       "      <th>21520</th>\n",
       "      <td>1</td>\n",
       "      <td>-4529.316663</td>\n",
       "      <td>43.0</td>\n",
       "      <td>secondary education</td>\n",
       "      <td>1</td>\n",
       "      <td>civil partnership</td>\n",
       "      <td>1</td>\n",
       "      <td>F</td>\n",
       "      <td>business</td>\n",
       "      <td>0</td>\n",
       "      <td>35966.698</td>\n",
       "      <td>housing transactions</td>\n",
       "    </tr>\n",
       "    <tr>\n",
       "      <th>21522</th>\n",
       "      <td>1</td>\n",
       "      <td>-2113.346888</td>\n",
       "      <td>38.0</td>\n",
       "      <td>secondary education</td>\n",
       "      <td>1</td>\n",
       "      <td>civil partnership</td>\n",
       "      <td>1</td>\n",
       "      <td>M</td>\n",
       "      <td>employee</td>\n",
       "      <td>1</td>\n",
       "      <td>14347.610</td>\n",
       "      <td>property</td>\n",
       "    </tr>\n",
       "    <tr>\n",
       "      <th>21523</th>\n",
       "      <td>3</td>\n",
       "      <td>-3112.481705</td>\n",
       "      <td>38.0</td>\n",
       "      <td>secondary education</td>\n",
       "      <td>1</td>\n",
       "      <td>married</td>\n",
       "      <td>0</td>\n",
       "      <td>M</td>\n",
       "      <td>employee</td>\n",
       "      <td>1</td>\n",
       "      <td>39054.888</td>\n",
       "      <td>buying my own car</td>\n",
       "    </tr>\n",
       "    <tr>\n",
       "      <th>21524</th>\n",
       "      <td>2</td>\n",
       "      <td>-1984.507589</td>\n",
       "      <td>40.0</td>\n",
       "      <td>secondary education</td>\n",
       "      <td>1</td>\n",
       "      <td>married</td>\n",
       "      <td>0</td>\n",
       "      <td>F</td>\n",
       "      <td>employee</td>\n",
       "      <td>0</td>\n",
       "      <td>13127.587</td>\n",
       "      <td>to buy a car</td>\n",
       "    </tr>\n",
       "  </tbody>\n",
       "</table>\n",
       "<p>15906 rows × 12 columns</p>\n",
       "</div>"
      ],
      "text/plain": [
       "       children  days_employed  dob_years            education  education_id  \\\n",
       "0             1   -8437.673028       42.0    bachelor's degree             0   \n",
       "1             1   -4024.803754       36.0  secondary education             1   \n",
       "2             0   -5623.422610       33.0  secondary education             1   \n",
       "3             3   -4124.747207       32.0  secondary education             1   \n",
       "5             0    -926.185831       27.0    bachelor's degree             0   \n",
       "...         ...            ...        ...                  ...           ...   \n",
       "21519         1   -2351.431934       37.0      graduate degree             4   \n",
       "21520         1   -4529.316663       43.0  secondary education             1   \n",
       "21522         1   -2113.346888       38.0  secondary education             1   \n",
       "21523         3   -3112.481705       38.0  secondary education             1   \n",
       "21524         2   -1984.507589       40.0  secondary education             1   \n",
       "\n",
       "           family_status  family_status_id gender income_type  debt  \\\n",
       "0                married                 0      F    employee     0   \n",
       "1                married                 0      F    employee     0   \n",
       "2                married                 0      M    employee     0   \n",
       "3                married                 0      M    employee     0   \n",
       "5      civil partnership                 1      M    business     0   \n",
       "...                  ...               ...    ...         ...   ...   \n",
       "21519           divorced                 3      M    employee     0   \n",
       "21520  civil partnership                 1      F    business     0   \n",
       "21522  civil partnership                 1      M    employee     1   \n",
       "21523            married                 0      M    employee     1   \n",
       "21524            married                 0      F    employee     0   \n",
       "\n",
       "       total_income                     purpose  \n",
       "0         40620.102       purchase of the house  \n",
       "1         17932.802                car purchase  \n",
       "2         23341.752       purchase of the house  \n",
       "3         42820.568     supplementary education  \n",
       "5         40922.170       purchase of the house  \n",
       "...             ...                         ...  \n",
       "21519     18551.846  buy commercial real estate  \n",
       "21520     35966.698        housing transactions  \n",
       "21522     14347.610                    property  \n",
       "21523     39054.888           buying my own car  \n",
       "21524     13127.587                to buy a car  \n",
       "\n",
       "[15906 rows x 12 columns]"
      ]
     },
     "metadata": {},
     "output_type": "display_data"
    },
    {
     "name": "stdout",
     "output_type": "stream",
     "text": [
      "====================================================================================================\n",
      "A porcentagem de valores negativos é 73.90%.\n"
     ]
    }
   ],
   "source": [
    "# Dados problemáticos, valores negativos\n",
    "df_neg_days = df.loc[df.loc[:,'days_employed']<0]\n",
    "display(df_neg_days)\n",
    "print('='*100)\n",
    "perc_neg_days = df_neg_days['days_employed'].shape[0] / df['days_employed'].shape[0]\n",
    "print(f'A porcentagem de valores negativos é {perc_neg_days:.2%}.')"
   ]
  },
  {
   "cell_type": "code",
   "execution_count": 28,
   "id": "943ea36a",
   "metadata": {
    "execution": {
     "iopub.execute_input": "2022-11-26T18:52:49.736419Z",
     "iopub.status.busy": "2022-11-26T18:52:49.735994Z",
     "iopub.status.idle": "2022-11-26T18:52:49.746322Z",
     "shell.execute_reply": "2022-11-26T18:52:49.745295Z"
    },
    "papermill": {
     "duration": 0.048609,
     "end_time": "2022-11-26T18:52:49.748412",
     "exception": false,
     "start_time": "2022-11-26T18:52:49.699803",
     "status": "completed"
    },
    "tags": []
   },
   "outputs": [
    {
     "data": {
      "text/plain": [
       "children            0\n",
       "days_employed       0\n",
       "dob_years           0\n",
       "education           0\n",
       "education_id        0\n",
       "family_status       0\n",
       "family_status_id    0\n",
       "gender              0\n",
       "income_type         0\n",
       "debt                0\n",
       "total_income        0\n",
       "purpose             0\n",
       "dtype: int64"
      ]
     },
     "metadata": {},
     "output_type": "display_data"
    }
   ],
   "source": [
    "#Corrigir valores negativos\n",
    "df['days_employed'] = abs(df['days_employed']) # Transformando esses valores em valores absolutos\n",
    "df_neg_days = df.loc[df.loc[:,'days_employed']<0] # Verificando se a correção foi feita\n",
    "display(df_neg_days.count())"
   ]
  },
  {
   "cell_type": "code",
   "execution_count": 29,
   "id": "3bb9f6ca",
   "metadata": {
    "execution": {
     "iopub.execute_input": "2022-11-26T18:52:49.819712Z",
     "iopub.status.busy": "2022-11-26T18:52:49.819265Z",
     "iopub.status.idle": "2022-11-26T18:52:49.847172Z",
     "shell.execute_reply": "2022-11-26T18:52:49.846106Z"
    },
    "papermill": {
     "duration": 0.066651,
     "end_time": "2022-11-26T18:52:49.849769",
     "exception": false,
     "start_time": "2022-11-26T18:52:49.783118",
     "status": "completed"
    },
    "tags": []
   },
   "outputs": [
    {
     "data": {
      "text/html": [
       "<div>\n",
       "<style scoped>\n",
       "    .dataframe tbody tr th:only-of-type {\n",
       "        vertical-align: middle;\n",
       "    }\n",
       "\n",
       "    .dataframe tbody tr th {\n",
       "        vertical-align: top;\n",
       "    }\n",
       "\n",
       "    .dataframe thead th {\n",
       "        text-align: right;\n",
       "    }\n",
       "</style>\n",
       "<table border=\"1\" class=\"dataframe\">\n",
       "  <thead>\n",
       "    <tr style=\"text-align: right;\">\n",
       "      <th></th>\n",
       "      <th>children</th>\n",
       "      <th>days_employed</th>\n",
       "      <th>dob_years</th>\n",
       "      <th>education</th>\n",
       "      <th>education_id</th>\n",
       "      <th>family_status</th>\n",
       "      <th>family_status_id</th>\n",
       "      <th>gender</th>\n",
       "      <th>income_type</th>\n",
       "      <th>debt</th>\n",
       "      <th>total_income</th>\n",
       "      <th>purpose</th>\n",
       "    </tr>\n",
       "  </thead>\n",
       "  <tbody>\n",
       "    <tr>\n",
       "      <th>4</th>\n",
       "      <td>0</td>\n",
       "      <td>340266.072047</td>\n",
       "      <td>53.0</td>\n",
       "      <td>secondary education</td>\n",
       "      <td>1</td>\n",
       "      <td>civil partnership</td>\n",
       "      <td>1</td>\n",
       "      <td>F</td>\n",
       "      <td>retiree</td>\n",
       "      <td>0</td>\n",
       "      <td>25378.572</td>\n",
       "      <td>to have a wedding</td>\n",
       "    </tr>\n",
       "    <tr>\n",
       "      <th>18</th>\n",
       "      <td>0</td>\n",
       "      <td>400281.136913</td>\n",
       "      <td>53.0</td>\n",
       "      <td>secondary education</td>\n",
       "      <td>1</td>\n",
       "      <td>widow / widower</td>\n",
       "      <td>2</td>\n",
       "      <td>F</td>\n",
       "      <td>retiree</td>\n",
       "      <td>0</td>\n",
       "      <td>9091.804</td>\n",
       "      <td>buying a second-hand car</td>\n",
       "    </tr>\n",
       "    <tr>\n",
       "      <th>24</th>\n",
       "      <td>1</td>\n",
       "      <td>338551.952911</td>\n",
       "      <td>57.0</td>\n",
       "      <td>secondary education</td>\n",
       "      <td>1</td>\n",
       "      <td>unmarried</td>\n",
       "      <td>4</td>\n",
       "      <td>F</td>\n",
       "      <td>retiree</td>\n",
       "      <td>0</td>\n",
       "      <td>46487.558</td>\n",
       "      <td>transactions with commercial real estate</td>\n",
       "    </tr>\n",
       "    <tr>\n",
       "      <th>25</th>\n",
       "      <td>0</td>\n",
       "      <td>363548.489348</td>\n",
       "      <td>67.0</td>\n",
       "      <td>secondary education</td>\n",
       "      <td>1</td>\n",
       "      <td>married</td>\n",
       "      <td>0</td>\n",
       "      <td>M</td>\n",
       "      <td>retiree</td>\n",
       "      <td>0</td>\n",
       "      <td>8818.041</td>\n",
       "      <td>buy real estate</td>\n",
       "    </tr>\n",
       "    <tr>\n",
       "      <th>30</th>\n",
       "      <td>1</td>\n",
       "      <td>335581.668515</td>\n",
       "      <td>62.0</td>\n",
       "      <td>secondary education</td>\n",
       "      <td>1</td>\n",
       "      <td>married</td>\n",
       "      <td>0</td>\n",
       "      <td>F</td>\n",
       "      <td>retiree</td>\n",
       "      <td>0</td>\n",
       "      <td>27432.971</td>\n",
       "      <td>transactions with commercial real estate</td>\n",
       "    </tr>\n",
       "    <tr>\n",
       "      <th>...</th>\n",
       "      <td>...</td>\n",
       "      <td>...</td>\n",
       "      <td>...</td>\n",
       "      <td>...</td>\n",
       "      <td>...</td>\n",
       "      <td>...</td>\n",
       "      <td>...</td>\n",
       "      <td>...</td>\n",
       "      <td>...</td>\n",
       "      <td>...</td>\n",
       "      <td>...</td>\n",
       "      <td>...</td>\n",
       "    </tr>\n",
       "    <tr>\n",
       "      <th>21505</th>\n",
       "      <td>0</td>\n",
       "      <td>338904.866406</td>\n",
       "      <td>53.0</td>\n",
       "      <td>secondary education</td>\n",
       "      <td>1</td>\n",
       "      <td>civil partnership</td>\n",
       "      <td>1</td>\n",
       "      <td>M</td>\n",
       "      <td>retiree</td>\n",
       "      <td>0</td>\n",
       "      <td>12070.399</td>\n",
       "      <td>to have a wedding</td>\n",
       "    </tr>\n",
       "    <tr>\n",
       "      <th>21508</th>\n",
       "      <td>0</td>\n",
       "      <td>386497.714078</td>\n",
       "      <td>62.0</td>\n",
       "      <td>secondary education</td>\n",
       "      <td>1</td>\n",
       "      <td>married</td>\n",
       "      <td>0</td>\n",
       "      <td>M</td>\n",
       "      <td>retiree</td>\n",
       "      <td>0</td>\n",
       "      <td>11622.175</td>\n",
       "      <td>property</td>\n",
       "    </tr>\n",
       "    <tr>\n",
       "      <th>21509</th>\n",
       "      <td>0</td>\n",
       "      <td>362161.054124</td>\n",
       "      <td>59.0</td>\n",
       "      <td>bachelor's degree</td>\n",
       "      <td>0</td>\n",
       "      <td>married</td>\n",
       "      <td>0</td>\n",
       "      <td>M</td>\n",
       "      <td>retiree</td>\n",
       "      <td>0</td>\n",
       "      <td>11684.650</td>\n",
       "      <td>real estate transactions</td>\n",
       "    </tr>\n",
       "    <tr>\n",
       "      <th>21518</th>\n",
       "      <td>0</td>\n",
       "      <td>373995.710838</td>\n",
       "      <td>59.0</td>\n",
       "      <td>secondary education</td>\n",
       "      <td>1</td>\n",
       "      <td>married</td>\n",
       "      <td>0</td>\n",
       "      <td>F</td>\n",
       "      <td>retiree</td>\n",
       "      <td>0</td>\n",
       "      <td>24618.344</td>\n",
       "      <td>purchase of a car</td>\n",
       "    </tr>\n",
       "    <tr>\n",
       "      <th>21521</th>\n",
       "      <td>0</td>\n",
       "      <td>343937.404131</td>\n",
       "      <td>67.0</td>\n",
       "      <td>secondary education</td>\n",
       "      <td>1</td>\n",
       "      <td>married</td>\n",
       "      <td>0</td>\n",
       "      <td>F</td>\n",
       "      <td>retiree</td>\n",
       "      <td>0</td>\n",
       "      <td>24959.969</td>\n",
       "      <td>purchase of a car</td>\n",
       "    </tr>\n",
       "  </tbody>\n",
       "</table>\n",
       "<p>3445 rows × 12 columns</p>\n",
       "</div>"
      ],
      "text/plain": [
       "       children  days_employed  dob_years            education  education_id  \\\n",
       "4             0  340266.072047       53.0  secondary education             1   \n",
       "18            0  400281.136913       53.0  secondary education             1   \n",
       "24            1  338551.952911       57.0  secondary education             1   \n",
       "25            0  363548.489348       67.0  secondary education             1   \n",
       "30            1  335581.668515       62.0  secondary education             1   \n",
       "...         ...            ...        ...                  ...           ...   \n",
       "21505         0  338904.866406       53.0  secondary education             1   \n",
       "21508         0  386497.714078       62.0  secondary education             1   \n",
       "21509         0  362161.054124       59.0    bachelor's degree             0   \n",
       "21518         0  373995.710838       59.0  secondary education             1   \n",
       "21521         0  343937.404131       67.0  secondary education             1   \n",
       "\n",
       "           family_status  family_status_id gender income_type  debt  \\\n",
       "4      civil partnership                 1      F     retiree     0   \n",
       "18       widow / widower                 2      F     retiree     0   \n",
       "24             unmarried                 4      F     retiree     0   \n",
       "25               married                 0      M     retiree     0   \n",
       "30               married                 0      F     retiree     0   \n",
       "...                  ...               ...    ...         ...   ...   \n",
       "21505  civil partnership                 1      M     retiree     0   \n",
       "21508            married                 0      M     retiree     0   \n",
       "21509            married                 0      M     retiree     0   \n",
       "21518            married                 0      F     retiree     0   \n",
       "21521            married                 0      F     retiree     0   \n",
       "\n",
       "       total_income                                   purpose  \n",
       "4         25378.572                         to have a wedding  \n",
       "18         9091.804                  buying a second-hand car  \n",
       "24        46487.558  transactions with commercial real estate  \n",
       "25         8818.041                           buy real estate  \n",
       "30        27432.971  transactions with commercial real estate  \n",
       "...             ...                                       ...  \n",
       "21505     12070.399                         to have a wedding  \n",
       "21508     11622.175                                  property  \n",
       "21509     11684.650                  real estate transactions  \n",
       "21518     24618.344                         purchase of a car  \n",
       "21521     24959.969                         purchase of a car  \n",
       "\n",
       "[3445 rows x 12 columns]"
      ]
     },
     "metadata": {},
     "output_type": "display_data"
    },
    {
     "name": "stdout",
     "output_type": "stream",
     "text": [
      "====================================================================================================\n",
      "A porcentagem de dias trabalhados que superam a idade do cliente é 16.00%.\n"
     ]
    }
   ],
   "source": [
    "# Dados problemáticos, dias trabalhados superiores aos dias de vida\n",
    "df_outlier_days = df.loc[df.loc[:,'days_employed']>(df['dob_years']*365)] # Aplicando a lógica\n",
    "display(df_outlier_days)\n",
    "print('='*100)\n",
    "# Mostrando o percentual de valores extremos\n",
    "perc_outlier_days = df_outlier_days['days_employed'].shape[0] / df['days_employed'].shape[0]\n",
    "print(f'A porcentagem de dias trabalhados que superam a idade do cliente é {perc_outlier_days:.2%}.')"
   ]
  },
  {
   "cell_type": "code",
   "execution_count": 30,
   "id": "0d4d7ddd",
   "metadata": {
    "execution": {
     "iopub.execute_input": "2022-11-26T18:52:49.922922Z",
     "iopub.status.busy": "2022-11-26T18:52:49.922045Z",
     "iopub.status.idle": "2022-11-26T18:52:49.939761Z",
     "shell.execute_reply": "2022-11-26T18:52:49.938257Z"
    },
    "papermill": {
     "duration": 0.056736,
     "end_time": "2022-11-26T18:52:49.942032",
     "exception": false,
     "start_time": "2022-11-26T18:52:49.885296",
     "status": "completed"
    },
    "tags": []
   },
   "outputs": [
    {
     "data": {
      "text/plain": [
       "income_type\n",
       "retiree       3443\n",
       "unemployed       2\n",
       "Name: days_employed, dtype: int64"
      ]
     },
     "metadata": {},
     "output_type": "display_data"
    },
    {
     "name": "stdout",
     "output_type": "stream",
     "text": [
      "\n"
     ]
    },
    {
     "data": {
      "text/plain": [
       "income_type\n",
       "business                        4577\n",
       "civil servant                   1312\n",
       "employee                       10014\n",
       "entrepreneur                       1\n",
       "paternity / maternity leave        1\n",
       "retiree                         3443\n",
       "student                            1\n",
       "unemployed                         2\n",
       "Name: days_employed, dtype: int64"
      ]
     },
     "metadata": {},
     "output_type": "display_data"
    }
   ],
   "source": [
    "# Analisar os dados problemáticos, dias de trabalhos superiores ao dias de vida\n",
    "display(df_outlier_days.groupby('income_type')['days_employed'].count())\n",
    "print()\n",
    "display(df.groupby('income_type')['days_employed'].count())"
   ]
  },
  {
   "cell_type": "markdown",
   "id": "c4c3a496",
   "metadata": {
    "papermill": {
     "duration": 0.035284,
     "end_time": "2022-11-26T18:52:50.012849",
     "exception": false,
     "start_time": "2022-11-26T18:52:49.977565",
     "status": "completed"
    },
    "tags": []
   },
   "source": [
    "Os clientes com informações de dias trabalhados que superam seus dias de vida estão concentrados, em sua totalidade, no grupo `retiree`.\n",
    "Até 2022, para se aposentar nos Estados Unidos era necessário trabalhar por no mínimo 10 anos e ter 62 anos ou mais. Apesar de ser possível trabalhar com menos de 18 anos nos Estados Unidos, esses trabalhos raramente recolhem impostos ou possuem contratos que garantem os critérios para se aposentar. Desse modo, os valores a serem substituídos em `days_employed` devem variar entre 3650 e a multiplicação de 365 dias com idade atual do cliente menos 18 anos — (`dob_years` - 18)*365.\n",
    "\n",
    "[Voltar ao Índice](#back)"
   ]
  },
  {
   "cell_type": "code",
   "execution_count": 31,
   "id": "0e561c34",
   "metadata": {
    "execution": {
     "iopub.execute_input": "2022-11-26T18:52:50.086317Z",
     "iopub.status.busy": "2022-11-26T18:52:50.085889Z",
     "iopub.status.idle": "2022-11-26T18:52:50.108218Z",
     "shell.execute_reply": "2022-11-26T18:52:50.107191Z"
    },
    "papermill": {
     "duration": 0.061813,
     "end_time": "2022-11-26T18:52:50.110243",
     "exception": false,
     "start_time": "2022-11-26T18:52:50.048430",
     "status": "completed"
    },
    "tags": []
   },
   "outputs": [
    {
     "data": {
      "text/plain": [
       "income_type\n",
       "business                       2111.524398\n",
       "civil servant                  3399.896902\n",
       "employee                       2326.499216\n",
       "entrepreneur                    520.848083\n",
       "paternity / maternity leave    3296.759962\n",
       "student                         578.751554\n",
       "Name: days_employed, dtype: float64"
      ]
     },
     "metadata": {},
     "output_type": "display_data"
    },
    {
     "data": {
      "text/plain": [
       "income_type\n",
       "business                       1547.382223\n",
       "civil servant                  2689.368353\n",
       "employee                       1574.202821\n",
       "entrepreneur                    520.848083\n",
       "paternity / maternity leave    3296.759962\n",
       "student                         578.751554\n",
       "Name: days_employed, dtype: float64"
      ]
     },
     "metadata": {},
     "output_type": "display_data"
    }
   ],
   "source": [
    "# Encontrar a média e a mediana de days_employed desconsiderando os valores extremos\n",
    "dif_days = df.loc[df.loc[:,'days_employed']<(df['dob_years']*365)]\n",
    "values_dmean_employed = dif_days.groupby('income_type')['days_employed'].mean()\n",
    "display(values_dmean_employed)\n",
    "values_dmedian_employed = dif_days.groupby('income_type')['days_employed'].median()\n",
    "display(values_dmedian_employed)"
   ]
  },
  {
   "cell_type": "code",
   "execution_count": 32,
   "id": "6a9969d0",
   "metadata": {
    "execution": {
     "iopub.execute_input": "2022-11-26T18:52:50.183548Z",
     "iopub.status.busy": "2022-11-26T18:52:50.182708Z",
     "iopub.status.idle": "2022-11-26T18:52:50.188826Z",
     "shell.execute_reply": "2022-11-26T18:52:50.187869Z"
    },
    "papermill": {
     "duration": 0.045019,
     "end_time": "2022-11-26T18:52:50.190888",
     "exception": false,
     "start_time": "2022-11-26T18:52:50.145869",
     "status": "completed"
    },
    "tags": []
   },
   "outputs": [],
   "source": [
    "# Criar função para substituir valores\n",
    "def preencher_days_employed(row):\n",
    "    if row['income_type']=='retiree' or row['income_type']=='unemployed':\n",
    "        max_day = (row['dob_years']*365-(18*365))\n",
    "        return max_day\n",
    "    else:\n",
    "        return row['days_employed']"
   ]
  },
  {
   "cell_type": "code",
   "execution_count": 33,
   "id": "99c90908",
   "metadata": {
    "execution": {
     "iopub.execute_input": "2022-11-26T18:52:50.264756Z",
     "iopub.status.busy": "2022-11-26T18:52:50.264356Z",
     "iopub.status.idle": "2022-11-26T18:52:50.275179Z",
     "shell.execute_reply": "2022-11-26T18:52:50.274276Z"
    },
    "papermill": {
     "duration": 0.049879,
     "end_time": "2022-11-26T18:52:50.277337",
     "exception": false,
     "start_time": "2022-11-26T18:52:50.227458",
     "status": "completed"
    },
    "tags": []
   },
   "outputs": [
    {
     "data": {
      "text/plain": [
       "children                              0\n",
       "days_employed             340266.072047\n",
       "dob_years                          53.0\n",
       "education           secondary education\n",
       "education_id                          1\n",
       "family_status         civil partnership\n",
       "family_status_id                      1\n",
       "gender                                F\n",
       "income_type                     retiree\n",
       "debt                                  0\n",
       "total_income                  25378.572\n",
       "purpose               to have a wedding\n",
       "Name: 4, dtype: object"
      ]
     },
     "execution_count": 33,
     "metadata": {},
     "output_type": "execute_result"
    }
   ],
   "source": [
    "# Testar a função com a primeira linha dos valores extremos\n",
    "df[df['days_employed']>(df['dob_years']*365)].iloc[0]"
   ]
  },
  {
   "cell_type": "code",
   "execution_count": 34,
   "id": "385617cc",
   "metadata": {
    "execution": {
     "iopub.execute_input": "2022-11-26T18:52:50.352464Z",
     "iopub.status.busy": "2022-11-26T18:52:50.351424Z",
     "iopub.status.idle": "2022-11-26T18:52:50.361275Z",
     "shell.execute_reply": "2022-11-26T18:52:50.360166Z"
    },
    "papermill": {
     "duration": 0.050164,
     "end_time": "2022-11-26T18:52:50.363437",
     "exception": false,
     "start_time": "2022-11-26T18:52:50.313273",
     "status": "completed"
    },
    "tags": []
   },
   "outputs": [
    {
     "data": {
      "text/plain": [
       "12775.0"
      ]
     },
     "execution_count": 34,
     "metadata": {},
     "output_type": "execute_result"
    }
   ],
   "source": [
    "# Testar a função, o resultado deve ser (53-18)*365 = 12775\n",
    "preencher_days_employed(df[df['days_employed']>(df['dob_years']*365)].iloc[0])"
   ]
  },
  {
   "cell_type": "code",
   "execution_count": 35,
   "id": "148202d2",
   "metadata": {
    "execution": {
     "iopub.execute_input": "2022-11-26T18:52:50.437922Z",
     "iopub.status.busy": "2022-11-26T18:52:50.436865Z",
     "iopub.status.idle": "2022-11-26T18:52:50.837891Z",
     "shell.execute_reply": "2022-11-26T18:52:50.837027Z"
    },
    "papermill": {
     "duration": 0.440927,
     "end_time": "2022-11-26T18:52:50.840443",
     "exception": false,
     "start_time": "2022-11-26T18:52:50.399516",
     "status": "completed"
    },
    "tags": []
   },
   "outputs": [],
   "source": [
    "# Aplicar a função inteira no DataFrame\n",
    "df['days_employed'] = df.apply(preencher_days_employed, axis = 1)"
   ]
  },
  {
   "cell_type": "code",
   "execution_count": 36,
   "id": "afd52a66",
   "metadata": {
    "execution": {
     "iopub.execute_input": "2022-11-26T18:52:50.916628Z",
     "iopub.status.busy": "2022-11-26T18:52:50.915204Z",
     "iopub.status.idle": "2022-11-26T18:52:50.926102Z",
     "shell.execute_reply": "2022-11-26T18:52:50.925211Z"
    },
    "papermill": {
     "duration": 0.051369,
     "end_time": "2022-11-26T18:52:50.928429",
     "exception": false,
     "start_time": "2022-11-26T18:52:50.877060",
     "status": "completed"
    },
    "tags": []
   },
   "outputs": [
    {
     "data": {
      "text/plain": [
       "Series([], Name: days_employed, dtype: int64)"
      ]
     },
     "metadata": {},
     "output_type": "display_data"
    }
   ],
   "source": [
    "# Verificar se ainda temos dias trabalhados superiores a dias de vida\n",
    "df_outlier_days = df.loc[df.loc[:,'days_employed']>(df['dob_years']*365)]\n",
    "display(df_outlier_days.groupby('income_type')['days_employed'].count())"
   ]
  },
  {
   "cell_type": "markdown",
   "id": "552e0fa5",
   "metadata": {
    "papermill": {
     "duration": 0.035967,
     "end_time": "2022-11-26T18:52:51.000720",
     "exception": false,
     "start_time": "2022-11-26T18:52:50.964753",
     "status": "completed"
    },
    "tags": []
   },
   "source": [
    "Verificar agora a idade do cliente, `dob_years`, e corrigir possíveis problemas que possam surgir."
   ]
  },
  {
   "cell_type": "code",
   "execution_count": 37,
   "id": "34b99153",
   "metadata": {
    "execution": {
     "iopub.execute_input": "2022-11-26T18:52:51.075351Z",
     "iopub.status.busy": "2022-11-26T18:52:51.074557Z",
     "iopub.status.idle": "2022-11-26T18:52:51.085764Z",
     "shell.execute_reply": "2022-11-26T18:52:51.084313Z"
    },
    "papermill": {
     "duration": 0.052756,
     "end_time": "2022-11-26T18:52:51.089532",
     "exception": false,
     "start_time": "2022-11-26T18:52:51.036776",
     "status": "completed"
    },
    "tags": []
   },
   "outputs": [
    {
     "name": "stdout",
     "output_type": "stream",
     "text": [
      "A porcentagem de clientes com idade superior a 100 anos é 0.00%.\n",
      "A porcentagem de clientes com idade igual ou inferior a 0 (zero) anos é 0.00%.\n"
     ]
    }
   ],
   "source": [
    "# Verificar `dob_years` para valores suspeitos e contar a porcentagem\n",
    "df['dob_years'] = df['dob_years'].astype('int')\n",
    "up_years = df[df['dob_years']>=100].shape[0] / df['dob_years'].shape[0]\n",
    "do_years = df[df['dob_years']<=0].shape[0] / df['dob_years'].shape[0]\n",
    "print(f'A porcentagem de clientes com idade superior a 100 anos é {up_years:.2%}.')\n",
    "print(f'A porcentagem de clientes com idade igual ou inferior a 0 (zero) anos é {do_years:.2%}.')"
   ]
  },
  {
   "cell_type": "markdown",
   "id": "a2f07ae6",
   "metadata": {
    "papermill": {
     "duration": 0.037782,
     "end_time": "2022-11-26T18:52:51.164175",
     "exception": false,
     "start_time": "2022-11-26T18:52:51.126393",
     "status": "completed"
    },
    "tags": []
   },
   "source": [
    "Verificar a coluna `family_status` e resolver possíveis problemas."
   ]
  },
  {
   "cell_type": "code",
   "execution_count": 38,
   "id": "aa0eb20f",
   "metadata": {
    "execution": {
     "iopub.execute_input": "2022-11-26T18:52:51.238982Z",
     "iopub.status.busy": "2022-11-26T18:52:51.238177Z",
     "iopub.status.idle": "2022-11-26T18:52:51.265048Z",
     "shell.execute_reply": "2022-11-26T18:52:51.263515Z"
    },
    "papermill": {
     "duration": 0.067031,
     "end_time": "2022-11-26T18:52:51.267679",
     "exception": false,
     "start_time": "2022-11-26T18:52:51.200648",
     "status": "completed"
    },
    "tags": []
   },
   "outputs": [
    {
     "name": "stdout",
     "output_type": "stream",
     "text": [
      "['married' 'civil partnership' 'widow / widower' 'divorced' 'unmarried']\n",
      "\n",
      "count       21525\n",
      "unique          5\n",
      "top       married\n",
      "freq        12380\n",
      "Name: family_status, dtype: object\n",
      "\n",
      "family_status\n",
      "civil partnership     4177\n",
      "divorced              1195\n",
      "married              12380\n",
      "unmarried             2813\n",
      "widow / widower        960\n",
      "Name: family_status_id, dtype: int64\n",
      "\n",
      "                   family_status_id\n",
      "family_status                      \n",
      "civil partnership                 1\n",
      "divorced                          3\n",
      "married                           0\n",
      "unmarried                         4\n",
      "widow / widower                   2\n"
     ]
    }
   ],
   "source": [
    "# Verificar os valores da coluna\n",
    "print(df['family_status'].unique())\n",
    "print()\n",
    "print(df['family_status'].describe())\n",
    "print()\n",
    "print(df.groupby('family_status')['family_status_id'].count())\n",
    "print()\n",
    "fstatus_pivot = df.pivot_table(index='family_status', values='family_status_id', aggfunc='mean')\n",
    "print(fstatus_pivot)"
   ]
  },
  {
   "cell_type": "markdown",
   "id": "07eec30c",
   "metadata": {
    "papermill": {
     "duration": 0.036343,
     "end_time": "2022-11-26T18:52:51.340764",
     "exception": false,
     "start_time": "2022-11-26T18:52:51.304421",
     "status": "completed"
    },
    "tags": []
   },
   "source": [
    "Num primeiro momento, não há problemáticas apresentadas por essa variável. Apesar das leis brasileiras considerarem união civil (`civil partnership`) algo intrínseco ao casamento (`married`), devemos levar em consideração a coleta dos dados ter sido feito no idioma inglês. Desse modo, o órgão governamental norte americano CDC — _Center for Disease Control and Prevention_, através da _National Center for Health Statistics_ mantém as mesmas indicações em seus relatórios anuais.\n",
    "\n",
    "[Voltar ao Índice](#back)"
   ]
  },
  {
   "cell_type": "markdown",
   "id": "b30842d7",
   "metadata": {
    "papermill": {
     "duration": 0.035973,
     "end_time": "2022-11-26T18:52:51.413146",
     "exception": false,
     "start_time": "2022-11-26T18:52:51.377173",
     "status": "completed"
    },
    "tags": []
   },
   "source": [
    "Verificar a coluna `gender` e resolver possíveis problemas."
   ]
  },
  {
   "cell_type": "code",
   "execution_count": 39,
   "id": "a494f41e",
   "metadata": {
    "execution": {
     "iopub.execute_input": "2022-11-26T18:52:51.488652Z",
     "iopub.status.busy": "2022-11-26T18:52:51.488250Z",
     "iopub.status.idle": "2022-11-26T18:52:51.505337Z",
     "shell.execute_reply": "2022-11-26T18:52:51.503920Z"
    },
    "papermill": {
     "duration": 0.058955,
     "end_time": "2022-11-26T18:52:51.508428",
     "exception": false,
     "start_time": "2022-11-26T18:52:51.449473",
     "status": "completed"
    },
    "tags": []
   },
   "outputs": [
    {
     "name": "stdout",
     "output_type": "stream",
     "text": [
      "['F' 'M' 'XNA']\n",
      "\n",
      "count     21525\n",
      "unique        3\n",
      "top           F\n",
      "freq      14236\n",
      "Name: gender, dtype: object\n",
      "\n",
      "gender\n",
      "F      14236\n",
      "M       7288\n",
      "XNA        1\n",
      "Name: family_status, dtype: int64\n"
     ]
    }
   ],
   "source": [
    "# Verificar os valores na coluna\n",
    "print(df['gender'].unique())\n",
    "print()\n",
    "print(df['gender'].describe())\n",
    "print()\n",
    "print(df.groupby('gender')['family_status'].count())"
   ]
  },
  {
   "cell_type": "markdown",
   "id": "be9c9177",
   "metadata": {
    "papermill": {
     "duration": 0.036287,
     "end_time": "2022-11-26T18:52:51.582022",
     "exception": false,
     "start_time": "2022-11-26T18:52:51.545735",
     "status": "completed"
    },
    "tags": []
   },
   "source": [
    "Há apenas um valor discrepante, sem indicação de gênero. Nesse caso, realiza-se a exclusão da linha por não ter representatividade na quantidade total dos dados."
   ]
  },
  {
   "cell_type": "code",
   "execution_count": 40,
   "id": "7f5f4021",
   "metadata": {
    "execution": {
     "iopub.execute_input": "2022-11-26T18:52:51.656439Z",
     "iopub.status.busy": "2022-11-26T18:52:51.655982Z",
     "iopub.status.idle": "2022-11-26T18:52:51.667611Z",
     "shell.execute_reply": "2022-11-26T18:52:51.666333Z"
    },
    "papermill": {
     "duration": 0.051965,
     "end_time": "2022-11-26T18:52:51.670138",
     "exception": false,
     "start_time": "2022-11-26T18:52:51.618173",
     "status": "completed"
    },
    "tags": []
   },
   "outputs": [],
   "source": [
    "# remover a linha problemática\n",
    "df.drop(df[df['gender']=='XNA'].index, inplace = True)"
   ]
  },
  {
   "cell_type": "code",
   "execution_count": 41,
   "id": "1aabb2ee",
   "metadata": {
    "execution": {
     "iopub.execute_input": "2022-11-26T18:52:51.745182Z",
     "iopub.status.busy": "2022-11-26T18:52:51.744809Z",
     "iopub.status.idle": "2022-11-26T18:52:51.752560Z",
     "shell.execute_reply": "2022-11-26T18:52:51.751318Z"
    },
    "papermill": {
     "duration": 0.047946,
     "end_time": "2022-11-26T18:52:51.754946",
     "exception": false,
     "start_time": "2022-11-26T18:52:51.707000",
     "status": "completed"
    },
    "tags": []
   },
   "outputs": [
    {
     "name": "stdout",
     "output_type": "stream",
     "text": [
      "['F' 'M']\n"
     ]
    }
   ],
   "source": [
    "# Verificar o resultado\n",
    "print(df['gender'].unique())"
   ]
  },
  {
   "cell_type": "markdown",
   "id": "0b8d5285",
   "metadata": {
    "papermill": {
     "duration": 0.036188,
     "end_time": "2022-11-26T18:52:51.827786",
     "exception": false,
     "start_time": "2022-11-26T18:52:51.791598",
     "status": "completed"
    },
    "tags": []
   },
   "source": [
    "Verificar a coluna `income_type` e resolver possíveis problemas."
   ]
  },
  {
   "cell_type": "code",
   "execution_count": 42,
   "id": "c74fa5f3",
   "metadata": {
    "execution": {
     "iopub.execute_input": "2022-11-26T18:52:51.903103Z",
     "iopub.status.busy": "2022-11-26T18:52:51.902678Z",
     "iopub.status.idle": "2022-11-26T18:52:51.920973Z",
     "shell.execute_reply": "2022-11-26T18:52:51.919531Z"
    },
    "papermill": {
     "duration": 0.058953,
     "end_time": "2022-11-26T18:52:51.923705",
     "exception": false,
     "start_time": "2022-11-26T18:52:51.864752",
     "status": "completed"
    },
    "tags": []
   },
   "outputs": [
    {
     "name": "stdout",
     "output_type": "stream",
     "text": [
      "['employee' 'retiree' 'business' 'civil servant' 'unemployed'\n",
      " 'entrepreneur' 'student' 'paternity / maternity leave']\n",
      "\n",
      "count        21524\n",
      "unique           8\n",
      "top       employee\n",
      "freq         11119\n",
      "Name: income_type, dtype: object\n",
      "\n",
      "income_type\n",
      "business                        5084\n",
      "civil servant                   1459\n",
      "employee                       11119\n",
      "entrepreneur                       2\n",
      "paternity / maternity leave        1\n",
      "retiree                         3856\n",
      "student                            1\n",
      "unemployed                         2\n",
      "Name: gender, dtype: int64\n"
     ]
    }
   ],
   "source": [
    "# Verificar os valores na coluna\n",
    "print(df['income_type'].unique())\n",
    "print()\n",
    "print(df['income_type'].describe())\n",
    "print()\n",
    "print(df.groupby('income_type')['gender'].count())"
   ]
  },
  {
   "cell_type": "markdown",
   "id": "cdb2705e",
   "metadata": {
    "papermill": {
     "duration": 0.036232,
     "end_time": "2022-11-26T18:52:51.996809",
     "exception": false,
     "start_time": "2022-11-26T18:52:51.960577",
     "status": "completed"
    },
    "tags": []
   },
   "source": [
    "Vale ressaltar que `income_type` representa o tipo de emprego que o cliente do banco possui. Temos aqui a existência de duplicatas implícitas, uma vez que `business` e `entrepreneur` representam clientes do banco que possuem empresas — empresários. Nesse caso, a melhor tratativa é unir esses dados apenas na variável `business`, pois é a mais representativa no conjunto de dados.\n",
    "\n",
    "Outro ponto a corrigir é a inexpressiva quantidade de clientes em `unemployed`, `student` e `paternity / maternity leave`, não justificando a criação de variáveis para essas categorias. Assim, excluo essas três categorias, totalizando quatro linhas, uma vez que não representam um tipo de emprego que a variável `income_type` descreve.\n",
    "\n",
    "[Voltar ao Índice](#back)"
   ]
  },
  {
   "cell_type": "code",
   "execution_count": 43,
   "id": "f72a96ba",
   "metadata": {
    "execution": {
     "iopub.execute_input": "2022-11-26T18:52:52.073124Z",
     "iopub.status.busy": "2022-11-26T18:52:52.072689Z",
     "iopub.status.idle": "2022-11-26T18:52:52.095502Z",
     "shell.execute_reply": "2022-11-26T18:52:52.094540Z"
    },
    "papermill": {
     "duration": 0.063492,
     "end_time": "2022-11-26T18:52:52.098008",
     "exception": false,
     "start_time": "2022-11-26T18:52:52.034516",
     "status": "completed"
    },
    "tags": []
   },
   "outputs": [],
   "source": [
    "# Agrupar entrepreneur à business\n",
    "df['income_type'] = np.where(df['income_type']=='entrepreneur','business', df['income_type'])\n",
    "\n",
    "# Excluir linhas que não representam a variável income_type\n",
    "df['income_type']=np.where(df['income_type']=='unemployed', np.nan, df['income_type'])\n",
    "df['income_type']=np.where(df['income_type']=='student', np.nan, df['income_type'])\n",
    "df['income_type']=np.where(df['income_type']=='paternity / maternity leave', np.nan, df['income_type'])\n",
    "df = df.dropna(subset=['income_type'])"
   ]
  },
  {
   "cell_type": "code",
   "execution_count": 44,
   "id": "8407fbf0",
   "metadata": {
    "execution": {
     "iopub.execute_input": "2022-11-26T18:52:52.174417Z",
     "iopub.status.busy": "2022-11-26T18:52:52.173394Z",
     "iopub.status.idle": "2022-11-26T18:52:52.189588Z",
     "shell.execute_reply": "2022-11-26T18:52:52.188485Z"
    },
    "papermill": {
     "duration": 0.057126,
     "end_time": "2022-11-26T18:52:52.192635",
     "exception": false,
     "start_time": "2022-11-26T18:52:52.135509",
     "status": "completed"
    },
    "tags": []
   },
   "outputs": [
    {
     "name": "stdout",
     "output_type": "stream",
     "text": [
      "['employee' 'retiree' 'business' 'civil servant']\n",
      "\n",
      "count        21520\n",
      "unique           4\n",
      "top       employee\n",
      "freq         11119\n",
      "Name: income_type, dtype: object\n",
      "\n",
      "income_type\n",
      "business          5086\n",
      "civil servant     1459\n",
      "employee         11119\n",
      "retiree           3856\n",
      "Name: gender, dtype: int64\n"
     ]
    }
   ],
   "source": [
    "# Verifcar o resultado\n",
    "print(df['income_type'].unique())\n",
    "print()\n",
    "print(df['income_type'].describe())\n",
    "print()\n",
    "print(df.groupby('income_type')['gender'].count())"
   ]
  },
  {
   "cell_type": "markdown",
   "id": "2d56af17",
   "metadata": {
    "papermill": {
     "duration": 0.036614,
     "end_time": "2022-11-26T18:52:52.266832",
     "exception": false,
     "start_time": "2022-11-26T18:52:52.230218",
     "status": "completed"
    },
    "tags": []
   },
   "source": [
    "Verificar se temos duplicatas nos dados."
   ]
  },
  {
   "cell_type": "code",
   "execution_count": 45,
   "id": "fe971708",
   "metadata": {
    "execution": {
     "iopub.execute_input": "2022-11-26T18:52:52.343029Z",
     "iopub.status.busy": "2022-11-26T18:52:52.342043Z",
     "iopub.status.idle": "2022-11-26T18:52:52.384630Z",
     "shell.execute_reply": "2022-11-26T18:52:52.383798Z"
    },
    "papermill": {
     "duration": 0.082853,
     "end_time": "2022-11-26T18:52:52.386753",
     "exception": false,
     "start_time": "2022-11-26T18:52:52.303900",
     "status": "completed"
    },
    "tags": []
   },
   "outputs": [
    {
     "data": {
      "text/html": [
       "<div>\n",
       "<style scoped>\n",
       "    .dataframe tbody tr th:only-of-type {\n",
       "        vertical-align: middle;\n",
       "    }\n",
       "\n",
       "    .dataframe tbody tr th {\n",
       "        vertical-align: top;\n",
       "    }\n",
       "\n",
       "    .dataframe thead th {\n",
       "        text-align: right;\n",
       "    }\n",
       "</style>\n",
       "<table border=\"1\" class=\"dataframe\">\n",
       "  <thead>\n",
       "    <tr style=\"text-align: right;\">\n",
       "      <th></th>\n",
       "      <th>children</th>\n",
       "      <th>days_employed</th>\n",
       "      <th>dob_years</th>\n",
       "      <th>education</th>\n",
       "      <th>education_id</th>\n",
       "      <th>family_status</th>\n",
       "      <th>family_status_id</th>\n",
       "      <th>gender</th>\n",
       "      <th>income_type</th>\n",
       "      <th>debt</th>\n",
       "      <th>total_income</th>\n",
       "      <th>purpose</th>\n",
       "    </tr>\n",
       "  </thead>\n",
       "  <tbody>\n",
       "    <tr>\n",
       "      <th>2849</th>\n",
       "      <td>0</td>\n",
       "      <td>NaN</td>\n",
       "      <td>41</td>\n",
       "      <td>secondary education</td>\n",
       "      <td>1</td>\n",
       "      <td>married</td>\n",
       "      <td>0</td>\n",
       "      <td>F</td>\n",
       "      <td>employee</td>\n",
       "      <td>0</td>\n",
       "      <td>NaN</td>\n",
       "      <td>purchase of the house for my family</td>\n",
       "    </tr>\n",
       "    <tr>\n",
       "      <th>3290</th>\n",
       "      <td>0</td>\n",
       "      <td>14600.0</td>\n",
       "      <td>58</td>\n",
       "      <td>secondary education</td>\n",
       "      <td>1</td>\n",
       "      <td>civil partnership</td>\n",
       "      <td>1</td>\n",
       "      <td>F</td>\n",
       "      <td>retiree</td>\n",
       "      <td>0</td>\n",
       "      <td>NaN</td>\n",
       "      <td>to have a wedding</td>\n",
       "    </tr>\n",
       "    <tr>\n",
       "      <th>4182</th>\n",
       "      <td>1</td>\n",
       "      <td>NaN</td>\n",
       "      <td>34</td>\n",
       "      <td>bachelor's degree</td>\n",
       "      <td>0</td>\n",
       "      <td>civil partnership</td>\n",
       "      <td>1</td>\n",
       "      <td>F</td>\n",
       "      <td>employee</td>\n",
       "      <td>0</td>\n",
       "      <td>NaN</td>\n",
       "      <td>wedding ceremony</td>\n",
       "    </tr>\n",
       "    <tr>\n",
       "      <th>4851</th>\n",
       "      <td>0</td>\n",
       "      <td>15330.0</td>\n",
       "      <td>60</td>\n",
       "      <td>secondary education</td>\n",
       "      <td>1</td>\n",
       "      <td>civil partnership</td>\n",
       "      <td>1</td>\n",
       "      <td>F</td>\n",
       "      <td>retiree</td>\n",
       "      <td>0</td>\n",
       "      <td>NaN</td>\n",
       "      <td>wedding ceremony</td>\n",
       "    </tr>\n",
       "    <tr>\n",
       "      <th>5557</th>\n",
       "      <td>0</td>\n",
       "      <td>14600.0</td>\n",
       "      <td>58</td>\n",
       "      <td>secondary education</td>\n",
       "      <td>1</td>\n",
       "      <td>civil partnership</td>\n",
       "      <td>1</td>\n",
       "      <td>F</td>\n",
       "      <td>retiree</td>\n",
       "      <td>0</td>\n",
       "      <td>NaN</td>\n",
       "      <td>to have a wedding</td>\n",
       "    </tr>\n",
       "    <tr>\n",
       "      <th>...</th>\n",
       "      <td>...</td>\n",
       "      <td>...</td>\n",
       "      <td>...</td>\n",
       "      <td>...</td>\n",
       "      <td>...</td>\n",
       "      <td>...</td>\n",
       "      <td>...</td>\n",
       "      <td>...</td>\n",
       "      <td>...</td>\n",
       "      <td>...</td>\n",
       "      <td>...</td>\n",
       "      <td>...</td>\n",
       "    </tr>\n",
       "    <tr>\n",
       "      <th>20702</th>\n",
       "      <td>0</td>\n",
       "      <td>16790.0</td>\n",
       "      <td>64</td>\n",
       "      <td>secondary education</td>\n",
       "      <td>1</td>\n",
       "      <td>married</td>\n",
       "      <td>0</td>\n",
       "      <td>F</td>\n",
       "      <td>retiree</td>\n",
       "      <td>0</td>\n",
       "      <td>NaN</td>\n",
       "      <td>supplementary education</td>\n",
       "    </tr>\n",
       "    <tr>\n",
       "      <th>21032</th>\n",
       "      <td>0</td>\n",
       "      <td>15330.0</td>\n",
       "      <td>60</td>\n",
       "      <td>secondary education</td>\n",
       "      <td>1</td>\n",
       "      <td>married</td>\n",
       "      <td>0</td>\n",
       "      <td>F</td>\n",
       "      <td>retiree</td>\n",
       "      <td>0</td>\n",
       "      <td>NaN</td>\n",
       "      <td>to become educated</td>\n",
       "    </tr>\n",
       "    <tr>\n",
       "      <th>21132</th>\n",
       "      <td>0</td>\n",
       "      <td>NaN</td>\n",
       "      <td>47</td>\n",
       "      <td>secondary education</td>\n",
       "      <td>1</td>\n",
       "      <td>married</td>\n",
       "      <td>0</td>\n",
       "      <td>F</td>\n",
       "      <td>employee</td>\n",
       "      <td>0</td>\n",
       "      <td>NaN</td>\n",
       "      <td>housing renovation</td>\n",
       "    </tr>\n",
       "    <tr>\n",
       "      <th>21281</th>\n",
       "      <td>1</td>\n",
       "      <td>NaN</td>\n",
       "      <td>30</td>\n",
       "      <td>bachelor's degree</td>\n",
       "      <td>0</td>\n",
       "      <td>married</td>\n",
       "      <td>0</td>\n",
       "      <td>F</td>\n",
       "      <td>employee</td>\n",
       "      <td>0</td>\n",
       "      <td>NaN</td>\n",
       "      <td>buy commercial real estate</td>\n",
       "    </tr>\n",
       "    <tr>\n",
       "      <th>21415</th>\n",
       "      <td>0</td>\n",
       "      <td>13140.0</td>\n",
       "      <td>54</td>\n",
       "      <td>secondary education</td>\n",
       "      <td>1</td>\n",
       "      <td>married</td>\n",
       "      <td>0</td>\n",
       "      <td>F</td>\n",
       "      <td>retiree</td>\n",
       "      <td>0</td>\n",
       "      <td>NaN</td>\n",
       "      <td>housing transactions</td>\n",
       "    </tr>\n",
       "  </tbody>\n",
       "</table>\n",
       "<p>71 rows × 12 columns</p>\n",
       "</div>"
      ],
      "text/plain": [
       "       children  days_employed  dob_years            education  education_id  \\\n",
       "2849          0            NaN         41  secondary education             1   \n",
       "3290          0        14600.0         58  secondary education             1   \n",
       "4182          1            NaN         34    bachelor's degree             0   \n",
       "4851          0        15330.0         60  secondary education             1   \n",
       "5557          0        14600.0         58  secondary education             1   \n",
       "...         ...            ...        ...                  ...           ...   \n",
       "20702         0        16790.0         64  secondary education             1   \n",
       "21032         0        15330.0         60  secondary education             1   \n",
       "21132         0            NaN         47  secondary education             1   \n",
       "21281         1            NaN         30    bachelor's degree             0   \n",
       "21415         0        13140.0         54  secondary education             1   \n",
       "\n",
       "           family_status  family_status_id gender income_type  debt  \\\n",
       "2849             married                 0      F    employee     0   \n",
       "3290   civil partnership                 1      F     retiree     0   \n",
       "4182   civil partnership                 1      F    employee     0   \n",
       "4851   civil partnership                 1      F     retiree     0   \n",
       "5557   civil partnership                 1      F     retiree     0   \n",
       "...                  ...               ...    ...         ...   ...   \n",
       "20702            married                 0      F     retiree     0   \n",
       "21032            married                 0      F     retiree     0   \n",
       "21132            married                 0      F    employee     0   \n",
       "21281            married                 0      F    employee     0   \n",
       "21415            married                 0      F     retiree     0   \n",
       "\n",
       "       total_income                              purpose  \n",
       "2849            NaN  purchase of the house for my family  \n",
       "3290            NaN                    to have a wedding  \n",
       "4182            NaN                     wedding ceremony  \n",
       "4851            NaN                     wedding ceremony  \n",
       "5557            NaN                    to have a wedding  \n",
       "...             ...                                  ...  \n",
       "20702           NaN              supplementary education  \n",
       "21032           NaN                   to become educated  \n",
       "21132           NaN                   housing renovation  \n",
       "21281           NaN           buy commercial real estate  \n",
       "21415           NaN                 housing transactions  \n",
       "\n",
       "[71 rows x 12 columns]"
      ]
     },
     "metadata": {},
     "output_type": "display_data"
    }
   ],
   "source": [
    "# Verificar duplicatas\n",
    "display(df[df.duplicated()])"
   ]
  },
  {
   "cell_type": "markdown",
   "id": "43877171",
   "metadata": {
    "papermill": {
     "duration": 0.037149,
     "end_time": "2022-11-26T18:52:52.461344",
     "exception": false,
     "start_time": "2022-11-26T18:52:52.424195",
     "status": "completed"
    },
    "tags": []
   },
   "source": [
    "Apesar de identificarmos 71 linhas com valores duplicados, não é correto fazer a exclusão deles, uma vez que não temos nenhuma variável de identificação única do cliente, como um `client_id` por exemplo. Além disso, essas duplicatas se concentram, em sua maioria, por causa da normalização realizada nos valores extremos de `days_employed`, bem como na ausência de valores em `total_income`, que poderiam nos ajudar a identificar se essas duplicatas são dos mesmos clientes ou aleatoriedade dos dados.\n",
    "\n",
    "[Voltar ao Índice](#back)"
   ]
  },
  {
   "cell_type": "code",
   "execution_count": 46,
   "id": "7d97cefc",
   "metadata": {
    "execution": {
     "iopub.execute_input": "2022-11-26T18:52:52.538888Z",
     "iopub.status.busy": "2022-11-26T18:52:52.538266Z",
     "iopub.status.idle": "2022-11-26T18:52:52.555096Z",
     "shell.execute_reply": "2022-11-26T18:52:52.553645Z"
    },
    "papermill": {
     "duration": 0.057655,
     "end_time": "2022-11-26T18:52:52.557391",
     "exception": false,
     "start_time": "2022-11-26T18:52:52.499736",
     "status": "completed"
    },
    "tags": []
   },
   "outputs": [
    {
     "name": "stdout",
     "output_type": "stream",
     "text": [
      "<class 'pandas.core.frame.DataFrame'>\n",
      "Int64Index: 21520 entries, 0 to 21524\n",
      "Data columns (total 12 columns):\n",
      " #   Column            Non-Null Count  Dtype  \n",
      "---  ------            --------------  -----  \n",
      " 0   children          21520 non-null  int64  \n",
      " 1   days_employed     19759 non-null  float64\n",
      " 2   dob_years         21520 non-null  int64  \n",
      " 3   education         21520 non-null  object \n",
      " 4   education_id      21520 non-null  int64  \n",
      " 5   family_status     21520 non-null  object \n",
      " 6   family_status_id  21520 non-null  int64  \n",
      " 7   gender            21520 non-null  object \n",
      " 8   income_type       21520 non-null  object \n",
      " 9   debt              21520 non-null  int64  \n",
      " 10  total_income      19346 non-null  float64\n",
      " 11  purpose           21520 non-null  object \n",
      "dtypes: float64(2), int64(5), object(5)\n",
      "memory usage: 2.1+ MB\n"
     ]
    }
   ],
   "source": [
    "#Verifique o tamanho do conjunto de dados que você tem agora após suas primeiras manipulações com ele\n",
    "df.info()"
   ]
  },
  {
   "cell_type": "markdown",
   "id": "65c68787",
   "metadata": {
    "papermill": {
     "duration": 0.036826,
     "end_time": "2022-11-26T18:52:52.632189",
     "exception": false,
     "start_time": "2022-11-26T18:52:52.595363",
     "status": "completed"
    },
    "tags": []
   },
   "source": [
    "Depois das primeiras tratativas nos dados, temos um DataFrame com quatro linhas nulas, que serão tratas adiante. As variáveis `days_employed` e `total_income` ainda possuem valores ausentes e estão com o tipo _float_, devemos alterar o tipo de dados para inteiros também. As alterações realizadas não chegam a 2% do total dos dados."
   ]
  },
  {
   "cell_type": "markdown",
   "id": "4ed85c63",
   "metadata": {
    "papermill": {
     "duration": 0.036915,
     "end_time": "2022-11-26T18:52:52.706253",
     "exception": false,
     "start_time": "2022-11-26T18:52:52.669338",
     "status": "completed"
    },
    "tags": []
   },
   "source": [
    "## 3. Trabalhando com valores ausentes <a id='3'></a>\n",
    "\n",
    "Tabelas de referências auxiliam na consulta de dados. Duas variáveis possuem atributos associados aos seus IDs. É importante verificar se temos coerência entre esses atributos. As variáveis são `family_status_id` e `education_id`.\n",
    "\n",
    "[Voltar ao Índice](#back)"
   ]
  },
  {
   "cell_type": "code",
   "execution_count": 47,
   "id": "b2770587",
   "metadata": {
    "execution": {
     "iopub.execute_input": "2022-11-26T18:52:52.783063Z",
     "iopub.status.busy": "2022-11-26T18:52:52.782454Z",
     "iopub.status.idle": "2022-11-26T18:52:52.800560Z",
     "shell.execute_reply": "2022-11-26T18:52:52.799270Z"
    },
    "papermill": {
     "duration": 0.059437,
     "end_time": "2022-11-26T18:52:52.803040",
     "exception": false,
     "start_time": "2022-11-26T18:52:52.743603",
     "status": "completed"
    },
    "tags": []
   },
   "outputs": [
    {
     "name": "stdout",
     "output_type": "stream",
     "text": [
      "education_id\n",
      "0      [bachelor's degree]\n",
      "1    [secondary education]\n",
      "2           [some college]\n",
      "3      [primary education]\n",
      "4        [graduate degree]\n",
      "Name: education, dtype: object\n",
      "\n",
      "family_status_id\n",
      "0              [married]\n",
      "1    [civil partnership]\n",
      "2      [widow / widower]\n",
      "3             [divorced]\n",
      "4            [unmarried]\n",
      "Name: family_status, dtype: object\n"
     ]
    }
   ],
   "source": [
    "# Verificar dicionários de variáveis\n",
    "print(df.groupby('education_id')['education'].unique())\n",
    "print()\n",
    "print(df.groupby('family_status_id')['family_status'].unique())"
   ]
  },
  {
   "cell_type": "markdown",
   "id": "748a8e63",
   "metadata": {
    "papermill": {
     "duration": 0.037162,
     "end_time": "2022-11-26T18:52:52.877806",
     "exception": false,
     "start_time": "2022-11-26T18:52:52.840644",
     "status": "completed"
    },
    "tags": []
   },
   "source": [
    "Assim, verificamos que temos apenas valores únicos relacionados a um único id em suas variáveis correspondentes."
   ]
  },
  {
   "cell_type": "markdown",
   "id": "87d16969",
   "metadata": {
    "papermill": {
     "duration": 0.03748,
     "end_time": "2022-11-26T18:52:52.952665",
     "exception": false,
     "start_time": "2022-11-26T18:52:52.915185",
     "status": "completed"
    },
    "tags": []
   },
   "source": [
    "### 3.1 Restaurar valores ausentes em `total_income` <a id='31'></a>\n",
    "\n",
    "Os valores ausentes estão concentrados nas variáveis `days_employed` e `total_income`. Devemos excluir as linhas com todos os valores nulos do DataFrame e preencher os valores faltantes nas variáveis com valores ausentes.\n",
    "\n",
    "É importante criar categoria de dados para os clientes, assim facilitamos as estratégias e cálculos para os valores ausentes. Nesse sentido, uma forma de categorizar a idade dos clientes, na variável `days_employed`, segundo _Statistique Canada_, é agrupar nas seguintes maneiras:\n",
    "* children: clientes de 0-14 anos.\n",
    "* youth: clientes de 15-24 anos.\n",
    "* adults: clientes de 25-64 anos.\n",
    "* seniors: clientes acima de 65 anos.\n",
    "\n",
    "[Voltar ao Índice](#back)"
   ]
  },
  {
   "cell_type": "code",
   "execution_count": 48,
   "id": "4ec1ec50",
   "metadata": {
    "execution": {
     "iopub.execute_input": "2022-11-26T18:52:53.030224Z",
     "iopub.status.busy": "2022-11-26T18:52:53.029831Z",
     "iopub.status.idle": "2022-11-26T18:52:53.035534Z",
     "shell.execute_reply": "2022-11-26T18:52:53.034464Z"
    },
    "papermill": {
     "duration": 0.047405,
     "end_time": "2022-11-26T18:52:53.038007",
     "exception": false,
     "start_time": "2022-11-26T18:52:52.990602",
     "status": "completed"
    },
    "tags": []
   },
   "outputs": [],
   "source": [
    "# Função que calcula a categoria de idade\n",
    "def age_group(age):\n",
    "    if age < 15:\n",
    "        return 'children'\n",
    "    elif (age > 14) and (age < 25):\n",
    "        return 'youth'\n",
    "    elif (age > 24) and (age < 65):\n",
    "        return 'adults'\n",
    "    else:\n",
    "        return 'seniors'    "
   ]
  },
  {
   "cell_type": "code",
   "execution_count": 49,
   "id": "2b441343",
   "metadata": {
    "execution": {
     "iopub.execute_input": "2022-11-26T18:52:53.115888Z",
     "iopub.status.busy": "2022-11-26T18:52:53.115136Z",
     "iopub.status.idle": "2022-11-26T18:52:53.122000Z",
     "shell.execute_reply": "2022-11-26T18:52:53.120533Z"
    },
    "papermill": {
     "duration": 0.048816,
     "end_time": "2022-11-26T18:52:53.124658",
     "exception": false,
     "start_time": "2022-11-26T18:52:53.075842",
     "status": "completed"
    },
    "tags": []
   },
   "outputs": [
    {
     "name": "stdout",
     "output_type": "stream",
     "text": [
      "children\n",
      "youth\n",
      "adults\n",
      "seniors\n"
     ]
    }
   ],
   "source": [
    "# Testar a função\n",
    "print(age_group(10))\n",
    "print(age_group(17))\n",
    "print(age_group(60))\n",
    "print(age_group(73))"
   ]
  },
  {
   "cell_type": "code",
   "execution_count": 50,
   "id": "98d5dab3",
   "metadata": {
    "execution": {
     "iopub.execute_input": "2022-11-26T18:52:53.202081Z",
     "iopub.status.busy": "2022-11-26T18:52:53.201692Z",
     "iopub.status.idle": "2022-11-26T18:52:53.215223Z",
     "shell.execute_reply": "2022-11-26T18:52:53.213940Z"
    },
    "papermill": {
     "duration": 0.055002,
     "end_time": "2022-11-26T18:52:53.217798",
     "exception": false,
     "start_time": "2022-11-26T18:52:53.162796",
     "status": "completed"
    },
    "tags": []
   },
   "outputs": [],
   "source": [
    "# Criar coluna nova com base na função\n",
    "df['age_group'] = df['dob_years'].apply(age_group)"
   ]
  },
  {
   "cell_type": "code",
   "execution_count": 51,
   "id": "3b853814",
   "metadata": {
    "execution": {
     "iopub.execute_input": "2022-11-26T18:52:53.295147Z",
     "iopub.status.busy": "2022-11-26T18:52:53.294419Z",
     "iopub.status.idle": "2022-11-26T18:52:53.302197Z",
     "shell.execute_reply": "2022-11-26T18:52:53.301192Z"
    },
    "papermill": {
     "duration": 0.049118,
     "end_time": "2022-11-26T18:52:53.304294",
     "exception": false,
     "start_time": "2022-11-26T18:52:53.255176",
     "status": "completed"
    },
    "tags": []
   },
   "outputs": [
    {
     "data": {
      "text/plain": [
       "0         adults\n",
       "1         adults\n",
       "2         adults\n",
       "3         adults\n",
       "4         adults\n",
       "          ...   \n",
       "21520     adults\n",
       "21521    seniors\n",
       "21522     adults\n",
       "21523     adults\n",
       "21524     adults\n",
       "Name: age_group, Length: 21520, dtype: object"
      ]
     },
     "execution_count": 51,
     "metadata": {},
     "output_type": "execute_result"
    }
   ],
   "source": [
    "# Verificar como os valores na nova coluna\n",
    "df['age_group']"
   ]
  },
  {
   "cell_type": "markdown",
   "id": "2fed070e",
   "metadata": {
    "papermill": {
     "duration": 0.03725,
     "end_time": "2022-11-26T18:52:53.379077",
     "exception": false,
     "start_time": "2022-11-26T18:52:53.341827",
     "status": "completed"
    },
    "tags": []
   },
   "source": [
    "Das variáveis disponíveis no DataFrame, os fatores que podem influenciar o nível de renda do indivíduo, num primeiro momento, são:\n",
    "* Escolaridade (`education`): quanto maior o grau acadêmico, maior a tendência de ter melhores salários.\n",
    "* Sexo (`gender`): inúmeros estudos comporvam a discrepância entre salários de trabalhadores de sexo diferente.\n",
    "* Tipo de Renda (`income_type`): certos cargos, empregos e hierarquias patronais possibilitam alcançar patamares superiores de renda quando comparados aos trabalhadores comuns.\n",
    "\n",
    "Dias Trabalhados (`days_employed`) é uma variável que se supõe imaginar que, quanto mais se trabalha, mais se ganha. Porém essa variável também necessita ter seus valores ausentes preenchidos, de tal modo que não podemos utilizá-la, pois estaríamos correndo o risco de viés nos dados.\n",
    "\n",
    "[Voltar ao Índice](#back)"
   ]
  },
  {
   "cell_type": "code",
   "execution_count": 52,
   "id": "0e0d53a5",
   "metadata": {
    "execution": {
     "iopub.execute_input": "2022-11-26T18:52:53.455550Z",
     "iopub.status.busy": "2022-11-26T18:52:53.455147Z",
     "iopub.status.idle": "2022-11-26T18:52:53.473674Z",
     "shell.execute_reply": "2022-11-26T18:52:53.472760Z"
    },
    "papermill": {
     "duration": 0.059715,
     "end_time": "2022-11-26T18:52:53.476128",
     "exception": false,
     "start_time": "2022-11-26T18:52:53.416413",
     "status": "completed"
    },
    "tags": []
   },
   "outputs": [
    {
     "data": {
      "text/html": [
       "<div>\n",
       "<style scoped>\n",
       "    .dataframe tbody tr th:only-of-type {\n",
       "        vertical-align: middle;\n",
       "    }\n",
       "\n",
       "    .dataframe tbody tr th {\n",
       "        vertical-align: top;\n",
       "    }\n",
       "\n",
       "    .dataframe thead th {\n",
       "        text-align: right;\n",
       "    }\n",
       "</style>\n",
       "<table border=\"1\" class=\"dataframe\">\n",
       "  <thead>\n",
       "    <tr style=\"text-align: right;\">\n",
       "      <th></th>\n",
       "      <th>children</th>\n",
       "      <th>days_employed</th>\n",
       "      <th>dob_years</th>\n",
       "      <th>education_id</th>\n",
       "      <th>family_status_id</th>\n",
       "      <th>debt</th>\n",
       "      <th>total_income</th>\n",
       "    </tr>\n",
       "  </thead>\n",
       "  <tbody>\n",
       "    <tr>\n",
       "      <th>children</th>\n",
       "      <td>1.000000</td>\n",
       "      <td>-0.253795</td>\n",
       "      <td>-0.318089</td>\n",
       "      <td>-0.026975</td>\n",
       "      <td>-0.157593</td>\n",
       "      <td>0.024557</td>\n",
       "      <td>0.031467</td>\n",
       "    </tr>\n",
       "    <tr>\n",
       "      <th>days_employed</th>\n",
       "      <td>-0.253795</td>\n",
       "      <td>1.000000</td>\n",
       "      <td>0.696923</td>\n",
       "      <td>0.074253</td>\n",
       "      <td>-0.019288</td>\n",
       "      <td>-0.068275</td>\n",
       "      <td>-0.117821</td>\n",
       "    </tr>\n",
       "    <tr>\n",
       "      <th>dob_years</th>\n",
       "      <td>-0.318089</td>\n",
       "      <td>0.696923</td>\n",
       "      <td>1.000000</td>\n",
       "      <td>0.065190</td>\n",
       "      <td>-0.068835</td>\n",
       "      <td>-0.071629</td>\n",
       "      <td>-0.056037</td>\n",
       "    </tr>\n",
       "    <tr>\n",
       "      <th>education_id</th>\n",
       "      <td>-0.026975</td>\n",
       "      <td>0.074253</td>\n",
       "      <td>0.065190</td>\n",
       "      <td>1.000000</td>\n",
       "      <td>0.008047</td>\n",
       "      <td>0.052830</td>\n",
       "      <td>-0.178970</td>\n",
       "    </tr>\n",
       "    <tr>\n",
       "      <th>family_status_id</th>\n",
       "      <td>-0.157593</td>\n",
       "      <td>-0.019288</td>\n",
       "      <td>-0.068835</td>\n",
       "      <td>0.008047</td>\n",
       "      <td>1.000000</td>\n",
       "      <td>0.020869</td>\n",
       "      <td>-0.009152</td>\n",
       "    </tr>\n",
       "    <tr>\n",
       "      <th>debt</th>\n",
       "      <td>0.024557</td>\n",
       "      <td>-0.068275</td>\n",
       "      <td>-0.071629</td>\n",
       "      <td>0.052830</td>\n",
       "      <td>0.020869</td>\n",
       "      <td>1.000000</td>\n",
       "      <td>-0.012109</td>\n",
       "    </tr>\n",
       "    <tr>\n",
       "      <th>total_income</th>\n",
       "      <td>0.031467</td>\n",
       "      <td>-0.117821</td>\n",
       "      <td>-0.056037</td>\n",
       "      <td>-0.178970</td>\n",
       "      <td>-0.009152</td>\n",
       "      <td>-0.012109</td>\n",
       "      <td>1.000000</td>\n",
       "    </tr>\n",
       "  </tbody>\n",
       "</table>\n",
       "</div>"
      ],
      "text/plain": [
       "                  children  days_employed  dob_years  education_id  \\\n",
       "children          1.000000      -0.253795  -0.318089     -0.026975   \n",
       "days_employed    -0.253795       1.000000   0.696923      0.074253   \n",
       "dob_years        -0.318089       0.696923   1.000000      0.065190   \n",
       "education_id     -0.026975       0.074253   0.065190      1.000000   \n",
       "family_status_id -0.157593      -0.019288  -0.068835      0.008047   \n",
       "debt              0.024557      -0.068275  -0.071629      0.052830   \n",
       "total_income      0.031467      -0.117821  -0.056037     -0.178970   \n",
       "\n",
       "                  family_status_id      debt  total_income  \n",
       "children                 -0.157593  0.024557      0.031467  \n",
       "days_employed            -0.019288 -0.068275     -0.117821  \n",
       "dob_years                -0.068835 -0.071629     -0.056037  \n",
       "education_id              0.008047  0.052830     -0.178970  \n",
       "family_status_id          1.000000  0.020869     -0.009152  \n",
       "debt                      0.020869  1.000000     -0.012109  \n",
       "total_income             -0.009152 -0.012109      1.000000  "
      ]
     },
     "metadata": {},
     "output_type": "display_data"
    }
   ],
   "source": [
    "# Matriz de correlão entre as variáveis númericas\n",
    "display(df.corr())"
   ]
  },
  {
   "cell_type": "markdown",
   "id": "165f9f1c",
   "metadata": {
    "papermill": {
     "duration": 0.037443,
     "end_time": "2022-11-26T18:52:53.622836",
     "exception": false,
     "start_time": "2022-11-26T18:52:53.585393",
     "status": "completed"
    },
    "tags": []
   },
   "source": [
    "As variáveis númericas que mais se correlacionam com `toal_income` são `education_id` e `days_employed`.\n",
    "Agora vamos criar uma tabela que tenha apenas dados sem valores ausentes. Esses dados serão usados para restaurar os valores ausentes, através de suas estatísticas descritivas."
   ]
  },
  {
   "cell_type": "code",
   "execution_count": 53,
   "id": "c4a18dc7",
   "metadata": {
    "execution": {
     "iopub.execute_input": "2022-11-26T18:52:53.701052Z",
     "iopub.status.busy": "2022-11-26T18:52:53.700332Z",
     "iopub.status.idle": "2022-11-26T18:52:53.716932Z",
     "shell.execute_reply": "2022-11-26T18:52:53.715402Z"
    },
    "papermill": {
     "duration": 0.058636,
     "end_time": "2022-11-26T18:52:53.719529",
     "exception": false,
     "start_time": "2022-11-26T18:52:53.660893",
     "status": "completed"
    },
    "tags": []
   },
   "outputs": [
    {
     "name": "stdout",
     "output_type": "stream",
     "text": [
      "   children  days_employed  dob_years            education  education_id  \\\n",
      "0         1    8437.673028         42    bachelor's degree             0   \n",
      "1         1    4024.803754         36  secondary education             1   \n",
      "2         0    5623.422610         33  secondary education             1   \n",
      "3         3    4124.747207         32  secondary education             1   \n",
      "4         0   12775.000000         53  secondary education             1   \n",
      "\n",
      "       family_status  family_status_id gender income_type  debt  total_income  \\\n",
      "0            married                 0      F    employee     0     40620.102   \n",
      "1            married                 0      F    employee     0     17932.802   \n",
      "2            married                 0      M    employee     0     23341.752   \n",
      "3            married                 0      M    employee     0     42820.568   \n",
      "4  civil partnership                 1      F     retiree     0     25378.572   \n",
      "\n",
      "                   purpose age_group  \n",
      "0    purchase of the house    adults  \n",
      "1             car purchase    adults  \n",
      "2    purchase of the house    adults  \n",
      "3  supplementary education    adults  \n",
      "4        to have a wedding    adults  \n"
     ]
    }
   ],
   "source": [
    "# Criar uma tabela sem valores ausentes\n",
    "df_not_nan = df[df['total_income'].isnull()==False]\n",
    "print(df_not_nan.head())"
   ]
  },
  {
   "cell_type": "code",
   "execution_count": 54,
   "id": "9fb1042e",
   "metadata": {
    "execution": {
     "iopub.execute_input": "2022-11-26T18:52:53.797449Z",
     "iopub.status.busy": "2022-11-26T18:52:53.797025Z",
     "iopub.status.idle": "2022-11-26T18:52:53.812419Z",
     "shell.execute_reply": "2022-11-26T18:52:53.811384Z"
    },
    "papermill": {
     "duration": 0.057086,
     "end_time": "2022-11-26T18:52:53.814802",
     "exception": false,
     "start_time": "2022-11-26T18:52:53.757716",
     "status": "completed"
    },
    "tags": []
   },
   "outputs": [
    {
     "data": {
      "text/plain": [
       "children            0\n",
       "days_employed       0\n",
       "dob_years           0\n",
       "education           0\n",
       "education_id        0\n",
       "family_status       0\n",
       "family_status_id    0\n",
       "gender              0\n",
       "income_type         0\n",
       "debt                0\n",
       "total_income        0\n",
       "purpose             0\n",
       "age_group           0\n",
       "dtype: int64"
      ]
     },
     "execution_count": 54,
     "metadata": {},
     "output_type": "execute_result"
    }
   ],
   "source": [
    "# Verificar que não há valores ausentes\n",
    "df_not_nan.isna().sum()"
   ]
  },
  {
   "cell_type": "code",
   "execution_count": 55,
   "id": "fb739d1c",
   "metadata": {
    "execution": {
     "iopub.execute_input": "2022-11-26T18:52:53.892851Z",
     "iopub.status.busy": "2022-11-26T18:52:53.892468Z",
     "iopub.status.idle": "2022-11-26T18:52:53.907589Z",
     "shell.execute_reply": "2022-11-26T18:52:53.906140Z"
    },
    "papermill": {
     "duration": 0.05743,
     "end_time": "2022-11-26T18:52:53.910282",
     "exception": false,
     "start_time": "2022-11-26T18:52:53.852852",
     "status": "completed"
    },
    "tags": []
   },
   "outputs": [
    {
     "name": "stdout",
     "output_type": "stream",
     "text": [
      "education\n",
      "bachelor's degree      33146.650067\n",
      "graduate degree        27960.024667\n",
      "primary education      21144.882211\n",
      "secondary education    24596.766073\n",
      "some college           29040.132990\n",
      "Name: total_income, dtype: float64\n",
      "***********************************\n",
      "education\n",
      "bachelor's degree      28054.5310\n",
      "graduate degree        25161.5835\n",
      "primary education      18741.9760\n",
      "secondary education    21837.9890\n",
      "some college           25608.7945\n",
      "Name: total_income, dtype: float64\n"
     ]
    }
   ],
   "source": [
    "# Valores médios de renda com base na educação\n",
    "print(df_not_nan.groupby('education')['total_income'].mean())\n",
    "print('*'*35)\n",
    "# Valores medianos de renda com base na educação\n",
    "print(df_not_nan.groupby('education')['total_income'].median())"
   ]
  },
  {
   "cell_type": "markdown",
   "id": "1220ca53",
   "metadata": {
    "papermill": {
     "duration": 0.038711,
     "end_time": "2022-11-26T18:52:53.987812",
     "exception": false,
     "start_time": "2022-11-26T18:52:53.949101",
     "status": "completed"
    },
    "tags": []
   },
   "source": [
    "Fica evidente que as menores rendas estão concentradas na educação primária e secundária — 21144 e 24596, respectivamente —, enquanto as maiores rendas estão centradas em clientes que possuem algum nível superior. Essa variável será levada em consideração para cálculo de preenchimento dos valores ausentes."
   ]
  },
  {
   "cell_type": "code",
   "execution_count": 56,
   "id": "211ef614",
   "metadata": {
    "execution": {
     "iopub.execute_input": "2022-11-26T18:52:54.068264Z",
     "iopub.status.busy": "2022-11-26T18:52:54.067847Z",
     "iopub.status.idle": "2022-11-26T18:52:54.081313Z",
     "shell.execute_reply": "2022-11-26T18:52:54.079871Z"
    },
    "papermill": {
     "duration": 0.056293,
     "end_time": "2022-11-26T18:52:54.084133",
     "exception": false,
     "start_time": "2022-11-26T18:52:54.027840",
     "status": "completed"
    },
    "tags": []
   },
   "outputs": [
    {
     "name": "stdout",
     "output_type": "stream",
     "text": [
      "age_group\n",
      "adults     27210.173808\n",
      "seniors    21542.650450\n",
      "youth      22699.579696\n",
      "Name: total_income, dtype: float64\n",
      "***********************************\n",
      "age_group\n",
      "adults     23540.315\n",
      "seniors    18471.391\n",
      "youth      20572.209\n",
      "Name: total_income, dtype: float64\n"
     ]
    }
   ],
   "source": [
    "# Valores médios de renda com base no grupo de idade\n",
    "print(df_not_nan.groupby('age_group')['total_income'].mean())\n",
    "print('*'*35)\n",
    "# Valores medianos de renda com base no grupo de idade\n",
    "print(df_not_nan.groupby('age_group')['total_income'].median())"
   ]
  },
  {
   "cell_type": "markdown",
   "id": "435bdc78",
   "metadata": {
    "papermill": {
     "duration": 0.038616,
     "end_time": "2022-11-26T18:52:54.163138",
     "exception": false,
     "start_time": "2022-11-26T18:52:54.124522",
     "status": "completed"
    },
    "tags": []
   },
   "source": [
    "Apesar do grupo de adultos terem renda média superior aos grupos restantes, isso se deve pelo intervalo desse grupo ser o maior entre todos, compreende os anos de 25 a 64 anos. A base de dados também não favorece os outros dois grupos: os dados para _youth_ só iniciam da idade 19, enquanto os dados para _seniors_ só atingem a idade 73. Essa variável **não** será levada em consideração para cálculo de preenchimento dos valores ausentes.\n",
    "\n",
    "[Voltar ao Índice](#back)"
   ]
  },
  {
   "cell_type": "code",
   "execution_count": 57,
   "id": "83a06ff4",
   "metadata": {
    "execution": {
     "iopub.execute_input": "2022-11-26T18:52:54.241496Z",
     "iopub.status.busy": "2022-11-26T18:52:54.241008Z",
     "iopub.status.idle": "2022-11-26T18:52:54.254947Z",
     "shell.execute_reply": "2022-11-26T18:52:54.253692Z"
    },
    "papermill": {
     "duration": 0.05581,
     "end_time": "2022-11-26T18:52:54.257211",
     "exception": false,
     "start_time": "2022-11-26T18:52:54.201401",
     "status": "completed"
    },
    "tags": []
   },
   "outputs": [
    {
     "name": "stdout",
     "output_type": "stream",
     "text": [
      "gender\n",
      "F    24656.252831\n",
      "M    30912.679377\n",
      "Name: total_income, dtype: float64\n",
      "***********************************\n",
      "gender\n",
      "F    21464.845\n",
      "M    26840.997\n",
      "Name: total_income, dtype: float64\n"
     ]
    }
   ],
   "source": [
    "# Valores médios de renda com base em gênero\n",
    "print(df_not_nan.groupby('gender')['total_income'].mean())\n",
    "print('*'*35)\n",
    "# Valores medianos de renda com base em gênero\n",
    "print(df_not_nan.groupby('gender')['total_income'].median())"
   ]
  },
  {
   "cell_type": "markdown",
   "id": "483e4601",
   "metadata": {
    "papermill": {
     "duration": 0.038691,
     "end_time": "2022-11-26T18:52:54.334890",
     "exception": false,
     "start_time": "2022-11-26T18:52:54.296199",
     "status": "completed"
    },
    "tags": []
   },
   "source": [
    "É perceptível que clientes do sexo feminino possuem renda até 20% inferior que a renda dos clientes masculinos. Variável será levada em consideração para cálculo de preenchimento dos valores ausentes."
   ]
  },
  {
   "cell_type": "code",
   "execution_count": 58,
   "id": "1d19393d",
   "metadata": {
    "execution": {
     "iopub.execute_input": "2022-11-26T18:52:54.413904Z",
     "iopub.status.busy": "2022-11-26T18:52:54.413520Z",
     "iopub.status.idle": "2022-11-26T18:52:54.427579Z",
     "shell.execute_reply": "2022-11-26T18:52:54.426154Z"
    },
    "papermill": {
     "duration": 0.056775,
     "end_time": "2022-11-26T18:52:54.430182",
     "exception": false,
     "start_time": "2022-11-26T18:52:54.373407",
     "status": "completed"
    },
    "tags": []
   },
   "outputs": [
    {
     "name": "stdout",
     "output_type": "stream",
     "text": [
      "income_type\n",
      "business         32397.115286\n",
      "civil servant    27343.729582\n",
      "employee         25820.841683\n",
      "retiree          21940.394503\n",
      "Name: total_income, dtype: float64\n",
      "***********************************\n",
      "income_type\n",
      "business         27577.2720\n",
      "civil servant    24071.6695\n",
      "employee         22815.1035\n",
      "retiree          18962.3180\n",
      "Name: total_income, dtype: float64\n"
     ]
    }
   ],
   "source": [
    "# Valores médios de renda com base no tipo da renda\n",
    "print(df_not_nan.groupby('income_type')['total_income'].mean())\n",
    "print('*'*35)\n",
    "# Valores medianos de renda com base no tipo da renda\n",
    "print(df_not_nan.groupby('income_type')['total_income'].median())"
   ]
  },
  {
   "cell_type": "markdown",
   "id": "acf960b4",
   "metadata": {
    "papermill": {
     "duration": 0.039236,
     "end_time": "2022-11-26T18:52:54.508676",
     "exception": false,
     "start_time": "2022-11-26T18:52:54.469440",
     "status": "completed"
    },
    "tags": []
   },
   "source": [
    "Empresários são os tipos de renda que mais ganham, enquanto aposentados são os que menos ganham. Desse modo, confirmam os dados de que aposentados sofrem com reduções substanciais em suas rendas. Essa variável será levada em consideração para cálculo de preenchimento dos valores ausentes."
   ]
  },
  {
   "cell_type": "code",
   "execution_count": 59,
   "id": "bbdc6a17",
   "metadata": {
    "execution": {
     "iopub.execute_input": "2022-11-26T18:52:54.587752Z",
     "iopub.status.busy": "2022-11-26T18:52:54.587379Z",
     "iopub.status.idle": "2022-11-26T18:52:54.601272Z",
     "shell.execute_reply": "2022-11-26T18:52:54.599835Z"
    },
    "papermill": {
     "duration": 0.056872,
     "end_time": "2022-11-26T18:52:54.604046",
     "exception": false,
     "start_time": "2022-11-26T18:52:54.547174",
     "status": "completed"
    },
    "tags": []
   },
   "outputs": [
    {
     "name": "stdout",
     "output_type": "stream",
     "text": [
      "family_status\n",
      "civil partnership    26691.302004\n",
      "divorced             27189.354550\n",
      "married              27045.005027\n",
      "unmarried            26938.515847\n",
      "widow / widower      22984.208556\n",
      "Name: total_income, dtype: float64\n",
      "***********************************\n",
      "family_status\n",
      "civil partnership    23184.4200\n",
      "divorced             23515.0960\n",
      "married              23390.0570\n",
      "unmarried            23149.1755\n",
      "widow / widower      20514.1900\n",
      "Name: total_income, dtype: float64\n"
     ]
    }
   ],
   "source": [
    "# Valores médios de renda com base no status familiar\n",
    "print(df_not_nan.groupby('family_status')['total_income'].mean())\n",
    "print('*'*35)\n",
    "# Valores medianos de renda com base no status familiar\n",
    "print(df_not_nan.groupby('family_status')['total_income'].median())"
   ]
  },
  {
   "cell_type": "markdown",
   "id": "55d857bb",
   "metadata": {
    "papermill": {
     "duration": 0.038206,
     "end_time": "2022-11-26T18:52:54.680778",
     "exception": false,
     "start_time": "2022-11-26T18:52:54.642572",
     "status": "completed"
    },
    "tags": []
   },
   "source": [
    "Há um nivelamento da renda quando a ótica é o status familiar, não há indícios de que a renda do indivíduo possa ser influenciada por seu status familiar. Essa variável **não** será levada em consideração para cálculo de preenchimento dos valores ausentes."
   ]
  },
  {
   "cell_type": "markdown",
   "id": "87b780e5",
   "metadata": {
    "papermill": {
     "duration": 0.038136,
     "end_time": "2022-11-26T18:52:54.757365",
     "exception": false,
     "start_time": "2022-11-26T18:52:54.719229",
     "status": "completed"
    },
    "tags": []
   },
   "source": [
    "Já sabemos que características como o tipo de trabalho `income_type`, nível educacional `education` e gênero `gender` influenciam a renda do indivíduo.\n",
    "Como a variável `total_income` possui valores com grande variação entre mínimo e máximo, a literatura sugere a utilização da mediana para atenuar os valores extremos. A média ficaria muito influenciada por esses valores discrepantes.\n",
    "\n",
    "[Voltar ao Índice](#back)"
   ]
  },
  {
   "cell_type": "code",
   "execution_count": 60,
   "id": "3acb0e75",
   "metadata": {
    "execution": {
     "iopub.execute_input": "2022-11-26T18:52:54.835876Z",
     "iopub.status.busy": "2022-11-26T18:52:54.835497Z",
     "iopub.status.idle": "2022-11-26T18:52:54.855071Z",
     "shell.execute_reply": "2022-11-26T18:52:54.853916Z"
    },
    "papermill": {
     "duration": 0.061639,
     "end_time": "2022-11-26T18:52:54.857441",
     "exception": false,
     "start_time": "2022-11-26T18:52:54.795802",
     "status": "completed"
    },
    "tags": []
   },
   "outputs": [
    {
     "data": {
      "text/plain": [
       "education            gender  income_type  \n",
       "bachelor's degree    F       business         30402.3330\n",
       "                             civil servant    25254.6300\n",
       "                             employee         24590.6965\n",
       "                             retiree          22784.6850\n",
       "                     M       business         37290.3815\n",
       "                             civil servant    34353.0630\n",
       "                             employee         30759.5680\n",
       "                             retiree          25193.1730\n",
       "graduate degree      F       civil servant    17822.7570\n",
       "                             retiree          40868.0310\n",
       "                     M       employee         31771.3210\n",
       "                             retiree          15800.3990\n",
       "primary education    F       business         21441.9210\n",
       "                             civil servant    14339.0340\n",
       "                             employee         18962.6750\n",
       "                             retiree          16188.8905\n",
       "                     M       business         24016.1540\n",
       "                             civil servant    30554.6660\n",
       "                             employee         22662.0740\n",
       "                             retiree          18099.8720\n",
       "secondary education  F       business         23181.0850\n",
       "                             civil servant    20133.0890\n",
       "                             employee         19860.3340\n",
       "                             retiree          18046.5560\n",
       "                     M       business         29102.2430\n",
       "                             civil servant    27144.3130\n",
       "                             employee         25005.8240\n",
       "                             retiree          20175.5510\n",
       "some college         F       business         27275.4595\n",
       "                             civil servant    21855.8610\n",
       "                             employee         21588.0300\n",
       "                             retiree          18654.8760\n",
       "                     M       business         30606.7090\n",
       "                             civil servant    28371.3005\n",
       "                             employee         30252.1470\n",
       "                             retiree          19946.7950\n",
       "Name: total_income, dtype: float64"
      ]
     },
     "execution_count": 60,
     "metadata": {},
     "output_type": "execute_result"
    }
   ],
   "source": [
    "# Verificar a mediana dos dados considerando as variáveis de estudo\n",
    "df.groupby(['education','gender','income_type'])['total_income'].median()"
   ]
  },
  {
   "cell_type": "code",
   "execution_count": 61,
   "id": "31fbf5c1",
   "metadata": {
    "execution": {
     "iopub.execute_input": "2022-11-26T18:52:54.937152Z",
     "iopub.status.busy": "2022-11-26T18:52:54.936181Z",
     "iopub.status.idle": "2022-11-26T18:52:54.952735Z",
     "shell.execute_reply": "2022-11-26T18:52:54.951462Z"
    },
    "papermill": {
     "duration": 0.05877,
     "end_time": "2022-11-26T18:52:54.955169",
     "exception": false,
     "start_time": "2022-11-26T18:52:54.896399",
     "status": "completed"
    },
    "tags": []
   },
   "outputs": [
    {
     "name": "stdout",
     "output_type": "stream",
     "text": [
      "0        24590.6965\n",
      "1        19860.3340\n",
      "2        25005.8240\n",
      "3        25005.8240\n",
      "4        18046.5560\n",
      "            ...    \n",
      "21520    23181.0850\n",
      "21521    18046.5560\n",
      "21522    25005.8240\n",
      "21523    25005.8240\n",
      "21524    19860.3340\n",
      "Name: total_income, Length: 21520, dtype: float64\n"
     ]
    }
   ],
   "source": [
    "# Criar os valores para substituir os valores ausentes\n",
    "values_total_income = df.groupby(['education','gender','income_type'])['total_income'].transform('median')\n",
    "print(values_total_income)"
   ]
  },
  {
   "cell_type": "code",
   "execution_count": 62,
   "id": "a9b6649b",
   "metadata": {
    "execution": {
     "iopub.execute_input": "2022-11-26T18:52:55.035434Z",
     "iopub.status.busy": "2022-11-26T18:52:55.034664Z",
     "iopub.status.idle": "2022-11-26T18:52:55.039921Z",
     "shell.execute_reply": "2022-11-26T18:52:55.038872Z"
    },
    "papermill": {
     "duration": 0.048077,
     "end_time": "2022-11-26T18:52:55.042217",
     "exception": false,
     "start_time": "2022-11-26T18:52:54.994140",
     "status": "completed"
    },
    "tags": []
   },
   "outputs": [],
   "source": [
    "# Substituir os valores ausentes\n",
    "df['total_income'].fillna(values_total_income, inplace = True)"
   ]
  },
  {
   "cell_type": "code",
   "execution_count": 63,
   "id": "ae19a453",
   "metadata": {
    "execution": {
     "iopub.execute_input": "2022-11-26T18:52:55.121523Z",
     "iopub.status.busy": "2022-11-26T18:52:55.121112Z",
     "iopub.status.idle": "2022-11-26T18:52:55.128625Z",
     "shell.execute_reply": "2022-11-26T18:52:55.127447Z"
    },
    "papermill": {
     "duration": 0.050083,
     "end_time": "2022-11-26T18:52:55.130874",
     "exception": false,
     "start_time": "2022-11-26T18:52:55.080791",
     "status": "completed"
    },
    "tags": []
   },
   "outputs": [
    {
     "data": {
      "text/plain": [
       "0"
      ]
     },
     "execution_count": 63,
     "metadata": {},
     "output_type": "execute_result"
    }
   ],
   "source": [
    "# Verificar se há valores ausentes\n",
    "df['total_income'].isna().sum()"
   ]
  },
  {
   "cell_type": "code",
   "execution_count": 64,
   "id": "510a4e17",
   "metadata": {
    "execution": {
     "iopub.execute_input": "2022-11-26T18:52:55.211269Z",
     "iopub.status.busy": "2022-11-26T18:52:55.210199Z",
     "iopub.status.idle": "2022-11-26T18:52:55.232633Z",
     "shell.execute_reply": "2022-11-26T18:52:55.231369Z"
    },
    "papermill": {
     "duration": 0.065438,
     "end_time": "2022-11-26T18:52:55.235156",
     "exception": false,
     "start_time": "2022-11-26T18:52:55.169718",
     "status": "completed"
    },
    "tags": []
   },
   "outputs": [
    {
     "data": {
      "text/html": [
       "<div>\n",
       "<style scoped>\n",
       "    .dataframe tbody tr th:only-of-type {\n",
       "        vertical-align: middle;\n",
       "    }\n",
       "\n",
       "    .dataframe tbody tr th {\n",
       "        vertical-align: top;\n",
       "    }\n",
       "\n",
       "    .dataframe thead th {\n",
       "        text-align: right;\n",
       "    }\n",
       "</style>\n",
       "<table border=\"1\" class=\"dataframe\">\n",
       "  <thead>\n",
       "    <tr style=\"text-align: right;\">\n",
       "      <th></th>\n",
       "      <th>children</th>\n",
       "      <th>days_employed</th>\n",
       "      <th>dob_years</th>\n",
       "      <th>education</th>\n",
       "      <th>education_id</th>\n",
       "      <th>family_status</th>\n",
       "      <th>family_status_id</th>\n",
       "      <th>gender</th>\n",
       "      <th>income_type</th>\n",
       "      <th>debt</th>\n",
       "      <th>total_income</th>\n",
       "      <th>purpose</th>\n",
       "      <th>age_group</th>\n",
       "    </tr>\n",
       "  </thead>\n",
       "  <tbody>\n",
       "    <tr>\n",
       "      <th>0</th>\n",
       "      <td>1</td>\n",
       "      <td>8437.673028</td>\n",
       "      <td>42</td>\n",
       "      <td>bachelor's degree</td>\n",
       "      <td>0</td>\n",
       "      <td>married</td>\n",
       "      <td>0</td>\n",
       "      <td>F</td>\n",
       "      <td>employee</td>\n",
       "      <td>0</td>\n",
       "      <td>40620.102</td>\n",
       "      <td>purchase of the house</td>\n",
       "      <td>adults</td>\n",
       "    </tr>\n",
       "    <tr>\n",
       "      <th>1</th>\n",
       "      <td>1</td>\n",
       "      <td>4024.803754</td>\n",
       "      <td>36</td>\n",
       "      <td>secondary education</td>\n",
       "      <td>1</td>\n",
       "      <td>married</td>\n",
       "      <td>0</td>\n",
       "      <td>F</td>\n",
       "      <td>employee</td>\n",
       "      <td>0</td>\n",
       "      <td>17932.802</td>\n",
       "      <td>car purchase</td>\n",
       "      <td>adults</td>\n",
       "    </tr>\n",
       "    <tr>\n",
       "      <th>2</th>\n",
       "      <td>0</td>\n",
       "      <td>5623.422610</td>\n",
       "      <td>33</td>\n",
       "      <td>secondary education</td>\n",
       "      <td>1</td>\n",
       "      <td>married</td>\n",
       "      <td>0</td>\n",
       "      <td>M</td>\n",
       "      <td>employee</td>\n",
       "      <td>0</td>\n",
       "      <td>23341.752</td>\n",
       "      <td>purchase of the house</td>\n",
       "      <td>adults</td>\n",
       "    </tr>\n",
       "    <tr>\n",
       "      <th>3</th>\n",
       "      <td>3</td>\n",
       "      <td>4124.747207</td>\n",
       "      <td>32</td>\n",
       "      <td>secondary education</td>\n",
       "      <td>1</td>\n",
       "      <td>married</td>\n",
       "      <td>0</td>\n",
       "      <td>M</td>\n",
       "      <td>employee</td>\n",
       "      <td>0</td>\n",
       "      <td>42820.568</td>\n",
       "      <td>supplementary education</td>\n",
       "      <td>adults</td>\n",
       "    </tr>\n",
       "    <tr>\n",
       "      <th>4</th>\n",
       "      <td>0</td>\n",
       "      <td>12775.000000</td>\n",
       "      <td>53</td>\n",
       "      <td>secondary education</td>\n",
       "      <td>1</td>\n",
       "      <td>civil partnership</td>\n",
       "      <td>1</td>\n",
       "      <td>F</td>\n",
       "      <td>retiree</td>\n",
       "      <td>0</td>\n",
       "      <td>25378.572</td>\n",
       "      <td>to have a wedding</td>\n",
       "      <td>adults</td>\n",
       "    </tr>\n",
       "    <tr>\n",
       "      <th>5</th>\n",
       "      <td>0</td>\n",
       "      <td>926.185831</td>\n",
       "      <td>27</td>\n",
       "      <td>bachelor's degree</td>\n",
       "      <td>0</td>\n",
       "      <td>civil partnership</td>\n",
       "      <td>1</td>\n",
       "      <td>M</td>\n",
       "      <td>business</td>\n",
       "      <td>0</td>\n",
       "      <td>40922.170</td>\n",
       "      <td>purchase of the house</td>\n",
       "      <td>adults</td>\n",
       "    </tr>\n",
       "    <tr>\n",
       "      <th>6</th>\n",
       "      <td>0</td>\n",
       "      <td>2879.202052</td>\n",
       "      <td>43</td>\n",
       "      <td>bachelor's degree</td>\n",
       "      <td>0</td>\n",
       "      <td>married</td>\n",
       "      <td>0</td>\n",
       "      <td>F</td>\n",
       "      <td>business</td>\n",
       "      <td>0</td>\n",
       "      <td>38484.156</td>\n",
       "      <td>housing transactions</td>\n",
       "      <td>adults</td>\n",
       "    </tr>\n",
       "    <tr>\n",
       "      <th>7</th>\n",
       "      <td>0</td>\n",
       "      <td>152.779569</td>\n",
       "      <td>50</td>\n",
       "      <td>secondary education</td>\n",
       "      <td>1</td>\n",
       "      <td>married</td>\n",
       "      <td>0</td>\n",
       "      <td>M</td>\n",
       "      <td>employee</td>\n",
       "      <td>0</td>\n",
       "      <td>21731.829</td>\n",
       "      <td>education</td>\n",
       "      <td>adults</td>\n",
       "    </tr>\n",
       "    <tr>\n",
       "      <th>8</th>\n",
       "      <td>2</td>\n",
       "      <td>6929.865299</td>\n",
       "      <td>35</td>\n",
       "      <td>bachelor's degree</td>\n",
       "      <td>0</td>\n",
       "      <td>civil partnership</td>\n",
       "      <td>1</td>\n",
       "      <td>F</td>\n",
       "      <td>employee</td>\n",
       "      <td>0</td>\n",
       "      <td>15337.093</td>\n",
       "      <td>having a wedding</td>\n",
       "      <td>adults</td>\n",
       "    </tr>\n",
       "    <tr>\n",
       "      <th>9</th>\n",
       "      <td>0</td>\n",
       "      <td>2188.756445</td>\n",
       "      <td>41</td>\n",
       "      <td>secondary education</td>\n",
       "      <td>1</td>\n",
       "      <td>married</td>\n",
       "      <td>0</td>\n",
       "      <td>M</td>\n",
       "      <td>employee</td>\n",
       "      <td>0</td>\n",
       "      <td>23108.150</td>\n",
       "      <td>purchase of the house for my family</td>\n",
       "      <td>adults</td>\n",
       "    </tr>\n",
       "    <tr>\n",
       "      <th>10</th>\n",
       "      <td>2</td>\n",
       "      <td>4171.483647</td>\n",
       "      <td>36</td>\n",
       "      <td>bachelor's degree</td>\n",
       "      <td>0</td>\n",
       "      <td>married</td>\n",
       "      <td>0</td>\n",
       "      <td>M</td>\n",
       "      <td>business</td>\n",
       "      <td>0</td>\n",
       "      <td>18230.959</td>\n",
       "      <td>buy real estate</td>\n",
       "      <td>adults</td>\n",
       "    </tr>\n",
       "    <tr>\n",
       "      <th>11</th>\n",
       "      <td>0</td>\n",
       "      <td>792.701887</td>\n",
       "      <td>40</td>\n",
       "      <td>secondary education</td>\n",
       "      <td>1</td>\n",
       "      <td>married</td>\n",
       "      <td>0</td>\n",
       "      <td>F</td>\n",
       "      <td>employee</td>\n",
       "      <td>0</td>\n",
       "      <td>12331.077</td>\n",
       "      <td>buy commercial real estate</td>\n",
       "      <td>adults</td>\n",
       "    </tr>\n",
       "    <tr>\n",
       "      <th>12</th>\n",
       "      <td>0</td>\n",
       "      <td>17155.000000</td>\n",
       "      <td>65</td>\n",
       "      <td>secondary education</td>\n",
       "      <td>1</td>\n",
       "      <td>civil partnership</td>\n",
       "      <td>1</td>\n",
       "      <td>M</td>\n",
       "      <td>retiree</td>\n",
       "      <td>0</td>\n",
       "      <td>20175.551</td>\n",
       "      <td>to have a wedding</td>\n",
       "      <td>seniors</td>\n",
       "    </tr>\n",
       "    <tr>\n",
       "      <th>13</th>\n",
       "      <td>0</td>\n",
       "      <td>1846.641941</td>\n",
       "      <td>54</td>\n",
       "      <td>some college</td>\n",
       "      <td>2</td>\n",
       "      <td>married</td>\n",
       "      <td>0</td>\n",
       "      <td>F</td>\n",
       "      <td>employee</td>\n",
       "      <td>0</td>\n",
       "      <td>20873.317</td>\n",
       "      <td>car purchase</td>\n",
       "      <td>adults</td>\n",
       "    </tr>\n",
       "    <tr>\n",
       "      <th>14</th>\n",
       "      <td>0</td>\n",
       "      <td>1844.956182</td>\n",
       "      <td>56</td>\n",
       "      <td>bachelor's degree</td>\n",
       "      <td>0</td>\n",
       "      <td>civil partnership</td>\n",
       "      <td>1</td>\n",
       "      <td>F</td>\n",
       "      <td>business</td>\n",
       "      <td>1</td>\n",
       "      <td>26420.466</td>\n",
       "      <td>buy residential real estate</td>\n",
       "      <td>adults</td>\n",
       "    </tr>\n",
       "    <tr>\n",
       "      <th>15</th>\n",
       "      <td>1</td>\n",
       "      <td>972.364419</td>\n",
       "      <td>26</td>\n",
       "      <td>secondary education</td>\n",
       "      <td>1</td>\n",
       "      <td>married</td>\n",
       "      <td>0</td>\n",
       "      <td>F</td>\n",
       "      <td>employee</td>\n",
       "      <td>0</td>\n",
       "      <td>18691.345</td>\n",
       "      <td>construction of own property</td>\n",
       "      <td>adults</td>\n",
       "    </tr>\n",
       "    <tr>\n",
       "      <th>16</th>\n",
       "      <td>0</td>\n",
       "      <td>1719.934226</td>\n",
       "      <td>35</td>\n",
       "      <td>secondary education</td>\n",
       "      <td>1</td>\n",
       "      <td>married</td>\n",
       "      <td>0</td>\n",
       "      <td>F</td>\n",
       "      <td>employee</td>\n",
       "      <td>0</td>\n",
       "      <td>46272.433</td>\n",
       "      <td>property</td>\n",
       "      <td>adults</td>\n",
       "    </tr>\n",
       "    <tr>\n",
       "      <th>17</th>\n",
       "      <td>0</td>\n",
       "      <td>2369.999720</td>\n",
       "      <td>33</td>\n",
       "      <td>bachelor's degree</td>\n",
       "      <td>0</td>\n",
       "      <td>civil partnership</td>\n",
       "      <td>1</td>\n",
       "      <td>M</td>\n",
       "      <td>employee</td>\n",
       "      <td>0</td>\n",
       "      <td>14465.694</td>\n",
       "      <td>building a property</td>\n",
       "      <td>adults</td>\n",
       "    </tr>\n",
       "    <tr>\n",
       "      <th>18</th>\n",
       "      <td>0</td>\n",
       "      <td>12775.000000</td>\n",
       "      <td>53</td>\n",
       "      <td>secondary education</td>\n",
       "      <td>1</td>\n",
       "      <td>widow / widower</td>\n",
       "      <td>2</td>\n",
       "      <td>F</td>\n",
       "      <td>retiree</td>\n",
       "      <td>0</td>\n",
       "      <td>9091.804</td>\n",
       "      <td>buying a second-hand car</td>\n",
       "      <td>adults</td>\n",
       "    </tr>\n",
       "    <tr>\n",
       "      <th>19</th>\n",
       "      <td>0</td>\n",
       "      <td>10038.818549</td>\n",
       "      <td>48</td>\n",
       "      <td>secondary education</td>\n",
       "      <td>1</td>\n",
       "      <td>divorced</td>\n",
       "      <td>3</td>\n",
       "      <td>F</td>\n",
       "      <td>employee</td>\n",
       "      <td>0</td>\n",
       "      <td>38852.977</td>\n",
       "      <td>buying my own car</td>\n",
       "      <td>adults</td>\n",
       "    </tr>\n",
       "  </tbody>\n",
       "</table>\n",
       "</div>"
      ],
      "text/plain": [
       "    children  days_employed  dob_years            education  education_id  \\\n",
       "0          1    8437.673028         42    bachelor's degree             0   \n",
       "1          1    4024.803754         36  secondary education             1   \n",
       "2          0    5623.422610         33  secondary education             1   \n",
       "3          3    4124.747207         32  secondary education             1   \n",
       "4          0   12775.000000         53  secondary education             1   \n",
       "5          0     926.185831         27    bachelor's degree             0   \n",
       "6          0    2879.202052         43    bachelor's degree             0   \n",
       "7          0     152.779569         50  secondary education             1   \n",
       "8          2    6929.865299         35    bachelor's degree             0   \n",
       "9          0    2188.756445         41  secondary education             1   \n",
       "10         2    4171.483647         36    bachelor's degree             0   \n",
       "11         0     792.701887         40  secondary education             1   \n",
       "12         0   17155.000000         65  secondary education             1   \n",
       "13         0    1846.641941         54         some college             2   \n",
       "14         0    1844.956182         56    bachelor's degree             0   \n",
       "15         1     972.364419         26  secondary education             1   \n",
       "16         0    1719.934226         35  secondary education             1   \n",
       "17         0    2369.999720         33    bachelor's degree             0   \n",
       "18         0   12775.000000         53  secondary education             1   \n",
       "19         0   10038.818549         48  secondary education             1   \n",
       "\n",
       "        family_status  family_status_id gender income_type  debt  \\\n",
       "0             married                 0      F    employee     0   \n",
       "1             married                 0      F    employee     0   \n",
       "2             married                 0      M    employee     0   \n",
       "3             married                 0      M    employee     0   \n",
       "4   civil partnership                 1      F     retiree     0   \n",
       "5   civil partnership                 1      M    business     0   \n",
       "6             married                 0      F    business     0   \n",
       "7             married                 0      M    employee     0   \n",
       "8   civil partnership                 1      F    employee     0   \n",
       "9             married                 0      M    employee     0   \n",
       "10            married                 0      M    business     0   \n",
       "11            married                 0      F    employee     0   \n",
       "12  civil partnership                 1      M     retiree     0   \n",
       "13            married                 0      F    employee     0   \n",
       "14  civil partnership                 1      F    business     1   \n",
       "15            married                 0      F    employee     0   \n",
       "16            married                 0      F    employee     0   \n",
       "17  civil partnership                 1      M    employee     0   \n",
       "18    widow / widower                 2      F     retiree     0   \n",
       "19           divorced                 3      F    employee     0   \n",
       "\n",
       "    total_income                              purpose age_group  \n",
       "0      40620.102                purchase of the house    adults  \n",
       "1      17932.802                         car purchase    adults  \n",
       "2      23341.752                purchase of the house    adults  \n",
       "3      42820.568              supplementary education    adults  \n",
       "4      25378.572                    to have a wedding    adults  \n",
       "5      40922.170                purchase of the house    adults  \n",
       "6      38484.156                 housing transactions    adults  \n",
       "7      21731.829                            education    adults  \n",
       "8      15337.093                     having a wedding    adults  \n",
       "9      23108.150  purchase of the house for my family    adults  \n",
       "10     18230.959                      buy real estate    adults  \n",
       "11     12331.077           buy commercial real estate    adults  \n",
       "12     20175.551                    to have a wedding   seniors  \n",
       "13     20873.317                         car purchase    adults  \n",
       "14     26420.466          buy residential real estate    adults  \n",
       "15     18691.345         construction of own property    adults  \n",
       "16     46272.433                             property    adults  \n",
       "17     14465.694                  building a property    adults  \n",
       "18      9091.804             buying a second-hand car    adults  \n",
       "19     38852.977                    buying my own car    adults  "
      ]
     },
     "metadata": {},
     "output_type": "display_data"
    }
   ],
   "source": [
    "# Verificar se há algum inconsistência\n",
    "display(df.head(20))"
   ]
  },
  {
   "cell_type": "code",
   "execution_count": 65,
   "id": "9086c256",
   "metadata": {
    "execution": {
     "iopub.execute_input": "2022-11-26T18:52:55.316090Z",
     "iopub.status.busy": "2022-11-26T18:52:55.315712Z",
     "iopub.status.idle": "2022-11-26T18:52:55.334446Z",
     "shell.execute_reply": "2022-11-26T18:52:55.333043Z"
    },
    "papermill": {
     "duration": 0.062296,
     "end_time": "2022-11-26T18:52:55.337382",
     "exception": false,
     "start_time": "2022-11-26T18:52:55.275086",
     "status": "completed"
    },
    "tags": []
   },
   "outputs": [
    {
     "name": "stdout",
     "output_type": "stream",
     "text": [
      "<class 'pandas.core.frame.DataFrame'>\n",
      "Int64Index: 21520 entries, 0 to 21524\n",
      "Data columns (total 13 columns):\n",
      " #   Column            Non-Null Count  Dtype  \n",
      "---  ------            --------------  -----  \n",
      " 0   children          21520 non-null  int64  \n",
      " 1   days_employed     19759 non-null  float64\n",
      " 2   dob_years         21520 non-null  int64  \n",
      " 3   education         21520 non-null  object \n",
      " 4   education_id      21520 non-null  int64  \n",
      " 5   family_status     21520 non-null  object \n",
      " 6   family_status_id  21520 non-null  int64  \n",
      " 7   gender            21520 non-null  object \n",
      " 8   income_type       21520 non-null  object \n",
      " 9   debt              21520 non-null  int64  \n",
      " 10  total_income      21520 non-null  float64\n",
      " 11  purpose           21520 non-null  object \n",
      " 12  age_group         21520 non-null  object \n",
      "dtypes: float64(2), int64(5), object(6)\n",
      "memory usage: 2.3+ MB\n"
     ]
    }
   ],
   "source": [
    "# Verificar o número de entradas nas colunas\n",
    "df.info()"
   ]
  },
  {
   "cell_type": "markdown",
   "id": "a5da3d0f",
   "metadata": {
    "papermill": {
     "duration": 0.03904,
     "end_time": "2022-11-26T18:52:55.416172",
     "exception": false,
     "start_time": "2022-11-26T18:52:55.377132",
     "status": "completed"
    },
    "tags": []
   },
   "source": [
    "A variável `total_income` foi preenchida com a mediana do grupo das variáveis `education`, `gender` e `income_type`, tornando a variável livre de valores ausentes. `total_income` possui a mesma quantidade de entradas que as outras variáveis, com excessão de `days_employed` que trataremos adiante."
   ]
  },
  {
   "cell_type": "markdown",
   "id": "2feaa17e",
   "metadata": {
    "papermill": {
     "duration": 0.041006,
     "end_time": "2022-11-26T18:52:55.496274",
     "exception": false,
     "start_time": "2022-11-26T18:52:55.455268",
     "status": "completed"
    },
    "tags": []
   },
   "source": [
    "### 3.2  Restaurar valores em `days_employed` <a id='32'></a>\n",
    "\n",
    "A variável `days_employed` representa a quantidade de dias trabalhados pelos clientes da base de dados. Essa variável deve ser positiva e inteira.\n",
    "As variáveis que podem sugerir uma melhor correlação com o número de dias trabalhado por alguém, são:\n",
    "* `children`: uma vez que a existência de filhos acarreta afastamento do trabalho, em sua esmagadora maioria para as mulheres.\n",
    "* `age_group`: entende-se que pessoas mais jovens possuem menos dias de trabalho.\n",
    "* `education`: pessoas com menos nível de estudo podem estar sujeitas ao risco do desemprego.\n",
    "* `gender`: mulheres que possuem filhos tendem a se afastar por mais tempo do mercado de trabalho.\n",
    "* `income_type`: trabalhadores públicos tendem a ficar mais tempo nos empregos, reformados e aposentados possuem como exigências um montante elevado de dias trabalhados.\n",
    "\n",
    "Nesse sentido, vamos analisar a correlação entre as variáveis e `days_employed`.\n",
    "\n",
    "[Voltar ao Índice](#back)"
   ]
  },
  {
   "cell_type": "code",
   "execution_count": 66,
   "id": "40443f26",
   "metadata": {
    "execution": {
     "iopub.execute_input": "2022-11-26T18:52:55.577511Z",
     "iopub.status.busy": "2022-11-26T18:52:55.576979Z",
     "iopub.status.idle": "2022-11-26T18:52:55.596861Z",
     "shell.execute_reply": "2022-11-26T18:52:55.596029Z"
    },
    "papermill": {
     "duration": 0.062564,
     "end_time": "2022-11-26T18:52:55.598964",
     "exception": false,
     "start_time": "2022-11-26T18:52:55.536400",
     "status": "completed"
    },
    "tags": []
   },
   "outputs": [
    {
     "data": {
      "text/html": [
       "<div>\n",
       "<style scoped>\n",
       "    .dataframe tbody tr th:only-of-type {\n",
       "        vertical-align: middle;\n",
       "    }\n",
       "\n",
       "    .dataframe tbody tr th {\n",
       "        vertical-align: top;\n",
       "    }\n",
       "\n",
       "    .dataframe thead th {\n",
       "        text-align: right;\n",
       "    }\n",
       "</style>\n",
       "<table border=\"1\" class=\"dataframe\">\n",
       "  <thead>\n",
       "    <tr style=\"text-align: right;\">\n",
       "      <th></th>\n",
       "      <th>children</th>\n",
       "      <th>days_employed</th>\n",
       "      <th>dob_years</th>\n",
       "      <th>education_id</th>\n",
       "      <th>family_status_id</th>\n",
       "      <th>debt</th>\n",
       "      <th>total_income</th>\n",
       "    </tr>\n",
       "  </thead>\n",
       "  <tbody>\n",
       "    <tr>\n",
       "      <th>children</th>\n",
       "      <td>1.000000</td>\n",
       "      <td>-0.253795</td>\n",
       "      <td>-0.318089</td>\n",
       "      <td>-0.026975</td>\n",
       "      <td>-0.157593</td>\n",
       "      <td>0.024557</td>\n",
       "      <td>0.033144</td>\n",
       "    </tr>\n",
       "    <tr>\n",
       "      <th>days_employed</th>\n",
       "      <td>-0.253795</td>\n",
       "      <td>1.000000</td>\n",
       "      <td>0.696923</td>\n",
       "      <td>0.074253</td>\n",
       "      <td>-0.019288</td>\n",
       "      <td>-0.068275</td>\n",
       "      <td>-0.131191</td>\n",
       "    </tr>\n",
       "    <tr>\n",
       "      <th>dob_years</th>\n",
       "      <td>-0.318089</td>\n",
       "      <td>0.696923</td>\n",
       "      <td>1.000000</td>\n",
       "      <td>0.065190</td>\n",
       "      <td>-0.068835</td>\n",
       "      <td>-0.071629</td>\n",
       "      <td>-0.063670</td>\n",
       "    </tr>\n",
       "    <tr>\n",
       "      <th>education_id</th>\n",
       "      <td>-0.026975</td>\n",
       "      <td>0.074253</td>\n",
       "      <td>0.065190</td>\n",
       "      <td>1.000000</td>\n",
       "      <td>0.008047</td>\n",
       "      <td>0.052830</td>\n",
       "      <td>-0.183551</td>\n",
       "    </tr>\n",
       "    <tr>\n",
       "      <th>family_status_id</th>\n",
       "      <td>-0.157593</td>\n",
       "      <td>-0.019288</td>\n",
       "      <td>-0.068835</td>\n",
       "      <td>0.008047</td>\n",
       "      <td>1.000000</td>\n",
       "      <td>0.020869</td>\n",
       "      <td>-0.007924</td>\n",
       "    </tr>\n",
       "    <tr>\n",
       "      <th>debt</th>\n",
       "      <td>0.024557</td>\n",
       "      <td>-0.068275</td>\n",
       "      <td>-0.071629</td>\n",
       "      <td>0.052830</td>\n",
       "      <td>0.020869</td>\n",
       "      <td>1.000000</td>\n",
       "      <td>-0.011998</td>\n",
       "    </tr>\n",
       "    <tr>\n",
       "      <th>total_income</th>\n",
       "      <td>0.033144</td>\n",
       "      <td>-0.131191</td>\n",
       "      <td>-0.063670</td>\n",
       "      <td>-0.183551</td>\n",
       "      <td>-0.007924</td>\n",
       "      <td>-0.011998</td>\n",
       "      <td>1.000000</td>\n",
       "    </tr>\n",
       "  </tbody>\n",
       "</table>\n",
       "</div>"
      ],
      "text/plain": [
       "                  children  days_employed  dob_years  education_id  \\\n",
       "children          1.000000      -0.253795  -0.318089     -0.026975   \n",
       "days_employed    -0.253795       1.000000   0.696923      0.074253   \n",
       "dob_years        -0.318089       0.696923   1.000000      0.065190   \n",
       "education_id     -0.026975       0.074253   0.065190      1.000000   \n",
       "family_status_id -0.157593      -0.019288  -0.068835      0.008047   \n",
       "debt              0.024557      -0.068275  -0.071629      0.052830   \n",
       "total_income      0.033144      -0.131191  -0.063670     -0.183551   \n",
       "\n",
       "                  family_status_id      debt  total_income  \n",
       "children                 -0.157593  0.024557      0.033144  \n",
       "days_employed            -0.019288 -0.068275     -0.131191  \n",
       "dob_years                -0.068835 -0.071629     -0.063670  \n",
       "education_id              0.008047  0.052830     -0.183551  \n",
       "family_status_id          1.000000  0.020869     -0.007924  \n",
       "debt                      0.020869  1.000000     -0.011998  \n",
       "total_income             -0.007924 -0.011998      1.000000  "
      ]
     },
     "metadata": {},
     "output_type": "display_data"
    }
   ],
   "source": [
    "# matriz de correlação\n",
    "display(df.corr())"
   ]
  },
  {
   "cell_type": "markdown",
   "id": "21212489",
   "metadata": {
    "papermill": {
     "duration": 0.040633,
     "end_time": "2022-11-26T18:52:55.680080",
     "exception": false,
     "start_time": "2022-11-26T18:52:55.639447",
     "status": "completed"
    },
    "tags": []
   },
   "source": [
    "A variável `days_employed` possui maiores correlações absolutas com `dob_years`, `children` e `education_id`.\n",
    "Em parte, a alta correlação entre `dob_years` e `days_employed` se deve pelo ajuste realizado na quantidade de dias trabalhado que superavam os dias de vida dos clientes. Esse ajuste realizado nos clientes, que tinham mais dias trabalhados que dias de vida, acabou por fortalecer essa correlação."
   ]
  },
  {
   "cell_type": "code",
   "execution_count": 67,
   "id": "2d3a6e09",
   "metadata": {
    "execution": {
     "iopub.execute_input": "2022-11-26T18:52:55.763003Z",
     "iopub.status.busy": "2022-11-26T18:52:55.761871Z",
     "iopub.status.idle": "2022-11-26T18:52:55.769947Z",
     "shell.execute_reply": "2022-11-26T18:52:55.768865Z"
    },
    "papermill": {
     "duration": 0.051467,
     "end_time": "2022-11-26T18:52:55.772108",
     "exception": false,
     "start_time": "2022-11-26T18:52:55.720641",
     "status": "completed"
    },
    "tags": []
   },
   "outputs": [
    {
     "data": {
      "text/plain": [
       "1761"
      ]
     },
     "execution_count": 67,
     "metadata": {},
     "output_type": "execute_result"
    }
   ],
   "source": [
    "# Verificar se há valores ausentes\n",
    "df['days_employed'].isna().sum()"
   ]
  },
  {
   "cell_type": "code",
   "execution_count": 68,
   "id": "bbbe3559",
   "metadata": {
    "execution": {
     "iopub.execute_input": "2022-11-26T18:52:55.853010Z",
     "iopub.status.busy": "2022-11-26T18:52:55.852634Z",
     "iopub.status.idle": "2022-11-26T18:52:55.863356Z",
     "shell.execute_reply": "2022-11-26T18:52:55.862036Z"
    },
    "papermill": {
     "duration": 0.054157,
     "end_time": "2022-11-26T18:52:55.865796",
     "exception": false,
     "start_time": "2022-11-26T18:52:55.811639",
     "status": "completed"
    },
    "tags": []
   },
   "outputs": [
    {
     "name": "stdout",
     "output_type": "stream",
     "text": [
      "children\n",
      "0    5638.698141\n",
      "1    2875.890809\n",
      "2    2262.446571\n",
      "3    2343.900888\n",
      "4    2416.388469\n",
      "5    1432.348601\n",
      "Name: days_employed, dtype: float64\n",
      "***********************************\n",
      "children\n",
      "0    2624.221782\n",
      "1    1669.130207\n",
      "2    1676.623431\n",
      "3    1765.066044\n",
      "4    1905.879025\n",
      "5    1231.571486\n",
      "Name: days_employed, dtype: float64\n"
     ]
    }
   ],
   "source": [
    "# Valores médios de dias de trabalho com base na quantidade de filhos\n",
    "print(df_not_nan.groupby('children')['days_employed'].mean())\n",
    "print('*'*35)\n",
    "# Valores medianos de dias de trabalho com base na quantidade de filhos\n",
    "print(df_not_nan.groupby('children')['days_employed'].median())"
   ]
  },
  {
   "cell_type": "markdown",
   "id": "46a134ba",
   "metadata": {
    "papermill": {
     "duration": 0.043336,
     "end_time": "2022-11-26T18:52:55.949263",
     "exception": false,
     "start_time": "2022-11-26T18:52:55.905927",
     "status": "completed"
    },
    "tags": []
   },
   "source": [
    "Então, não ter filhos parece justificar o aumento considerável na quantidade de dias trabalhado, quando comparado com pessoas com filhos (qualquer quantidade). Criar uma variável binária que represente se o indivíduo tem ou não filhos pode ser uma boa solução para a utilização dessa variável."
   ]
  },
  {
   "cell_type": "code",
   "execution_count": 69,
   "id": "7ea601f5",
   "metadata": {
    "execution": {
     "iopub.execute_input": "2022-11-26T18:52:56.032860Z",
     "iopub.status.busy": "2022-11-26T18:52:56.032415Z",
     "iopub.status.idle": "2022-11-26T18:52:56.038325Z",
     "shell.execute_reply": "2022-11-26T18:52:56.037472Z"
    },
    "papermill": {
     "duration": 0.050592,
     "end_time": "2022-11-26T18:52:56.040767",
     "exception": false,
     "start_time": "2022-11-26T18:52:55.990175",
     "status": "completed"
    },
    "tags": []
   },
   "outputs": [],
   "source": [
    "# Criar a coluna \"parents\"\n",
    "df['parents'] = np.where(df['children']>0, 1, 0)"
   ]
  },
  {
   "cell_type": "code",
   "execution_count": 70,
   "id": "9293f402",
   "metadata": {
    "execution": {
     "iopub.execute_input": "2022-11-26T18:52:56.122801Z",
     "iopub.status.busy": "2022-11-26T18:52:56.122394Z",
     "iopub.status.idle": "2022-11-26T18:52:56.133622Z",
     "shell.execute_reply": "2022-11-26T18:52:56.132240Z"
    },
    "papermill": {
     "duration": 0.0548,
     "end_time": "2022-11-26T18:52:56.135910",
     "exception": false,
     "start_time": "2022-11-26T18:52:56.081110",
     "status": "completed"
    },
    "tags": []
   },
   "outputs": [
    {
     "name": "stdout",
     "output_type": "stream",
     "text": [
      "parents\n",
      "0    5912.909043\n",
      "1    2717.843434\n",
      "Name: days_employed, dtype: float64\n",
      "***********************************\n",
      "parents\n",
      "0    2774.967393\n",
      "1    1691.789451\n",
      "Name: days_employed, dtype: float64\n"
     ]
    }
   ],
   "source": [
    "# Valores médios de dias de trabalho com base se tem ou não filhos\n",
    "print(df.groupby('parents')['days_employed'].mean())\n",
    "print('*'*35)\n",
    "# Valores medianos de dias de trabalho com base na quantidade de filhos\n",
    "print(df.groupby('parents')['days_employed'].median())"
   ]
  },
  {
   "cell_type": "markdown",
   "id": "fa742731",
   "metadata": {
    "papermill": {
     "duration": 0.039675,
     "end_time": "2022-11-26T18:52:56.216222",
     "exception": false,
     "start_time": "2022-11-26T18:52:56.176547",
     "status": "completed"
    },
    "tags": []
   },
   "source": [
    "Agora já podemos usar a nova variável `parents` para auxiliar no preenchimento dos valores ausentes em `day_employed`."
   ]
  },
  {
   "cell_type": "code",
   "execution_count": 71,
   "id": "ad49a46a",
   "metadata": {
    "execution": {
     "iopub.execute_input": "2022-11-26T18:52:56.297520Z",
     "iopub.status.busy": "2022-11-26T18:52:56.297125Z",
     "iopub.status.idle": "2022-11-26T18:52:56.310854Z",
     "shell.execute_reply": "2022-11-26T18:52:56.309119Z"
    },
    "papermill": {
     "duration": 0.057549,
     "end_time": "2022-11-26T18:52:56.313586",
     "exception": false,
     "start_time": "2022-11-26T18:52:56.256037",
     "status": "completed"
    },
    "tags": []
   },
   "outputs": [
    {
     "name": "stdout",
     "output_type": "stream",
     "text": [
      "age_group\n",
      "adults      4448.243521\n",
      "seniors    16208.366367\n",
      "youth        854.926820\n",
      "Name: days_employed, dtype: float64\n",
      "***********************************\n",
      "age_group\n",
      "adults      2258.779527\n",
      "seniors    17885.000000\n",
      "youth        746.501880\n",
      "Name: days_employed, dtype: float64\n"
     ]
    }
   ],
   "source": [
    "# Valores médios de dias de trabalho com base no grupo de idade\n",
    "print(df.groupby('age_group')['days_employed'].mean())\n",
    "print('*'*35)\n",
    "# Valores medianos de dias de trabalho com base no grupo de idade\n",
    "print(df.groupby('age_group')['days_employed'].median())"
   ]
  },
  {
   "cell_type": "markdown",
   "id": "918da3ab",
   "metadata": {
    "execution": {
     "iopub.execute_input": "2022-11-26T18:05:19.201490Z",
     "iopub.status.busy": "2022-11-26T18:05:19.201028Z",
     "iopub.status.idle": "2022-11-26T18:05:19.209414Z",
     "shell.execute_reply": "2022-11-26T18:05:19.207667Z",
     "shell.execute_reply.started": "2022-11-26T18:05:19.201455Z"
    },
    "papermill": {
     "duration": 0.039593,
     "end_time": "2022-11-26T18:52:56.393407",
     "exception": false,
     "start_time": "2022-11-26T18:52:56.353814",
     "status": "completed"
    },
    "tags": []
   },
   "source": [
    "Como esperado, maiores idades correspondem a uma maior quantidade de dias trabalhados. `age_group` será utilizada."
   ]
  },
  {
   "cell_type": "code",
   "execution_count": 72,
   "id": "756d4460",
   "metadata": {
    "execution": {
     "iopub.execute_input": "2022-11-26T18:52:56.476170Z",
     "iopub.status.busy": "2022-11-26T18:52:56.475406Z",
     "iopub.status.idle": "2022-11-26T18:52:56.490372Z",
     "shell.execute_reply": "2022-11-26T18:52:56.489152Z"
    },
    "papermill": {
     "duration": 0.058873,
     "end_time": "2022-11-26T18:52:56.492630",
     "exception": false,
     "start_time": "2022-11-26T18:52:56.433757",
     "status": "completed"
    },
    "tags": []
   },
   "outputs": [
    {
     "name": "stdout",
     "output_type": "stream",
     "text": [
      "education\n",
      "bachelor's degree      3809.642787\n",
      "graduate degree        8125.957691\n",
      "primary education      7043.326055\n",
      "secondary education    5258.625553\n",
      "some college           2380.195786\n",
      "Name: days_employed, dtype: float64\n",
      "***********************************\n",
      "education\n",
      "bachelor's degree      1929.913775\n",
      "graduate degree        5660.057032\n",
      "primary education      3294.326552\n",
      "secondary education    2486.862957\n",
      "some college           1214.379646\n",
      "Name: days_employed, dtype: float64\n"
     ]
    }
   ],
   "source": [
    "# Valores médios de dias de trabalho com base em educação\n",
    "print(df.groupby('education')['days_employed'].mean())\n",
    "print('*'*35)\n",
    "# Valores medianos de dias de trabalho com base em gênero\n",
    "print(df.groupby('education')['days_employed'].median())"
   ]
  },
  {
   "cell_type": "markdown",
   "id": "666dac2d",
   "metadata": {
    "papermill": {
     "duration": 0.039925,
     "end_time": "2022-11-26T18:52:56.573856",
     "exception": false,
     "start_time": "2022-11-26T18:52:56.533931",
     "status": "completed"
    },
    "tags": []
   },
   "source": [
    "Em média, pessoas com educação primária tem quase tantos dias de trabalho quanto pessoas com nível superior. Os dados não sugerem, de forma tão contundente, que os dias trabalhados possam estar diretamente correlacionados com o nível acadêmico. Essa variável **não** será utilizada."
   ]
  },
  {
   "cell_type": "code",
   "execution_count": 73,
   "id": "f2f1de0b",
   "metadata": {
    "execution": {
     "iopub.execute_input": "2022-11-26T18:52:56.656189Z",
     "iopub.status.busy": "2022-11-26T18:52:56.655052Z",
     "iopub.status.idle": "2022-11-26T18:52:56.668941Z",
     "shell.execute_reply": "2022-11-26T18:52:56.667843Z"
    },
    "papermill": {
     "duration": 0.057607,
     "end_time": "2022-11-26T18:52:56.671382",
     "exception": false,
     "start_time": "2022-11-26T18:52:56.613775",
     "status": "completed"
    },
    "tags": []
   },
   "outputs": [
    {
     "name": "stdout",
     "output_type": "stream",
     "text": [
      "income_type\n",
      "business          2111.122879\n",
      "civil servant     3399.896902\n",
      "employee          2326.499216\n",
      "retiree          15069.407417\n",
      "Name: days_employed, dtype: float64\n",
      "***********************************\n",
      "income_type\n",
      "business          1545.284206\n",
      "civil servant     2689.368353\n",
      "employee          1574.202821\n",
      "retiree          15330.000000\n",
      "Name: days_employed, dtype: float64\n"
     ]
    }
   ],
   "source": [
    "# Valores médios de dias trabalhados com base no tipo de emprego\n",
    "print(df.groupby('income_type')['days_employed'].mean())\n",
    "print('*'*35)\n",
    "# Valores medianos de dias trabalhados com base no tipo de emprego\n",
    "print(df.groupby('income_type')['days_employed'].median())"
   ]
  },
  {
   "cell_type": "markdown",
   "id": "cdaeda9b",
   "metadata": {
    "papermill": {
     "duration": 0.040795,
     "end_time": "2022-11-26T18:52:56.752930",
     "exception": false,
     "start_time": "2022-11-26T18:52:56.712135",
     "status": "completed"
    },
    "tags": []
   },
   "source": [
    "Como esperado, reformados possuem mais dias de trabalho que outros tipos de trabalhos. Funcionários públicos também tendem a ficar mais tempo. Essa variável será utilizada."
   ]
  },
  {
   "cell_type": "code",
   "execution_count": 74,
   "id": "5bbdc087",
   "metadata": {
    "execution": {
     "iopub.execute_input": "2022-11-26T18:52:56.835387Z",
     "iopub.status.busy": "2022-11-26T18:52:56.834749Z",
     "iopub.status.idle": "2022-11-26T18:52:56.848537Z",
     "shell.execute_reply": "2022-11-26T18:52:56.847129Z"
    },
    "papermill": {
     "duration": 0.059123,
     "end_time": "2022-11-26T18:52:56.852162",
     "exception": false,
     "start_time": "2022-11-26T18:52:56.793039",
     "status": "completed"
    },
    "tags": []
   },
   "outputs": [
    {
     "name": "stdout",
     "output_type": "stream",
     "text": [
      "gender\n",
      "F    5550.665472\n",
      "M    3425.514990\n",
      "Name: days_employed, dtype: float64\n",
      "***********************************\n",
      "gender\n",
      "F    2645.151243\n",
      "M    1687.300565\n",
      "Name: days_employed, dtype: float64\n"
     ]
    }
   ],
   "source": [
    "# Valores médios de dias trabalhados com base no gênero\n",
    "print(df.groupby('gender')['days_employed'].mean())\n",
    "print('*'*35)\n",
    "# Valores medianos de dias trabalhados com base no gênero\n",
    "print(df.groupby('gender')['days_employed'].median())"
   ]
  },
  {
   "cell_type": "markdown",
   "id": "0627c040",
   "metadata": {
    "papermill": {
     "duration": 0.040298,
     "end_time": "2022-11-26T18:52:56.934102",
     "exception": false,
     "start_time": "2022-11-26T18:52:56.893804",
     "status": "completed"
    },
    "tags": []
   },
   "source": [
    "Homens possuem mais dias trabalhados que mulheres, uma das causas principais pode ser por causa dos filhos. Nesse sentido, tanto a variável `gender` como a variável `parents` serão utilizados para preencher valores ausentes em `days_employed`.\n",
    "\n",
    "A mediana ainda é a melhor estatística para substituir os valores ausentes em `days_employed`, uma vez que suavizaria os dados e evitaria a influência dos _outliers_ caso utilizássemos a média.\n",
    "\n",
    "[Voltar ao Índice](#back)"
   ]
  },
  {
   "cell_type": "code",
   "execution_count": 75,
   "id": "2e57386c",
   "metadata": {
    "execution": {
     "iopub.execute_input": "2022-11-26T18:52:57.019040Z",
     "iopub.status.busy": "2022-11-26T18:52:57.018034Z",
     "iopub.status.idle": "2022-11-26T18:52:57.036672Z",
     "shell.execute_reply": "2022-11-26T18:52:57.035709Z"
    },
    "papermill": {
     "duration": 0.064368,
     "end_time": "2022-11-26T18:52:57.038996",
     "exception": false,
     "start_time": "2022-11-26T18:52:56.974628",
     "status": "completed"
    },
    "tags": []
   },
   "outputs": [
    {
     "data": {
      "text/plain": [
       "income_type    age_group  gender  parents\n",
       "business       adults     F       0           1753.351108\n",
       "                                  1           1578.949803\n",
       "                          M       0           1559.100770\n",
       "                                  1           1556.595932\n",
       "               seniors    F       0           2598.981129\n",
       "                          M       0           1913.690402\n",
       "               youth      F       0            640.051253\n",
       "                                  1            847.342992\n",
       "                          M       0            732.868781\n",
       "                                  1            560.748936\n",
       "civil servant  adults     F       0           3024.815306\n",
       "                                  1           2477.279057\n",
       "                          M       0           2661.959324\n",
       "                                  1           3091.842013\n",
       "               seniors    F       0           3339.663548\n",
       "                          M       0           3506.776656\n",
       "               youth      F       0            685.169476\n",
       "                                  1           1348.765084\n",
       "                          M       0            941.623305\n",
       "                                  1            597.273431\n",
       "employee       adults     F       0           1913.615200\n",
       "                                  1           1644.872504\n",
       "                          M       0           1444.900455\n",
       "                                  1           1382.084098\n",
       "               seniors    F       0           3114.180553\n",
       "                                  1           3508.701949\n",
       "                          M       0           3069.916921\n",
       "                                  1          10462.613364\n",
       "               youth      F       0            710.003973\n",
       "                                  1            880.493667\n",
       "                          M       0            769.758975\n",
       "                                  1            777.085235\n",
       "retiree        adults     F       0          14600.000000\n",
       "                                  1          14235.000000\n",
       "                          M       0          14600.000000\n",
       "                                  1          12592.500000\n",
       "               seniors    F       0          17885.000000\n",
       "                                  1          18250.000000\n",
       "                          M       0          17885.000000\n",
       "                                  1          17520.000000\n",
       "               youth      F       0           1825.000000\n",
       "Name: days_employed, dtype: float64"
      ]
     },
     "execution_count": 75,
     "metadata": {},
     "output_type": "execute_result"
    }
   ],
   "source": [
    "# Verificar a mediana dos dados considerando as variáveis de estudo\n",
    "df.groupby(['income_type','age_group','gender', 'parents'])['days_employed'].median()"
   ]
  },
  {
   "cell_type": "markdown",
   "id": "b8ad0b9b",
   "metadata": {
    "papermill": {
     "duration": 0.041655,
     "end_time": "2022-11-26T18:52:57.121239",
     "exception": false,
     "start_time": "2022-11-26T18:52:57.079584",
     "status": "completed"
    },
    "tags": []
   },
   "source": [
    "O agrupamento acima revela que as variáveis `parents` e `gender` são bem similares e possuem maiores discrepâncias nos grupos de idade mais jovens. Para evitar multicolinariedade entre essas duas variáveis é preferível remover uma delas. Desse modo, ficaremos apenas com as variáveis `income_type`, `age_group` e `gender` para preencher os valores ausentes."
   ]
  },
  {
   "cell_type": "code",
   "execution_count": 76,
   "id": "9e2e9bf3",
   "metadata": {
    "execution": {
     "iopub.execute_input": "2022-11-26T18:52:57.206193Z",
     "iopub.status.busy": "2022-11-26T18:52:57.205400Z",
     "iopub.status.idle": "2022-11-26T18:52:57.223052Z",
     "shell.execute_reply": "2022-11-26T18:52:57.221820Z"
    },
    "papermill": {
     "duration": 0.06311,
     "end_time": "2022-11-26T18:52:57.225722",
     "exception": false,
     "start_time": "2022-11-26T18:52:57.162612",
     "status": "completed"
    },
    "tags": []
   },
   "outputs": [
    {
     "data": {
      "text/plain": [
       "income_type    age_group  gender\n",
       "business       adults     F          1673.323646\n",
       "                          M          1556.595932\n",
       "               seniors    F          2598.981129\n",
       "                          M          1913.690402\n",
       "               youth      F           686.508637\n",
       "                          M           716.180179\n",
       "civil servant  adults     F          2746.045213\n",
       "                          M          2802.226671\n",
       "               seniors    F          3339.663548\n",
       "                          M          3506.776656\n",
       "               youth      F          1024.299332\n",
       "                          M           842.682119\n",
       "employee       adults     F          1798.951596\n",
       "                          M          1425.031883\n",
       "               seniors    F          3236.712208\n",
       "                          M          3511.294028\n",
       "               youth      F           763.631105\n",
       "                          M           772.799568\n",
       "retiree        adults     F         14600.000000\n",
       "                          M         14600.000000\n",
       "               seniors    F         17885.000000\n",
       "                          M         17885.000000\n",
       "               youth      F          1825.000000\n",
       "Name: days_employed, dtype: float64"
      ]
     },
     "execution_count": 76,
     "metadata": {},
     "output_type": "execute_result"
    }
   ],
   "source": [
    "# Verificar a mediana com as variáveis propostas\n",
    "df.groupby(['income_type','age_group','gender'])['days_employed'].median()"
   ]
  },
  {
   "cell_type": "code",
   "execution_count": 77,
   "id": "f8891535",
   "metadata": {
    "execution": {
     "iopub.execute_input": "2022-11-26T18:52:57.309598Z",
     "iopub.status.busy": "2022-11-26T18:52:57.308848Z",
     "iopub.status.idle": "2022-11-26T18:52:57.324960Z",
     "shell.execute_reply": "2022-11-26T18:52:57.323499Z"
    },
    "papermill": {
     "duration": 0.060668,
     "end_time": "2022-11-26T18:52:57.327289",
     "exception": false,
     "start_time": "2022-11-26T18:52:57.266621",
     "status": "completed"
    },
    "tags": []
   },
   "outputs": [
    {
     "name": "stdout",
     "output_type": "stream",
     "text": [
      "0         1798.951596\n",
      "1         1798.951596\n",
      "2         1425.031883\n",
      "3         1425.031883\n",
      "4        14600.000000\n",
      "             ...     \n",
      "21520     1673.323646\n",
      "21521    17885.000000\n",
      "21522     1425.031883\n",
      "21523     1425.031883\n",
      "21524     1798.951596\n",
      "Name: days_employed, Length: 21520, dtype: float64\n"
     ]
    }
   ],
   "source": [
    "# Criar os valores para substituir os valores ausentes\n",
    "values_days_employed = df.groupby(['income_type','age_group','gender'])['days_employed'].transform('median')\n",
    "print(values_days_employed)"
   ]
  },
  {
   "cell_type": "code",
   "execution_count": 78,
   "id": "7bc6e1a7",
   "metadata": {
    "execution": {
     "iopub.execute_input": "2022-11-26T18:52:57.410650Z",
     "iopub.status.busy": "2022-11-26T18:52:57.409878Z",
     "iopub.status.idle": "2022-11-26T18:52:57.417704Z",
     "shell.execute_reply": "2022-11-26T18:52:57.416683Z"
    },
    "papermill": {
     "duration": 0.051991,
     "end_time": "2022-11-26T18:52:57.419982",
     "exception": false,
     "start_time": "2022-11-26T18:52:57.367991",
     "status": "completed"
    },
    "tags": []
   },
   "outputs": [
    {
     "data": {
      "text/plain": [
       "1761"
      ]
     },
     "execution_count": 78,
     "metadata": {},
     "output_type": "execute_result"
    }
   ],
   "source": [
    "# Verificar se há valores ausentes\n",
    "df['days_employed'].isna().sum()"
   ]
  },
  {
   "cell_type": "code",
   "execution_count": 79,
   "id": "bae3da34",
   "metadata": {
    "execution": {
     "iopub.execute_input": "2022-11-26T18:52:57.504532Z",
     "iopub.status.busy": "2022-11-26T18:52:57.503863Z",
     "iopub.status.idle": "2022-11-26T18:52:57.509522Z",
     "shell.execute_reply": "2022-11-26T18:52:57.508584Z"
    },
    "papermill": {
     "duration": 0.051257,
     "end_time": "2022-11-26T18:52:57.511993",
     "exception": false,
     "start_time": "2022-11-26T18:52:57.460736",
     "status": "completed"
    },
    "tags": []
   },
   "outputs": [],
   "source": [
    "# Substituir os valores ausentes\n",
    "df['days_employed'].fillna(values_days_employed, inplace = True)"
   ]
  },
  {
   "cell_type": "code",
   "execution_count": 80,
   "id": "837cc36d",
   "metadata": {
    "execution": {
     "iopub.execute_input": "2022-11-26T18:52:57.599520Z",
     "iopub.status.busy": "2022-11-26T18:52:57.598816Z",
     "iopub.status.idle": "2022-11-26T18:52:57.605633Z",
     "shell.execute_reply": "2022-11-26T18:52:57.604586Z"
    },
    "papermill": {
     "duration": 0.053234,
     "end_time": "2022-11-26T18:52:57.607978",
     "exception": false,
     "start_time": "2022-11-26T18:52:57.554744",
     "status": "completed"
    },
    "tags": []
   },
   "outputs": [
    {
     "data": {
      "text/plain": [
       "0"
      ]
     },
     "execution_count": 80,
     "metadata": {},
     "output_type": "execute_result"
    }
   ],
   "source": [
    "# Verificar se há valores ausentes\n",
    "df['days_employed'].isna().sum()"
   ]
  },
  {
   "cell_type": "markdown",
   "id": "a0609cac",
   "metadata": {
    "papermill": {
     "duration": 0.040854,
     "end_time": "2022-11-26T18:52:57.689784",
     "exception": false,
     "start_time": "2022-11-26T18:52:57.648930",
     "status": "completed"
    },
    "tags": []
   },
   "source": [
    "Desse modo, temos todos os valores preenchidos e ausência de valores faltantes."
   ]
  },
  {
   "cell_type": "code",
   "execution_count": 81,
   "id": "b55f10b1",
   "metadata": {
    "execution": {
     "iopub.execute_input": "2022-11-26T18:52:57.774495Z",
     "iopub.status.busy": "2022-11-26T18:52:57.774072Z",
     "iopub.status.idle": "2022-11-26T18:52:57.779543Z",
     "shell.execute_reply": "2022-11-26T18:52:57.778681Z"
    },
    "papermill": {
     "duration": 0.050064,
     "end_time": "2022-11-26T18:52:57.781678",
     "exception": false,
     "start_time": "2022-11-26T18:52:57.731614",
     "status": "completed"
    },
    "tags": []
   },
   "outputs": [],
   "source": [
    "# Alterar o tipo de dados em \"days_employed\" para inteiros\n",
    "df['days_employed'] = df['days_employed'].astype('int')"
   ]
  },
  {
   "cell_type": "code",
   "execution_count": 82,
   "id": "ca521329",
   "metadata": {
    "execution": {
     "iopub.execute_input": "2022-11-26T18:52:57.866065Z",
     "iopub.status.busy": "2022-11-26T18:52:57.865416Z",
     "iopub.status.idle": "2022-11-26T18:52:57.884414Z",
     "shell.execute_reply": "2022-11-26T18:52:57.883059Z"
    },
    "papermill": {
     "duration": 0.064607,
     "end_time": "2022-11-26T18:52:57.887548",
     "exception": false,
     "start_time": "2022-11-26T18:52:57.822941",
     "status": "completed"
    },
    "tags": []
   },
   "outputs": [
    {
     "name": "stdout",
     "output_type": "stream",
     "text": [
      "<class 'pandas.core.frame.DataFrame'>\n",
      "Int64Index: 21520 entries, 0 to 21524\n",
      "Data columns (total 14 columns):\n",
      " #   Column            Non-Null Count  Dtype  \n",
      "---  ------            --------------  -----  \n",
      " 0   children          21520 non-null  int64  \n",
      " 1   days_employed     21520 non-null  int64  \n",
      " 2   dob_years         21520 non-null  int64  \n",
      " 3   education         21520 non-null  object \n",
      " 4   education_id      21520 non-null  int64  \n",
      " 5   family_status     21520 non-null  object \n",
      " 6   family_status_id  21520 non-null  int64  \n",
      " 7   gender            21520 non-null  object \n",
      " 8   income_type       21520 non-null  object \n",
      " 9   debt              21520 non-null  int64  \n",
      " 10  total_income      21520 non-null  float64\n",
      " 11  purpose           21520 non-null  object \n",
      " 12  age_group         21520 non-null  object \n",
      " 13  parents           21520 non-null  int64  \n",
      "dtypes: float64(1), int64(7), object(6)\n",
      "memory usage: 2.5+ MB\n"
     ]
    }
   ],
   "source": [
    "df.info()"
   ]
  },
  {
   "cell_type": "markdown",
   "id": "2736aeb3",
   "metadata": {
    "papermill": {
     "duration": 0.041958,
     "end_time": "2022-11-26T18:52:57.971823",
     "exception": false,
     "start_time": "2022-11-26T18:52:57.929865",
     "status": "completed"
    },
    "tags": []
   },
   "source": [
    "## 4. Categorização de Dados <a id='4'></a>\n",
    "\n",
    "Existem alguns dados que precisam ser categorizados para que os objetivos do estudo sejam atingidos. Até o momento já categorizamos:\n",
    "* `dob_years` agrupado em intervalos de idade através de `age_group`.\n",
    "* `children` transformada em variável binária, com ou sem filho, na varável `parents`.\n",
    "\n",
    "Adiante serão categorizadas as variáveis `purpose` e `total_income`.\n",
    "\n",
    "[Voltar ao Índice](#back)"
   ]
  },
  {
   "cell_type": "code",
   "execution_count": 83,
   "id": "5c9f7fb7",
   "metadata": {
    "execution": {
     "iopub.execute_input": "2022-11-26T18:52:58.057541Z",
     "iopub.status.busy": "2022-11-26T18:52:58.057102Z",
     "iopub.status.idle": "2022-11-26T18:52:58.067206Z",
     "shell.execute_reply": "2022-11-26T18:52:58.066221Z"
    },
    "papermill": {
     "duration": 0.054757,
     "end_time": "2022-11-26T18:52:58.069374",
     "exception": false,
     "start_time": "2022-11-26T18:52:58.014617",
     "status": "completed"
    },
    "tags": []
   },
   "outputs": [
    {
     "data": {
      "text/plain": [
       "wedding ceremony                            797\n",
       "having a wedding                            777\n",
       "to have a wedding                           774\n",
       "real estate transactions                    676\n",
       "buy commercial real estate                  664\n",
       "housing transactions                        653\n",
       "buying property for renting out             652\n",
       "transactions with commercial real estate    651\n",
       "purchase of the house                       647\n",
       "housing                                     647\n",
       "purchase of the house for my family         641\n",
       "construction of own property                634\n",
       "property                                    634\n",
       "transactions with my real estate            630\n",
       "building a real estate                      626\n",
       "buy real estate                             623\n",
       "building a property                         620\n",
       "purchase of my own house                    620\n",
       "housing renovation                          611\n",
       "buy residential real estate                 607\n",
       "buying my own car                           505\n",
       "going to university                         496\n",
       "car                                         494\n",
       "second-hand car purchase                    489\n",
       "to own a car                                480\n",
       "buying a second-hand car                    479\n",
       "cars                                        478\n",
       "to buy a car                                472\n",
       "supplementary education                     462\n",
       "car purchase                                462\n",
       "purchase of a car                           455\n",
       "university education                        453\n",
       "education                                   447\n",
       "to get a supplementary education            447\n",
       "getting an education                        443\n",
       "profile education                           436\n",
       "getting higher education                    426\n",
       "to become educated                          412\n",
       "Name: purpose, dtype: int64"
      ]
     },
     "execution_count": 83,
     "metadata": {},
     "output_type": "execute_result"
    }
   ],
   "source": [
    "# Exibir os valores dos dados selecionados para categorização\n",
    "df['purpose'].value_counts()"
   ]
  },
  {
   "cell_type": "code",
   "execution_count": 84,
   "id": "589a0768",
   "metadata": {
    "execution": {
     "iopub.execute_input": "2022-11-26T18:52:58.155619Z",
     "iopub.status.busy": "2022-11-26T18:52:58.154672Z",
     "iopub.status.idle": "2022-11-26T18:52:58.164250Z",
     "shell.execute_reply": "2022-11-26T18:52:58.162374Z"
    },
    "papermill": {
     "duration": 0.056321,
     "end_time": "2022-11-26T18:52:58.167027",
     "exception": false,
     "start_time": "2022-11-26T18:52:58.110706",
     "status": "completed"
    },
    "tags": []
   },
   "outputs": [
    {
     "name": "stdout",
     "output_type": "stream",
     "text": [
      "['purchase of the house' 'car purchase' 'supplementary education'\n",
      " 'to have a wedding' 'housing transactions' 'education' 'having a wedding'\n",
      " 'purchase of the house for my family' 'buy real estate'\n",
      " 'buy commercial real estate' 'buy residential real estate'\n",
      " 'construction of own property' 'property' 'building a property'\n",
      " 'buying a second-hand car' 'buying my own car'\n",
      " 'transactions with commercial real estate' 'building a real estate'\n",
      " 'housing' 'transactions with my real estate' 'cars' 'to become educated'\n",
      " 'second-hand car purchase' 'getting an education' 'car'\n",
      " 'wedding ceremony' 'to get a supplementary education'\n",
      " 'purchase of my own house' 'real estate transactions'\n",
      " 'getting higher education' 'to own a car' 'purchase of a car'\n",
      " 'profile education' 'university education'\n",
      " 'buying property for renting out' 'to buy a car' 'housing renovation'\n",
      " 'going to university']\n"
     ]
    }
   ],
   "source": [
    "# Exibir valores únicos\n",
    "print(df['purpose'].unique())"
   ]
  },
  {
   "cell_type": "markdown",
   "id": "31b1e9d4",
   "metadata": {
    "papermill": {
     "duration": 0.040744,
     "end_time": "2022-11-26T18:52:58.249704",
     "exception": false,
     "start_time": "2022-11-26T18:52:58.208960",
     "status": "completed"
    },
    "tags": []
   },
   "source": [
    "Com base nas características únicas da variável `purpose`, podemos observar que existem quatro categorias principais nas quais podem resumir todos os dados dessa variável. Os quatro grupos são:\n",
    "* car: clientes que desejam adquirir um carro.\t\n",
    "* house: clientes que desejam adquirir, renovar e/ou construir imóveis.\n",
    "* wedding: clientes que desejam casar-se.\n",
    "* education: clientes que desejam estudar.\n",
    "\n",
    "Faz-se necessário categorizar os dados baseados nesses grupos.\n",
    "\n",
    "[Voltar ao Índice](#back)"
   ]
  },
  {
   "cell_type": "code",
   "execution_count": 85,
   "id": "b7e836e8",
   "metadata": {
    "execution": {
     "iopub.execute_input": "2022-11-26T18:52:58.334512Z",
     "iopub.status.busy": "2022-11-26T18:52:58.333752Z",
     "iopub.status.idle": "2022-11-26T18:52:58.340998Z",
     "shell.execute_reply": "2022-11-26T18:52:58.340147Z"
    },
    "papermill": {
     "duration": 0.052562,
     "end_time": "2022-11-26T18:52:58.343281",
     "exception": false,
     "start_time": "2022-11-26T18:52:58.290719",
     "status": "completed"
    },
    "tags": []
   },
   "outputs": [],
   "source": [
    "# Função para categorizar os dados com base em tópicos comuns\n",
    "def purpose_categories(row):\n",
    "    if 'car' in row['purpose']:\n",
    "        return 'car'\n",
    "    if 'hous' in row['purpose'] or 'prop' in row['purpose'] or 'real est' in row['purpose']:\n",
    "        return 'house'\n",
    "    if 'wedd' in row['purpose']:\n",
    "        return 'wedding'\n",
    "    if 'educ' in row['purpose'] or 'uni' in row['purpose']:\n",
    "        return 'education'"
   ]
  },
  {
   "cell_type": "code",
   "execution_count": 86,
   "id": "0ae9a932",
   "metadata": {
    "execution": {
     "iopub.execute_input": "2022-11-26T18:52:58.427933Z",
     "iopub.status.busy": "2022-11-26T18:52:58.426889Z",
     "iopub.status.idle": "2022-11-26T18:52:58.874855Z",
     "shell.execute_reply": "2022-11-26T18:52:58.873725Z"
    },
    "papermill": {
     "duration": 0.493008,
     "end_time": "2022-11-26T18:52:58.877653",
     "exception": false,
     "start_time": "2022-11-26T18:52:58.384645",
     "status": "completed"
    },
    "tags": []
   },
   "outputs": [],
   "source": [
    "# Coluna com as categorias\n",
    "df['purpose_categories'] = df.apply(purpose_categories, axis=1)"
   ]
  },
  {
   "cell_type": "code",
   "execution_count": 87,
   "id": "c1be8bd3",
   "metadata": {
    "execution": {
     "iopub.execute_input": "2022-11-26T18:52:58.962702Z",
     "iopub.status.busy": "2022-11-26T18:52:58.962291Z",
     "iopub.status.idle": "2022-11-26T18:52:58.971651Z",
     "shell.execute_reply": "2022-11-26T18:52:58.970535Z"
    },
    "papermill": {
     "duration": 0.054921,
     "end_time": "2022-11-26T18:52:58.973892",
     "exception": false,
     "start_time": "2022-11-26T18:52:58.918971",
     "status": "completed"
    },
    "tags": []
   },
   "outputs": [
    {
     "data": {
      "text/plain": [
       "house        10836\n",
       "car           4314\n",
       "education     4022\n",
       "wedding       2348\n",
       "Name: purpose_categories, dtype: int64"
      ]
     },
     "execution_count": 87,
     "metadata": {},
     "output_type": "execute_result"
    }
   ],
   "source": [
    "# Examinar todos os dados numéricos em sua coluna selecionada para categorização\n",
    "df['purpose_categories'].value_counts()"
   ]
  },
  {
   "cell_type": "code",
   "execution_count": 88,
   "id": "6dc52c97",
   "metadata": {
    "execution": {
     "iopub.execute_input": "2022-11-26T18:52:59.070185Z",
     "iopub.status.busy": "2022-11-26T18:52:59.069228Z",
     "iopub.status.idle": "2022-11-26T18:52:59.085604Z",
     "shell.execute_reply": "2022-11-26T18:52:59.084502Z"
    },
    "papermill": {
     "duration": 0.06691,
     "end_time": "2022-11-26T18:52:59.088510",
     "exception": false,
     "start_time": "2022-11-26T18:52:59.021600",
     "status": "completed"
    },
    "tags": []
   },
   "outputs": [
    {
     "name": "stdout",
     "output_type": "stream",
     "text": [
      "count     21520\n",
      "unique        4\n",
      "top       house\n",
      "freq      10836\n",
      "Name: purpose_categories, dtype: object\n"
     ]
    }
   ],
   "source": [
    "# Obter estatísticas resumidas para a coluna\n",
    "print(df['purpose_categories'].describe())"
   ]
  },
  {
   "cell_type": "markdown",
   "id": "e3006903",
   "metadata": {
    "papermill": {
     "duration": 0.042904,
     "end_time": "2022-11-26T18:52:59.174824",
     "exception": false,
     "start_time": "2022-11-26T18:52:59.131920",
     "status": "completed"
    },
    "tags": []
   },
   "source": [
    "A categorização por renda será feita de acordo com os relatórios emitidos pela _Bureau of Economic Analysis_, departamento do comércio do governo norte americano.\n",
    "Temos uma divisão da renda individual, ou pessoal, da seguinte forma:\n",
    "* _rich_: clientes que estão no grupo de 1% renda mais elevadas. Quartil superior a 0.99.\n",
    "* _high middle class_: grupo de clientes no intervalo de renda entre os quartis 0.85 e 0.99.\n",
    "* _middle class_: grupo de clientes no intervalo de renda entre os quartis 0.6 e 0.85.\n",
    "* _lower middle class_: grupo de clientes no intervalo de renda entre os quartis 0.25 e 0.6.\n",
    "* _poor_: grupo de clientes com as 25% menores rendas. Quartil inferior a 0.25.\n",
    "\n",
    "[Voltar ao Índice](#back)"
   ]
  },
  {
   "cell_type": "code",
   "execution_count": 89,
   "id": "5d8c45b7",
   "metadata": {
    "execution": {
     "iopub.execute_input": "2022-11-26T18:52:59.266731Z",
     "iopub.status.busy": "2022-11-26T18:52:59.265767Z",
     "iopub.status.idle": "2022-11-26T18:52:59.503032Z",
     "shell.execute_reply": "2022-11-26T18:52:59.502191Z"
    },
    "papermill": {
     "duration": 0.284121,
     "end_time": "2022-11-26T18:52:59.505817",
     "exception": false,
     "start_time": "2022-11-26T18:52:59.221696",
     "status": "completed"
    },
    "tags": []
   },
   "outputs": [
    {
     "name": "stdout",
     "output_type": "stream",
     "text": [
      "0.10    12615.88360\n",
      "0.25    17235.89100\n",
      "0.50    23181.08500\n",
      "0.60    25707.36500\n",
      "0.85    37957.61840\n",
      "0.99    80819.03674\n",
      "Name: total_income, dtype: float64\n",
      "\n",
      "AxesSubplot(0.125,0.125;0.775x0.755)\n"
     ]
    },
    {
     "data": {
      "image/png": "[encoded data removed]",
      "text/plain": [
       "<Figure size 432x288 with 1 Axes>"
      ]
     },
     "metadata": {
      "needs_background": "light"
     },
     "output_type": "display_data"
    }
   ],
   "source": [
    "# Quartis da renda\n",
    "print(df['total_income'].quantile([0.1,0.25,0.5,0.6, 0.85,0.99]))\n",
    "print()\n",
    "print(df.boxplot(column=['total_income']))"
   ]
  },
  {
   "cell_type": "code",
   "execution_count": 90,
   "id": "7dbc1a51",
   "metadata": {
    "execution": {
     "iopub.execute_input": "2022-11-26T18:52:59.599552Z",
     "iopub.status.busy": "2022-11-26T18:52:59.598393Z",
     "iopub.status.idle": "2022-11-26T18:52:59.606214Z",
     "shell.execute_reply": "2022-11-26T18:52:59.605217Z"
    },
    "papermill": {
     "duration": 0.054083,
     "end_time": "2022-11-26T18:52:59.608586",
     "exception": false,
     "start_time": "2022-11-26T18:52:59.554503",
     "status": "completed"
    },
    "tags": []
   },
   "outputs": [],
   "source": [
    "# Função para categorização em diferentes grupos numéricos com base em intervalos\n",
    "def income_class(income):\n",
    "    if income < 17235:\n",
    "        return 'poor'\n",
    "    if (income >= 17235) and (income < 25707):\n",
    "        return 'lower middle class'\n",
    "    if (income >= 25707) and (income < 37957):\n",
    "        return 'middle class'\n",
    "    if (income >= 37957) and (income < 80819):\n",
    "        return 'high middle class'\n",
    "    if (income >= 80819):\n",
    "        return 'rich'"
   ]
  },
  {
   "cell_type": "code",
   "execution_count": 91,
   "id": "d5cf5606",
   "metadata": {
    "execution": {
     "iopub.execute_input": "2022-11-26T18:52:59.696761Z",
     "iopub.status.busy": "2022-11-26T18:52:59.695996Z",
     "iopub.status.idle": "2022-11-26T18:52:59.715905Z",
     "shell.execute_reply": "2022-11-26T18:52:59.714767Z"
    },
    "papermill": {
     "duration": 0.067241,
     "end_time": "2022-11-26T18:52:59.718590",
     "exception": false,
     "start_time": "2022-11-26T18:52:59.651349",
     "status": "completed"
    },
    "tags": []
   },
   "outputs": [],
   "source": [
    "# Coluna com categorias\n",
    "df['income_class'] = df['total_income'].apply(income_class)\n",
    "#df['purpose_categories'] = df.apply(purpose_categories, axis=1)"
   ]
  },
  {
   "cell_type": "code",
   "execution_count": 92,
   "id": "89507cae",
   "metadata": {
    "execution": {
     "iopub.execute_input": "2022-11-26T18:52:59.804788Z",
     "iopub.status.busy": "2022-11-26T18:52:59.804408Z",
     "iopub.status.idle": "2022-11-26T18:52:59.814064Z",
     "shell.execute_reply": "2022-11-26T18:52:59.812903Z"
    },
    "papermill": {
     "duration": 0.055125,
     "end_time": "2022-11-26T18:52:59.816288",
     "exception": false,
     "start_time": "2022-11-26T18:52:59.761163",
     "status": "completed"
    },
    "tags": []
   },
   "outputs": [
    {
     "data": {
      "text/plain": [
       "lower middle class    7533\n",
       "middle class          5380\n",
       "poor                  5379\n",
       "high middle class     3012\n",
       "rich                   216\n",
       "Name: income_class, dtype: int64"
      ]
     },
     "execution_count": 92,
     "metadata": {},
     "output_type": "execute_result"
    }
   ],
   "source": [
    "# Valores de cada categoria para ver a distribuição\n",
    "df['income_class'].value_counts()"
   ]
  },
  {
   "cell_type": "markdown",
   "id": "4e122860",
   "metadata": {
    "papermill": {
     "duration": 0.042448,
     "end_time": "2022-11-26T18:52:59.901139",
     "exception": false,
     "start_time": "2022-11-26T18:52:59.858691",
     "status": "completed"
    },
    "tags": []
   },
   "source": [
    "## 5. Verificar as Hipóteses <a id='5'></a>\n",
    "\n",
    "**Existe uma correlação entre a quantidade de filhos e do pagamento em dia?**\n",
    "\n",
    "[Voltar ao Índice](#back)"
   ]
  },
  {
   "cell_type": "code",
   "execution_count": 93,
   "id": "231be542",
   "metadata": {
    "execution": {
     "iopub.execute_input": "2022-11-26T18:52:59.996211Z",
     "iopub.status.busy": "2022-11-26T18:52:59.995593Z",
     "iopub.status.idle": "2022-11-26T18:53:00.008661Z",
     "shell.execute_reply": "2022-11-26T18:53:00.007101Z"
    },
    "papermill": {
     "duration": 0.066999,
     "end_time": "2022-11-26T18:53:00.011448",
     "exception": false,
     "start_time": "2022-11-26T18:52:59.944449",
     "status": "completed"
    },
    "tags": []
   },
   "outputs": [
    {
     "name": "stdout",
     "output_type": "stream",
     "text": [
      "children  parents\n",
      "0         0          1063\n",
      "1         1           444\n",
      "2         1           201\n",
      "3         1            27\n",
      "4         1             4\n",
      "5         1             0\n",
      "Name: debt, dtype: int64\n",
      "***********************************\n",
      "children  parents\n",
      "0         0          14146\n",
      "1         1           4864\n",
      "2         1           2130\n",
      "3         1            330\n",
      "4         1             41\n",
      "5         1              9\n",
      "Name: debt, dtype: int64\n"
     ]
    }
   ],
   "source": [
    "# Verificar os dados das crianças e do pagamento em dia\n",
    "print(df.groupby(['children', 'parents'])['debt'].sum())\n",
    "print('*'*35)\n",
    "print(df.groupby(['children', 'parents'])['debt'].count())"
   ]
  },
  {
   "cell_type": "code",
   "execution_count": 94,
   "id": "5a440934",
   "metadata": {
    "execution": {
     "iopub.execute_input": "2022-11-26T18:53:00.104131Z",
     "iopub.status.busy": "2022-11-26T18:53:00.103445Z",
     "iopub.status.idle": "2022-11-26T18:53:00.132785Z",
     "shell.execute_reply": "2022-11-26T18:53:00.131587Z"
    },
    "papermill": {
     "duration": 0.077435,
     "end_time": "2022-11-26T18:53:00.135131",
     "exception": false,
     "start_time": "2022-11-26T18:53:00.057696",
     "status": "completed"
    },
    "tags": []
   },
   "outputs": [
    {
     "data": {
      "text/html": [
       "<div>\n",
       "<style scoped>\n",
       "    .dataframe tbody tr th:only-of-type {\n",
       "        vertical-align: middle;\n",
       "    }\n",
       "\n",
       "    .dataframe tbody tr th {\n",
       "        vertical-align: top;\n",
       "    }\n",
       "\n",
       "    .dataframe thead th {\n",
       "        text-align: right;\n",
       "    }\n",
       "</style>\n",
       "<table border=\"1\" class=\"dataframe\">\n",
       "  <thead>\n",
       "    <tr style=\"text-align: right;\">\n",
       "      <th>debt</th>\n",
       "      <th>0</th>\n",
       "      <th>1</th>\n",
       "      <th>defaulter_percent</th>\n",
       "    </tr>\n",
       "    <tr>\n",
       "      <th>children</th>\n",
       "      <th></th>\n",
       "      <th></th>\n",
       "      <th></th>\n",
       "    </tr>\n",
       "  </thead>\n",
       "  <tbody>\n",
       "    <tr>\n",
       "      <th>0</th>\n",
       "      <td>13083.0</td>\n",
       "      <td>1063.0</td>\n",
       "      <td>7.514492</td>\n",
       "    </tr>\n",
       "    <tr>\n",
       "      <th>3</th>\n",
       "      <td>303.0</td>\n",
       "      <td>27.0</td>\n",
       "      <td>8.181818</td>\n",
       "    </tr>\n",
       "    <tr>\n",
       "      <th>1</th>\n",
       "      <td>4420.0</td>\n",
       "      <td>444.0</td>\n",
       "      <td>9.128289</td>\n",
       "    </tr>\n",
       "    <tr>\n",
       "      <th>2</th>\n",
       "      <td>1929.0</td>\n",
       "      <td>201.0</td>\n",
       "      <td>9.436620</td>\n",
       "    </tr>\n",
       "    <tr>\n",
       "      <th>4</th>\n",
       "      <td>37.0</td>\n",
       "      <td>4.0</td>\n",
       "      <td>9.756098</td>\n",
       "    </tr>\n",
       "    <tr>\n",
       "      <th>5</th>\n",
       "      <td>9.0</td>\n",
       "      <td>NaN</td>\n",
       "      <td>NaN</td>\n",
       "    </tr>\n",
       "  </tbody>\n",
       "</table>\n",
       "</div>"
      ],
      "text/plain": [
       "debt            0       1  defaulter_percent\n",
       "children                                    \n",
       "0         13083.0  1063.0           7.514492\n",
       "3           303.0    27.0           8.181818\n",
       "1          4420.0   444.0           9.128289\n",
       "2          1929.0   201.0           9.436620\n",
       "4            37.0     4.0           9.756098\n",
       "5             9.0     NaN                NaN"
      ]
     },
     "execution_count": 94,
     "metadata": {},
     "output_type": "execute_result"
    }
   ],
   "source": [
    "# Tabela com informações baseadas em \"children\"\n",
    "pivot_children = df.pivot_table(index='children', columns='debt', values='days_employed', aggfunc='count')\n",
    "pivot_children['defaulter_percent'] = pivot_children[1] / (pivot_children[1] + pivot_children[0])*100\n",
    "pivot_children.sort_values(by='defaulter_percent')"
   ]
  },
  {
   "cell_type": "code",
   "execution_count": 95,
   "id": "0e92d7b6",
   "metadata": {
    "execution": {
     "iopub.execute_input": "2022-11-26T18:53:00.223292Z",
     "iopub.status.busy": "2022-11-26T18:53:00.222150Z",
     "iopub.status.idle": "2022-11-26T18:53:00.244517Z",
     "shell.execute_reply": "2022-11-26T18:53:00.243360Z"
    },
    "papermill": {
     "duration": 0.068655,
     "end_time": "2022-11-26T18:53:00.246874",
     "exception": false,
     "start_time": "2022-11-26T18:53:00.178219",
     "status": "completed"
    },
    "tags": []
   },
   "outputs": [
    {
     "data": {
      "text/html": [
       "<div>\n",
       "<style scoped>\n",
       "    .dataframe tbody tr th:only-of-type {\n",
       "        vertical-align: middle;\n",
       "    }\n",
       "\n",
       "    .dataframe tbody tr th {\n",
       "        vertical-align: top;\n",
       "    }\n",
       "\n",
       "    .dataframe thead th {\n",
       "        text-align: right;\n",
       "    }\n",
       "</style>\n",
       "<table border=\"1\" class=\"dataframe\">\n",
       "  <thead>\n",
       "    <tr style=\"text-align: right;\">\n",
       "      <th>debt</th>\n",
       "      <th>0</th>\n",
       "      <th>1</th>\n",
       "      <th>defaulter_percent</th>\n",
       "    </tr>\n",
       "    <tr>\n",
       "      <th>parents</th>\n",
       "      <th></th>\n",
       "      <th></th>\n",
       "      <th></th>\n",
       "    </tr>\n",
       "  </thead>\n",
       "  <tbody>\n",
       "    <tr>\n",
       "      <th>0</th>\n",
       "      <td>13083</td>\n",
       "      <td>1063</td>\n",
       "      <td>7.514492</td>\n",
       "    </tr>\n",
       "    <tr>\n",
       "      <th>1</th>\n",
       "      <td>6698</td>\n",
       "      <td>676</td>\n",
       "      <td>9.167345</td>\n",
       "    </tr>\n",
       "  </tbody>\n",
       "</table>\n",
       "</div>"
      ],
      "text/plain": [
       "debt         0     1  defaulter_percent\n",
       "parents                                \n",
       "0        13083  1063           7.514492\n",
       "1         6698   676           9.167345"
      ]
     },
     "execution_count": 95,
     "metadata": {},
     "output_type": "execute_result"
    }
   ],
   "source": [
    "# Tabela com informações baseadas em \"parents\"\n",
    "pivot_parents = df.pivot_table(index='parents', columns='debt', values='days_employed', aggfunc='count')\n",
    "pivot_parents['defaulter_percent'] = pivot_parents[1] / (pivot_parents[1] + pivot_parents[0])*100\n",
    "pivot_parents.sort_values(by='defaulter_percent')"
   ]
  },
  {
   "cell_type": "markdown",
   "id": "ea68e4af",
   "metadata": {
    "papermill": {
     "duration": 0.042172,
     "end_time": "2022-11-26T18:53:00.331465",
     "exception": false,
     "start_time": "2022-11-26T18:53:00.289293",
     "status": "completed"
    },
    "tags": []
   },
   "source": [
    "**Conclusão**\n",
    "\n",
    "De acordo com os dados, não ter filhos aumentam ligeiramente suas chances de ser um bom adimplente. A quantidade de filhos não parece influenciar de forma significativa a inadimplência.\n",
    "\n",
    "[Voltar ao Índice](#back)"
   ]
  },
  {
   "cell_type": "markdown",
   "id": "568d1e25",
   "metadata": {
    "papermill": {
     "duration": 0.042546,
     "end_time": "2022-11-26T18:53:00.416881",
     "exception": false,
     "start_time": "2022-11-26T18:53:00.374335",
     "status": "completed"
    },
    "tags": []
   },
   "source": [
    "**Existe uma correlação entre o status familiar e o pagamento em dia?**"
   ]
  },
  {
   "cell_type": "code",
   "execution_count": 96,
   "id": "ae03508f",
   "metadata": {
    "execution": {
     "iopub.execute_input": "2022-11-26T18:53:00.504784Z",
     "iopub.status.busy": "2022-11-26T18:53:00.503987Z",
     "iopub.status.idle": "2022-11-26T18:53:00.518980Z",
     "shell.execute_reply": "2022-11-26T18:53:00.517374Z"
    },
    "papermill": {
     "duration": 0.061618,
     "end_time": "2022-11-26T18:53:00.521467",
     "exception": false,
     "start_time": "2022-11-26T18:53:00.459849",
     "status": "completed"
    },
    "tags": []
   },
   "outputs": [
    {
     "name": "stdout",
     "output_type": "stream",
     "text": [
      "family_status\n",
      "civil partnership    388\n",
      "divorced              85\n",
      "married              929\n",
      "unmarried            274\n",
      "widow / widower       63\n",
      "Name: debt, dtype: int64\n",
      "***********************************\n",
      "family_status\n",
      "civil partnership     4175\n",
      "divorced              1195\n",
      "married              12378\n",
      "unmarried             2812\n",
      "widow / widower        960\n",
      "Name: debt, dtype: int64\n"
     ]
    }
   ],
   "source": [
    "# Verificar os dados de status da família e do pagamento em dia\n",
    "print(df.groupby('family_status')['debt'].sum())\n",
    "print('*'*35)\n",
    "print(df.groupby('family_status')['debt'].count())"
   ]
  },
  {
   "cell_type": "code",
   "execution_count": 97,
   "id": "1e10a46b",
   "metadata": {
    "execution": {
     "iopub.execute_input": "2022-11-26T18:53:00.632846Z",
     "iopub.status.busy": "2022-11-26T18:53:00.632044Z",
     "iopub.status.idle": "2022-11-26T18:53:00.659643Z",
     "shell.execute_reply": "2022-11-26T18:53:00.657381Z"
    },
    "papermill": {
     "duration": 0.091091,
     "end_time": "2022-11-26T18:53:00.662938",
     "exception": false,
     "start_time": "2022-11-26T18:53:00.571847",
     "status": "completed"
    },
    "tags": []
   },
   "outputs": [
    {
     "data": {
      "text/html": [
       "<div>\n",
       "<style scoped>\n",
       "    .dataframe tbody tr th:only-of-type {\n",
       "        vertical-align: middle;\n",
       "    }\n",
       "\n",
       "    .dataframe tbody tr th {\n",
       "        vertical-align: top;\n",
       "    }\n",
       "\n",
       "    .dataframe thead th {\n",
       "        text-align: right;\n",
       "    }\n",
       "</style>\n",
       "<table border=\"1\" class=\"dataframe\">\n",
       "  <thead>\n",
       "    <tr style=\"text-align: right;\">\n",
       "      <th>debt</th>\n",
       "      <th>0</th>\n",
       "      <th>1</th>\n",
       "      <th>defaulter_percent</th>\n",
       "    </tr>\n",
       "    <tr>\n",
       "      <th>family_status</th>\n",
       "      <th></th>\n",
       "      <th></th>\n",
       "      <th></th>\n",
       "    </tr>\n",
       "  </thead>\n",
       "  <tbody>\n",
       "    <tr>\n",
       "      <th>widow / widower</th>\n",
       "      <td>897</td>\n",
       "      <td>63</td>\n",
       "      <td>6.562500</td>\n",
       "    </tr>\n",
       "    <tr>\n",
       "      <th>divorced</th>\n",
       "      <td>1110</td>\n",
       "      <td>85</td>\n",
       "      <td>7.112971</td>\n",
       "    </tr>\n",
       "    <tr>\n",
       "      <th>married</th>\n",
       "      <td>11449</td>\n",
       "      <td>929</td>\n",
       "      <td>7.505251</td>\n",
       "    </tr>\n",
       "    <tr>\n",
       "      <th>civil partnership</th>\n",
       "      <td>3787</td>\n",
       "      <td>388</td>\n",
       "      <td>9.293413</td>\n",
       "    </tr>\n",
       "    <tr>\n",
       "      <th>unmarried</th>\n",
       "      <td>2538</td>\n",
       "      <td>274</td>\n",
       "      <td>9.743954</td>\n",
       "    </tr>\n",
       "  </tbody>\n",
       "</table>\n",
       "</div>"
      ],
      "text/plain": [
       "debt                   0    1  defaulter_percent\n",
       "family_status                                   \n",
       "widow / widower      897   63           6.562500\n",
       "divorced            1110   85           7.112971\n",
       "married            11449  929           7.505251\n",
       "civil partnership   3787  388           9.293413\n",
       "unmarried           2538  274           9.743954"
      ]
     },
     "execution_count": 97,
     "metadata": {},
     "output_type": "execute_result"
    }
   ],
   "source": [
    "# Tabela com informações baseadas em \"family_status\"\n",
    "pivot_status = df.pivot_table(index='family_status', columns='debt', values='days_employed', aggfunc='count')\n",
    "pivot_status['defaulter_percent'] = pivot_status[1] / (pivot_status[1] + pivot_status[0])*100\n",
    "pivot_status.sort_values(by='defaulter_percent')"
   ]
  },
  {
   "cell_type": "markdown",
   "id": "7048270d",
   "metadata": {
    "papermill": {
     "duration": 0.044208,
     "end_time": "2022-11-26T18:53:00.753052",
     "exception": false,
     "start_time": "2022-11-26T18:53:00.708844",
     "status": "completed"
    },
    "tags": []
   },
   "source": [
    "**Conclusão**\n",
    "\n",
    "Pessoas solteiras possuem uma propensão ligeiramente superior de inadimplência quando comparamos às pessoas casadas. Viúvos(as) são os que possuem menores índices de inadimplência.\n",
    "\n",
    "[Voltar ao Índice](#back)"
   ]
  },
  {
   "cell_type": "markdown",
   "id": "e93b6083",
   "metadata": {
    "papermill": {
     "duration": 0.042892,
     "end_time": "2022-11-26T18:53:00.839216",
     "exception": false,
     "start_time": "2022-11-26T18:53:00.796324",
     "status": "completed"
    },
    "tags": []
   },
   "source": [
    "**Existe uma correlação entre o nível de renda e o pagamento em dia?**"
   ]
  },
  {
   "cell_type": "code",
   "execution_count": 98,
   "id": "dafcfdc9",
   "metadata": {
    "execution": {
     "iopub.execute_input": "2022-11-26T18:53:00.932291Z",
     "iopub.status.busy": "2022-11-26T18:53:00.931535Z",
     "iopub.status.idle": "2022-11-26T18:53:00.946205Z",
     "shell.execute_reply": "2022-11-26T18:53:00.944536Z"
    },
    "papermill": {
     "duration": 0.063946,
     "end_time": "2022-11-26T18:53:00.948501",
     "exception": false,
     "start_time": "2022-11-26T18:53:00.884555",
     "status": "completed"
    },
    "tags": []
   },
   "outputs": [
    {
     "name": "stdout",
     "output_type": "stream",
     "text": [
      "income_class\n",
      "high middle class     212\n",
      "lower middle class    652\n",
      "middle class          436\n",
      "poor                  425\n",
      "rich                   14\n",
      "Name: debt, dtype: int64\n",
      "***********************************\n",
      "income_class\n",
      "high middle class     3012\n",
      "lower middle class    7533\n",
      "middle class          5380\n",
      "poor                  5379\n",
      "rich                   216\n",
      "Name: debt, dtype: int64\n"
     ]
    }
   ],
   "source": [
    "# Verificar os dados do nível de renda e do pagamento em dia\n",
    "print(df.groupby('income_class')['debt'].sum())\n",
    "print('*'*35)\n",
    "print(df.groupby('income_class')['debt'].count())"
   ]
  },
  {
   "cell_type": "code",
   "execution_count": 99,
   "id": "16ff5a86",
   "metadata": {
    "execution": {
     "iopub.execute_input": "2022-11-26T18:53:01.039631Z",
     "iopub.status.busy": "2022-11-26T18:53:01.038455Z",
     "iopub.status.idle": "2022-11-26T18:53:01.066672Z",
     "shell.execute_reply": "2022-11-26T18:53:01.065364Z"
    },
    "papermill": {
     "duration": 0.075411,
     "end_time": "2022-11-26T18:53:01.069186",
     "exception": false,
     "start_time": "2022-11-26T18:53:00.993775",
     "status": "completed"
    },
    "tags": []
   },
   "outputs": [
    {
     "data": {
      "text/html": [
       "<div>\n",
       "<style scoped>\n",
       "    .dataframe tbody tr th:only-of-type {\n",
       "        vertical-align: middle;\n",
       "    }\n",
       "\n",
       "    .dataframe tbody tr th {\n",
       "        vertical-align: top;\n",
       "    }\n",
       "\n",
       "    .dataframe thead th {\n",
       "        text-align: right;\n",
       "    }\n",
       "</style>\n",
       "<table border=\"1\" class=\"dataframe\">\n",
       "  <thead>\n",
       "    <tr style=\"text-align: right;\">\n",
       "      <th>debt</th>\n",
       "      <th>0</th>\n",
       "      <th>1</th>\n",
       "      <th>defaulter_percent</th>\n",
       "    </tr>\n",
       "    <tr>\n",
       "      <th>income_class</th>\n",
       "      <th></th>\n",
       "      <th></th>\n",
       "      <th></th>\n",
       "    </tr>\n",
       "  </thead>\n",
       "  <tbody>\n",
       "    <tr>\n",
       "      <th>rich</th>\n",
       "      <td>202</td>\n",
       "      <td>14</td>\n",
       "      <td>6.481481</td>\n",
       "    </tr>\n",
       "    <tr>\n",
       "      <th>high middle class</th>\n",
       "      <td>2800</td>\n",
       "      <td>212</td>\n",
       "      <td>7.038513</td>\n",
       "    </tr>\n",
       "    <tr>\n",
       "      <th>poor</th>\n",
       "      <td>4954</td>\n",
       "      <td>425</td>\n",
       "      <td>7.901097</td>\n",
       "    </tr>\n",
       "    <tr>\n",
       "      <th>middle class</th>\n",
       "      <td>4944</td>\n",
       "      <td>436</td>\n",
       "      <td>8.104089</td>\n",
       "    </tr>\n",
       "    <tr>\n",
       "      <th>lower middle class</th>\n",
       "      <td>6881</td>\n",
       "      <td>652</td>\n",
       "      <td>8.655250</td>\n",
       "    </tr>\n",
       "  </tbody>\n",
       "</table>\n",
       "</div>"
      ],
      "text/plain": [
       "debt                   0    1  defaulter_percent\n",
       "income_class                                    \n",
       "rich                 202   14           6.481481\n",
       "high middle class   2800  212           7.038513\n",
       "poor                4954  425           7.901097\n",
       "middle class        4944  436           8.104089\n",
       "lower middle class  6881  652           8.655250"
      ]
     },
     "execution_count": 99,
     "metadata": {},
     "output_type": "execute_result"
    }
   ],
   "source": [
    "# Tabela com informações baseadas em \"income_class\"\n",
    "pivot_class = df.pivot_table(index='income_class', columns='debt', values='days_employed', aggfunc='count')\n",
    "pivot_class['defaulter_percent'] = pivot_class[1] / (pivot_class[1] + pivot_class[0])*100\n",
    "pivot_class.sort_values(by='defaulter_percent')"
   ]
  },
  {
   "cell_type": "markdown",
   "id": "d246bde8",
   "metadata": {
    "papermill": {
     "duration": 0.043684,
     "end_time": "2022-11-26T18:53:01.157789",
     "exception": false,
     "start_time": "2022-11-26T18:53:01.114105",
     "status": "completed"
    },
    "tags": []
   },
   "source": [
    "**Conclusão**\n",
    "\n",
    "Conforme a divisão de classes em `total_income` que produziu a variável `income_class`, temos que o nível de inadimplência não varia tanto entre as classes. Apesar dos ricos e da classe média alta estarem com os melhores índices de adimplência.\n",
    "\n",
    "[Voltar ao Índice](#back)"
   ]
  },
  {
   "cell_type": "markdown",
   "id": "6d3360f2",
   "metadata": {
    "papermill": {
     "duration": 0.043026,
     "end_time": "2022-11-26T18:53:01.244661",
     "exception": false,
     "start_time": "2022-11-26T18:53:01.201635",
     "status": "completed"
    },
    "tags": []
   },
   "source": [
    "**Como a finalidade do crédito afeta a taxa de inadimplência?**"
   ]
  },
  {
   "cell_type": "code",
   "execution_count": 100,
   "id": "766d054a",
   "metadata": {
    "execution": {
     "iopub.execute_input": "2022-11-26T18:53:01.334833Z",
     "iopub.status.busy": "2022-11-26T18:53:01.334024Z",
     "iopub.status.idle": "2022-11-26T18:53:01.348437Z",
     "shell.execute_reply": "2022-11-26T18:53:01.347258Z"
    },
    "papermill": {
     "duration": 0.061967,
     "end_time": "2022-11-26T18:53:01.350756",
     "exception": false,
     "start_time": "2022-11-26T18:53:01.288789",
     "status": "completed"
    },
    "tags": []
   },
   "outputs": [
    {
     "name": "stdout",
     "output_type": "stream",
     "text": [
      "purpose_categories\n",
      "car          402\n",
      "education    370\n",
      "house        781\n",
      "wedding      186\n",
      "Name: debt, dtype: int64\n",
      "***********************************\n",
      "purpose_categories\n",
      "car           4314\n",
      "education     4022\n",
      "house        10836\n",
      "wedding       2348\n",
      "Name: debt, dtype: int64\n"
     ]
    }
   ],
   "source": [
    "# Verificar os dados da finalidade de crédito e do pagamento em dia\n",
    "print(df.groupby('purpose_categories')['debt'].sum())\n",
    "print('*'*35)\n",
    "print(df.groupby('purpose_categories')['debt'].count())"
   ]
  },
  {
   "cell_type": "code",
   "execution_count": 101,
   "id": "13e0dad0",
   "metadata": {
    "execution": {
     "iopub.execute_input": "2022-11-26T18:53:01.441798Z",
     "iopub.status.busy": "2022-11-26T18:53:01.441340Z",
     "iopub.status.idle": "2022-11-26T18:53:01.468638Z",
     "shell.execute_reply": "2022-11-26T18:53:01.467343Z"
    },
    "papermill": {
     "duration": 0.075745,
     "end_time": "2022-11-26T18:53:01.471463",
     "exception": false,
     "start_time": "2022-11-26T18:53:01.395718",
     "status": "completed"
    },
    "tags": []
   },
   "outputs": [
    {
     "data": {
      "text/html": [
       "<div>\n",
       "<style scoped>\n",
       "    .dataframe tbody tr th:only-of-type {\n",
       "        vertical-align: middle;\n",
       "    }\n",
       "\n",
       "    .dataframe tbody tr th {\n",
       "        vertical-align: top;\n",
       "    }\n",
       "\n",
       "    .dataframe thead th {\n",
       "        text-align: right;\n",
       "    }\n",
       "</style>\n",
       "<table border=\"1\" class=\"dataframe\">\n",
       "  <thead>\n",
       "    <tr style=\"text-align: right;\">\n",
       "      <th>debt</th>\n",
       "      <th>0</th>\n",
       "      <th>1</th>\n",
       "      <th>defaulter_percent</th>\n",
       "    </tr>\n",
       "    <tr>\n",
       "      <th>purpose_categories</th>\n",
       "      <th></th>\n",
       "      <th></th>\n",
       "      <th></th>\n",
       "    </tr>\n",
       "  </thead>\n",
       "  <tbody>\n",
       "    <tr>\n",
       "      <th>house</th>\n",
       "      <td>10055</td>\n",
       "      <td>781</td>\n",
       "      <td>7.207457</td>\n",
       "    </tr>\n",
       "    <tr>\n",
       "      <th>wedding</th>\n",
       "      <td>2162</td>\n",
       "      <td>186</td>\n",
       "      <td>7.921635</td>\n",
       "    </tr>\n",
       "    <tr>\n",
       "      <th>education</th>\n",
       "      <td>3652</td>\n",
       "      <td>370</td>\n",
       "      <td>9.199403</td>\n",
       "    </tr>\n",
       "    <tr>\n",
       "      <th>car</th>\n",
       "      <td>3912</td>\n",
       "      <td>402</td>\n",
       "      <td>9.318498</td>\n",
       "    </tr>\n",
       "  </tbody>\n",
       "</table>\n",
       "</div>"
      ],
      "text/plain": [
       "debt                    0    1  defaulter_percent\n",
       "purpose_categories                               \n",
       "house               10055  781           7.207457\n",
       "wedding              2162  186           7.921635\n",
       "education            3652  370           9.199403\n",
       "car                  3912  402           9.318498"
      ]
     },
     "execution_count": 101,
     "metadata": {},
     "output_type": "execute_result"
    }
   ],
   "source": [
    "# Tabela com informações baseadas em \"purpose_categories\"\n",
    "pivot_purpose = df.pivot_table(index='purpose_categories', columns='debt', values='days_employed', aggfunc='count')\n",
    "pivot_purpose['defaulter_percent'] = pivot_purpose[1] / (pivot_purpose[1] + pivot_purpose[0])*100\n",
    "pivot_purpose.sort_values(by='defaulter_percent')"
   ]
  },
  {
   "cell_type": "markdown",
   "id": "fd028a14",
   "metadata": {
    "papermill": {
     "duration": 0.046209,
     "end_time": "2022-11-26T18:53:01.565351",
     "exception": false,
     "start_time": "2022-11-26T18:53:01.519142",
     "status": "completed"
    },
    "tags": []
   },
   "source": [
    "**Conclusão**\n",
    "\n",
    "Os empréstimos com finalidade imobiliária, em sua maioria para aquisição de imóvel, possuem as menores taxas de inadimplência do conjunto de dados. Isso deve-se a garantia de crédito vinculada aos empréstimos imobiliários, uma vez que os imóveis podem ser liquidados para quitação desses mesmos empréstimos.\n",
    "\n",
    "Porém, os empréstimos com finalidade de adquirir carros são os com maiores taxas de inadimplência, apesar da garantia do crédito ser o próprio carro, há uma depreciação enorme sobre o valor do bem, que muitas vezes mesmo após a liquidação do veículo, o dinheiro remanescente ainda é inferior ao saldo devedor do empréstimo contratado.\n",
    "\n",
    "Empréstimos para educação e casamento não possuem garantias associadas, porém, este último, geralmente conta com a renda de duas pessoas para pagar as parcelas do empréstimo. Deixando assim, os empréstimos para educação com um dos índices mais altos de inadimplência junto com os empréstimos para aquisição de carros.\n",
    "\n",
    "[Voltar ao Índice](#back)"
   ]
  },
  {
   "cell_type": "code",
   "execution_count": 102,
   "id": "9115825b",
   "metadata": {
    "execution": {
     "iopub.execute_input": "2022-11-26T18:53:01.662330Z",
     "iopub.status.busy": "2022-11-26T18:53:01.661661Z",
     "iopub.status.idle": "2022-11-26T18:53:01.683865Z",
     "shell.execute_reply": "2022-11-26T18:53:01.682467Z"
    },
    "papermill": {
     "duration": 0.073757,
     "end_time": "2022-11-26T18:53:01.686402",
     "exception": false,
     "start_time": "2022-11-26T18:53:01.612645",
     "status": "completed"
    },
    "tags": []
   },
   "outputs": [
    {
     "name": "stdout",
     "output_type": "stream",
     "text": [
      "<class 'pandas.core.frame.DataFrame'>\n",
      "Int64Index: 21520 entries, 0 to 21524\n",
      "Data columns (total 16 columns):\n",
      " #   Column              Non-Null Count  Dtype  \n",
      "---  ------              --------------  -----  \n",
      " 0   children            21520 non-null  int64  \n",
      " 1   days_employed       21520 non-null  int64  \n",
      " 2   dob_years           21520 non-null  int64  \n",
      " 3   education           21520 non-null  object \n",
      " 4   education_id        21520 non-null  int64  \n",
      " 5   family_status       21520 non-null  object \n",
      " 6   family_status_id    21520 non-null  int64  \n",
      " 7   gender              21520 non-null  object \n",
      " 8   income_type         21520 non-null  object \n",
      " 9   debt                21520 non-null  int64  \n",
      " 10  total_income        21520 non-null  float64\n",
      " 11  purpose             21520 non-null  object \n",
      " 12  age_group           21520 non-null  object \n",
      " 13  parents             21520 non-null  int64  \n",
      " 14  purpose_categories  21520 non-null  object \n",
      " 15  income_class        21520 non-null  object \n",
      "dtypes: float64(1), int64(7), object(8)\n",
      "memory usage: 2.8+ MB\n"
     ]
    }
   ],
   "source": [
    "df.info()"
   ]
  },
  {
   "cell_type": "markdown",
   "id": "feed5c0a",
   "metadata": {
    "papermill": {
     "duration": 0.046159,
     "end_time": "2022-11-26T18:53:01.780552",
     "exception": false,
     "start_time": "2022-11-26T18:53:01.734393",
     "status": "completed"
    },
    "tags": []
   },
   "source": [
    "## 6. Conclusão Geral <a id='6'></a>\n",
    "\n",
    "Primeiramente foi iniciada a exploração dos dados, no qual foi possível ver os dados discrepantes e perceber a ausência de alguns valores nas variáveis. Após essa análise superficial, foi elencado as principais alterações que deveriam ser realizadas nas varáveis para que se consiga responder as questões propostas.\n",
    "\n",
    "Ausência de valores, valores negativos, valores extremos e duplicatas explícitas e implícitas foram alguns dos problemas encontrados. Algumas suposições foram criadas, como por exemplo que os valores com idade igual a zero deviam ser por tratar-se de clientes que ainda não tinham atingido um ano de vida, porém conforme avançava na análise, entendeu-se que outras variáveis não corroboravam com a ideia inicial, como o fato desse cliente ter filho ou ser formado, por exemplo.\n",
    "\n",
    "Os valores ausentes estavam concentrados e correlacionados com as variáveis de renda e dias de trabalho, possuíam as mesmas linhas com valores ausentes. Como esses valores ausentes correspondiam a 10.09% dos dados, decidiu-se por preenchê-los. Os valores ausentes não possuíam um padrão observável para sua existência na base de dados.\n",
    "\n",
    "Os valores negativos foram tratados como valores absolutos, pois não há como tratar filhos negativos ou dias trabalhados negativos.\n",
    "\n",
    "Em `days_employed` temos valores ausentes, números extremos — dias de trabalho que superam os dias de vida dos clientes —, bem como números negativos (não há dias trabalhados negativos). Esse percentual de valores negativos atinge 73.9% dos dados em dias trabalhados. Já a porcentagem de dias trabalhados que superam a idade do cliente é 16.00%.\n",
    "\n",
    "Foi verificado que os clientes com informações de dias trabalhados que superam seus dias de vida estão concentrados, em sua totalidade, no grupo `retiree`. Foi utilizado a fórmula (`dob_years` - 18)*365 para substituir esses valores, baseados nos critérios do mercado de trabalho norte americano.\n",
    "\n",
    "As 71 linhas duplicadas não foram tratadas por não haver indicações nos dados de que realmente os dados são dos mesmos clientes, uma vez que não temos um id_client.\n",
    "\n",
    "Para manipular dados e responder as questões propostas, fez-se necessário categorizar a idade dos clientes em grupos. A categorização na motivação para conseguir empréstimo também foi realizada, já que havia duplicatas implícitas na variável `purpose`. Grupo de classes sociais foi categorizado e criado através da variável de renda, segundo os critérios da _Bureau of Economic Analysis_.\n",
    "\n",
    "As variáveis que representam o tipo de trabalho `income_type`, nível educacional `education` e gênero `gender` influenciam a renda do indivíduo e foram utilizadas para preencher os valores ausentes em `total_income`.\n",
    "\n",
    "Como a variável `total_income` possui valores com grande variação entre mínimo e máximo, a literatura sugere a utilização da mediana para atenuar os valores extremos. A média ficaria muito influenciada por esses valores discrepantes.\n",
    "\n",
    "Grupo de idade, gênero e tipo de renda foram utilizados para preencher os valores ausentes em dias de trabalho `days_employed`.\n",
    "\n",
    "As principais conclusões foram:\n",
    "\n",
    "* Existe uma correlação entre a quantidade de filhos e do pagamento em dia?\n",
    "De acordo com os dados, não ter filhos aumentam ligeiramente suas chances de ser um bom adimplente. A quantidade de filhos não parece influenciar de forma significativa a inadimplência.\n",
    "\n",
    "* Existe uma correlação entre o status familiar e o pagamento em dia?\n",
    "Pessoas solteiras possuem uma propensão ligeiramente superior de inadimplência quando comparamos às pessoas casadas. Viúvos(as) são os que possuem menores índices de inadimplência.\n",
    "\n",
    "* Existe uma correlação entre o nível de renda e o pagamento em dia?\n",
    "Conforme a divisão de classes em `total_income` que produziu a variável `income_class`, temos que o nível de inadiplência não varia tanto entre as classes. Apesar dos ricos e da classe média alta estarem com os melhores índices de adimplência.\n",
    "\n",
    "* Como a finalidade do crédito afeta a taxa de inadimplência?\n",
    "Os empréstimos com finalidade imobiliária, em sua maioria para aquisição de imóvel, possuem as menores taxas de inadimplência do conjunto de dados. Isso deve-se a garantia de crédito vinculada aos empréstimos imobiliários, uma vez que os imóveis podem ser liquidados para quitação desses mesmos empréstimos.\n",
    "\n",
    "Porém, os empréstimos com finalidade de adquirir carros são os com maiores taxas de inadimplência, apesar da garantia do crédito ser o próprio carro, há uma depreciação enorme sobre o valor do bem, que muitas vezes mesmo após a liquidação do veículo, o dinheiro remanescente ainda é inferior ao saldo devedor do empréstimo contratado.\n",
    "\n",
    "Empréstimos para educação e casamento não possuem garantias associadas, porém, este último, geralmente conta com a renda de duas pessoas para pagar as parcelas do empréstimo. Deixando assim, os empréstimos para educação com um dos índices mais altos de inadimplência junto com os empréstimos para aquisição de carros.\n",
    "\n",
    "[Voltar ao Índice](#back)\n"
   ]
  },
  {
   "cell_type": "markdown",
   "id": "c32f140e",
   "metadata": {
    "papermill": {
     "duration": 0.045211,
     "end_time": "2022-11-26T18:53:01.871467",
     "exception": false,
     "start_time": "2022-11-26T18:53:01.826256",
     "status": "completed"
    },
    "tags": []
   },
   "source": [
    "## 7. REFERÊNCIAS <a id='end'></a>\n",
    "\n",
    "* Bureau of Economic Analysis: Acesso em 20 de novmebro de 2022, em https://www.bea.gov/news/2022/personal-income-and-outlays-september-2022\n",
    "\n",
    "* Center for Disease Control and Prevention: Acesso em 19 de novembro de 2022, em https://www.cdc.gov/nchs/hus/sources-definitions/marital-status.htm\n",
    "\n",
    "* Statistique Canada: Acesso em 20 de nomvembro de 2022, em https://www.statcan.gc.ca/en/concepts/definitions/age2\n",
    "\n"
   ]
  },
  {
   "cell_type": "code",
   "execution_count": null,
   "id": "dca7856c",
   "metadata": {
    "papermill": {
     "duration": 0.046828,
     "end_time": "2022-11-26T18:53:01.964679",
     "exception": false,
     "start_time": "2022-11-26T18:53:01.917851",
     "status": "completed"
    },
    "tags": []
   },
   "outputs": [],
   "source": []
  }
 ],
 "metadata": {
  "kernelspec": {
   "display_name": "Python 3",
   "language": "python",
   "name": "python3"
  },
  "language_info": {
   "codemirror_mode": {
    "name": "ipython",
    "version": 3
   },
   "file_extension": ".py",
   "mimetype": "text/x-python",
   "name": "python",
   "nbconvert_exporter": "python",
   "pygments_lexer": "ipython3",
   "version": "3.7.12"
  },
  "papermill": {
   "default_parameters": {},
   "duration": 25.419518,
   "end_time": "2022-11-26T18:53:02.734378",
   "environment_variables": {},
   "exception": null,
   "input_path": "__notebook__.ipynb",
   "output_path": "__notebook__.ipynb",
   "parameters": {},
   "start_time": "2022-11-26T18:52:37.314860",
   "version": "2.3.4"
  }
 },
 "nbformat": 4,
 "nbformat_minor": 5
}
